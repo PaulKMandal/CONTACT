{
 "cells": [
  {
   "cell_type": "code",
   "execution_count": 1,
   "id": "e610dfc4-42e8-4803-bbde-c15782c71b01",
   "metadata": {},
   "outputs": [
    {
     "name": "stderr",
     "output_type": "stream",
     "text": [
      "/home/paul/.local/lib/python3.10/site-packages/tqdm/auto.py:22: TqdmWarning: IProgress not found. Please update jupyter and ipywidgets. See https://ipywidgets.readthedocs.io/en/stable/user_install.html\n",
      "  from .autonotebook import tqdm as notebook_tqdm\n"
     ]
    }
   ],
   "source": [
    "from transformers import AutoTokenizer, AutoModelForQuestionAnswering\n",
    "import torch\n",
    "\n",
    "tokenizer = AutoTokenizer.from_pretrained(\"AlexKay/xlm-roberta-large-qa-multilingual-finedtuned-ru\")\n",
    "model = AutoModelForQuestionAnswering.from_pretrained(\"AlexKay/xlm-roberta-large-qa-multilingual-finedtuned-ru\")"
   ]
  },
  {
   "cell_type": "code",
   "execution_count": 2,
   "id": "3e64a5b5-b2a2-4cff-bd9c-9515879912a1",
   "metadata": {},
   "outputs": [],
   "source": [
    "import requests\n",
    "from bs4 import BeautifulSoup\n",
    "\n",
    "# Replace with the URL of the article page you want to scrape\n",
    "url = \"https://time.com/isis-mosul/\"\n",
    "\n",
    "# Send an HTTP GET request to the URL\n",
    "response = requests.get(url)\n",
    "\n",
    "# Parse the HTML content of the page\n",
    "soup = BeautifulSoup(response.content, \"html.parser\")\n",
    "\n",
    "# Find the HTML element(s) containing the article content\n",
    "article_body = soup.find(\"div\", class_=\"article-body\")  # Replace with the actual HTML structure of the article body\n",
    "\n",
    "# Print or save the article content\n",
    "if article_body:\n",
    "    text = article_body.get_text()\n",
    "else:\n",
    "    print(\"Article body not found.\")"
   ]
  },
  {
   "cell_type": "code",
   "execution_count": 3,
   "id": "fb4c7546-f4bb-4499-9e40-f84fd4cd4855",
   "metadata": {},
   "outputs": [
    {
     "name": "stdout",
     "output_type": "stream",
     "text": [
      "\n",
      "\n",
      "A revealing look inside the country’s fight with ISIS—and itself\n",
      "By Jared Malsin / Erbil | Photographs by Yuri Kozyrev for time\n",
      "\n",
      " Yuri Kozyrev—Noor for TIME\n",
      "When fighters with the Islamic State of Iraq and Greater Syria swept across Iraq in the summer of 2014, the largest prize they claimed was the city of Mosul. The jihadists forced the Iraqi military and a large portion of the city’s population to flee. With roughly 600,000 residents remaining, Mosul is the largest population center under ISIS control, a key source of prestige and resources and a living advertisement for the group’s claim that it is building a state.\n",
      "In March, the Iraqi government announced the launch of a military operation to retake Mosul, but so far the campaign has only made incremental progress, reclaiming a series of villages with the help of the U.S.-led military coalition against ISIS. The Iraqi military lacks the troops to launch a full-scale assault on the city, and in late May the government committed troops to a separate campaign to retake Fallujah, another key ISIS-held city that lies closer to Baghdad. Pro-government forces retook the center of Fallujah on June 17. Iraqi Prime Minister Haider al-Abadi declared on Twitter, “Fallujah has returned to the nation and Mosul is the next battle.”\n",
      "\n",
      "But Mosul won’t be easy, and it’s not just because of the military challenge. The Mosul campaign is complicated by a political stalemate within Iraq. The military is expected to rely on powerful Kurdish militias to help pave the to Mosul, but the semi-autonomous Kurdish government in northern Iraq has yet to commit to the operation, claiming they are not properly equipped for an attack on the city. In Fallujah and other battles, the government has relied on Shi’ite-majority militias called “hashd al-shabi,” or popular mobilization forces. Prime Minister Abadi said in February that the militias would join the battle for Mosul, but to date none of them have been sent to the front lines approaching \n"
     ]
    },
    {
     "name": "stderr",
     "output_type": "stream",
     "text": [
      "2023-10-13 14:03:36.930051: I tensorflow/core/platform/cpu_feature_guard.cc:182] This TensorFlow binary is optimized to use available CPU instructions in performance-critical operations.\n",
      "To enable the following instructions: AVX2 FMA, in other operations, rebuild TensorFlow with the appropriate compiler flags.\n",
      "2023-10-13 14:03:37.820827: W tensorflow/compiler/tf2tensorrt/utils/py_utils.cc:38] TF-TRT Warning: Could not find TensorRT\n"
     ]
    },
    {
     "data": {
      "text/plain": [
       "'has only made incremental progress'"
      ]
     },
     "execution_count": 3,
     "metadata": {},
     "output_type": "execute_result"
    }
   ],
   "source": [
    "question, text = \"Did ISIS win?\", text#article_body.get_text()\n",
    "context = ''\n",
    "for i in range(len(text)):\n",
    "    if i < 2000:\n",
    "        context = context + text[i]\n",
    "print(context)\n",
    "inputs = tokenizer(question, context, return_tensors=\"pt\")\n",
    "with torch.no_grad():\n",
    "    outputs = model(**inputs)\n",
    "\n",
    "answer_start_index = outputs.start_logits.argmax()\n",
    "answer_end_index = outputs.end_logits.argmax()\n",
    "\n",
    "predict_answer_tokens = inputs.input_ids[0, answer_start_index : answer_end_index + 1]\n",
    "tokenizer.decode(predict_answer_tokens, skip_special_tokens=True)"
   ]
  },
  {
   "cell_type": "code",
   "execution_count": null,
   "id": "46c02b5c-0334-46ea-8b49-6d32f0c6db95",
   "metadata": {},
   "outputs": [],
   "source": []
  }
 ],
 "metadata": {
  "kernelspec": {
   "display_name": "Python 3 (ipykernel)",
   "language": "python",
   "name": "python3"
  },
  "language_info": {
   "codemirror_mode": {
    "name": "ipython",
    "version": 3
   },
   "file_extension": ".py",
   "mimetype": "text/x-python",
   "name": "python",
   "nbconvert_exporter": "python",
   "pygments_lexer": "ipython3",
   "version": "3.10.9"
  }
 },
 "nbformat": 4,
 "nbformat_minor": 5
}
