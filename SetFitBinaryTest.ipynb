{
 "cells": [
  {
   "cell_type": "code",
   "execution_count": 1,
   "id": "b131c73d-01b6-47ce-b179-dcb8ed1ba9e0",
   "metadata": {},
   "outputs": [
    {
     "name": "stderr",
     "output_type": "stream",
     "text": [
      "/home/paul/.local/lib/python3.10/site-packages/tqdm/auto.py:22: TqdmWarning: IProgress not found. Please update jupyter and ipywidgets. See https://ipywidgets.readthedocs.io/en/stable/user_install.html\n",
      "  from .autonotebook import tqdm as notebook_tqdm\n",
      "2023-10-17 12:09:05.311372: I tensorflow/core/platform/cpu_feature_guard.cc:182] This TensorFlow binary is optimized to use available CPU instructions in performance-critical operations.\n",
      "To enable the following instructions: AVX2 FMA, in other operations, rebuild TensorFlow with the appropriate compiler flags.\n",
      "2023-10-17 12:09:06.931492: W tensorflow/compiler/tf2tensorrt/utils/py_utils.cc:38] TF-TRT Warning: Could not find TensorRT\n"
     ]
    }
   ],
   "source": [
    "from datasets import load_dataset\n",
    "from sentence_transformers.losses import CosineSimilarityLoss\n",
    "\n",
    "from setfit import SetFitModel, SetFitTrainer"
   ]
  },
  {
   "cell_type": "code",
   "execution_count": 2,
   "id": "607e247b-3c2a-4ac4-abd3-745a220f0e25",
   "metadata": {},
   "outputs": [
    {
     "name": "stderr",
     "output_type": "stream",
     "text": [
      "Downloading readme: 100%|█| 447/447 [00:00<00:00, 115kB/s]\n",
      "Repo card metadata block was not found. Setting CardData to empty.\n",
      "Downloading data files:   0%|       | 0/2 [00:00<?, ?it/s]\n",
      "Downloading data:   0%|        | 0.00/427k [00:00<?, ?B/s]\u001b[A\n",
      "Downloading data: 100%|█| 427k/427k [00:00<00:00, 2.62MB/s\u001b[A\n",
      "Downloading data files:  50%|▌| 1/2 [00:00<00:00,  5.51it/\n",
      "Downloading data: 100%|█| 109k/109k [00:00<00:00, 1.25MB/s\u001b[A\n",
      "Downloading data files: 100%|█| 2/2 [00:00<00:00,  7.00it/\n",
      "Extracting data files: 100%|█| 2/2 [00:00<00:00, 392.08it/\n",
      "Generating train split: 3012 examples [00:00, 80956.38 examples/s]\n",
      "Generating test split: 753 examples [00:00, 162841.50 examples/s]\n"
     ]
    }
   ],
   "source": [
    "dataset = load_dataset(\"SetFit/SentEval-CR\")"
   ]
  },
  {
   "cell_type": "code",
   "execution_count": 17,
   "id": "2acc3c10-d886-4004-b0da-c35aac632088",
   "metadata": {},
   "outputs": [
    {
     "data": {
      "text/plain": [
       "DatasetDict({\n",
       "    train: Dataset({\n",
       "        features: ['text', 'label', 'label_text'],\n",
       "        num_rows: 3012\n",
       "    })\n",
       "    test: Dataset({\n",
       "        features: ['text', 'label', 'label_text'],\n",
       "        num_rows: 753\n",
       "    })\n",
       "})"
      ]
     },
     "execution_count": 17,
     "metadata": {},
     "output_type": "execute_result"
    }
   ],
   "source": [
    "dataset"
   ]
  },
  {
   "cell_type": "code",
   "execution_count": 15,
   "id": "14279cf7-5df6-45e0-a3c0-12df10549f76",
   "metadata": {},
   "outputs": [
    {
     "data": {
      "text/plain": [
       "{'text': 'the customer support is pathetic .',\n",
       " 'label': 0,\n",
       " 'label_text': 'negative'}"
      ]
     },
     "execution_count": 15,
     "metadata": {},
     "output_type": "execute_result"
    }
   ],
   "source": [
    "dataset['train'][1000]"
   ]
  },
  {
   "cell_type": "code",
   "execution_count": 11,
   "id": "8c67836f-adef-44da-b085-722d73bb7c52",
   "metadata": {},
   "outputs": [],
   "source": [
    "train_ds = dataset[\"train\"].shuffle(seed=42).select(range(8 * 2))\n",
    "test_ds = dataset[\"test\"]"
   ]
  },
  {
   "cell_type": "code",
   "execution_count": 13,
   "id": "302df3bd-df3e-4a8a-9046-9079677fb712",
   "metadata": {},
   "outputs": [
    {
     "name": "stderr",
     "output_type": "stream",
     "text": [
      "Downloading (…)lve/main/config.json: 100%|█| 594/594 [00:0\n",
      "Downloading (…)f39ef/.gitattributes: 100%|█| 690/690 [00:0\n",
      "Downloading (…)_Pooling/config.json: 100%|█| 190/190 [00:0\n",
      "Downloading (…)0182ff39ef/README.md: 100%|█| 3.70k/3.70k [\n",
      "Downloading (…)82ff39ef/config.json: 100%|█| 594/594 [00:0\n",
      "Downloading (…)ce_transformers.json: 100%|█| 122/122 [00:0\n",
      "Downloading pytorch_model.bin: 100%|█| 438M/438M [00:23<00\n",
      "Downloading (…)nce_bert_config.json: 100%|█| 53.0/53.0 [00\n",
      "Downloading (…)cial_tokens_map.json: 100%|█| 239/239 [00:0\n",
      "Downloading (…)f39ef/tokenizer.json: 100%|█| 466k/466k [00\n",
      "Downloading (…)okenizer_config.json: 100%|█| 1.19k/1.19k [\n",
      "Downloading (…)0182ff39ef/vocab.txt: 100%|█| 232k/232k [00\n",
      "Downloading (…)2ff39ef/modules.json: 100%|█| 229/229 [00:0\n",
      "model_head.pkl not found on HuggingFace Hub, initialising classification head with random weights. You should TRAIN this model on a downstream task to use it for predictions and inference.\n"
     ]
    }
   ],
   "source": [
    "# Load SetFit model from Hub\n",
    "model = SetFitModel.from_pretrained(\"sentence-transformers/paraphrase-mpnet-base-v2\")\n",
    "\n",
    "# Create trainer\n",
    "trainer = SetFitTrainer(\n",
    "    model=model,\n",
    "    train_dataset=train_ds,\n",
    "    eval_dataset=test_ds,\n",
    "    loss_class=CosineSimilarityLoss,\n",
    "    batch_size=16,\n",
    "    num_iterations=20, # Number of text pairs to generate for contrastive learning\n",
    "    num_epochs=1 # Number of epochs to use for contrastive learning\n",
    ")"
   ]
  },
  {
   "cell_type": "code",
   "execution_count": 16,
   "id": "c0861245-532f-495c-b297-be28044cd855",
   "metadata": {},
   "outputs": [
    {
     "name": "stderr",
     "output_type": "stream",
     "text": [
      "Generating Training Pairs: 100%|█| 20/20 [00:00<00:00, 119\n",
      "***** Running training *****\n",
      "  Num examples = 640\n",
      "  Num epochs = 1\n",
      "  Total optimization steps = 40\n",
      "  Total train batch size = 16\n",
      "Epoch:   0%|                        | 0/1 [00:00<?, ?it/s]\n",
      "Iteration:   0%|                   | 0/40 [00:00<?, ?it/s]\u001b[A\n",
      "Iteration:   2%|▎          | 1/40 [00:02<01:19,  2.03s/it]\u001b[A\n",
      "Iteration:   5%|▌          | 2/40 [00:02<00:41,  1.11s/it]\u001b[A\n",
      "Iteration:   8%|▊          | 3/40 [00:02<00:29,  1.26it/s]\u001b[A\n",
      "Iteration:  10%|█          | 4/40 [00:02<00:23,  1.56it/s]\u001b[A\n",
      "Iteration:  12%|█▍         | 5/40 [00:02<00:19,  1.83it/s]\u001b[A\n",
      "Iteration:  15%|█▋         | 6/40 [00:03<00:16,  2.07it/s]\u001b[A\n",
      "Iteration:  18%|█▉         | 7/40 [00:03<00:14,  2.22it/s]\u001b[A\n",
      "Iteration:  20%|██▏        | 8/40 [00:03<00:13,  2.40it/s]\u001b[A\n",
      "Iteration:  22%|██▍        | 9/40 [00:03<00:12,  2.54it/s]\u001b[A\n",
      "Iteration:  25%|██▌       | 10/40 [00:04<00:11,  2.68it/s]\u001b[A\n",
      "Iteration:  28%|██▊       | 11/40 [00:04<00:10,  2.81it/s]\u001b[A\n",
      "Iteration:  30%|███       | 12/40 [00:04<00:09,  2.93it/s]\u001b[A\n",
      "Iteration:  32%|███▎      | 13/40 [00:04<00:08,  3.06it/s]\u001b[A\n",
      "Iteration:  35%|███▌      | 14/40 [00:04<00:08,  3.16it/s]\u001b[A\n",
      "Iteration:  38%|███▊      | 15/40 [00:05<00:07,  3.26it/s]\u001b[A\n",
      "Iteration:  40%|████      | 16/40 [00:05<00:07,  3.36it/s]\u001b[A\n",
      "Iteration:  42%|████▎     | 17/40 [00:05<00:06,  3.42it/s]\u001b[A\n",
      "Iteration:  45%|████▌     | 18/40 [00:05<00:06,  3.50it/s]\u001b[A\n",
      "Iteration:  48%|████▊     | 19/40 [00:06<00:05,  3.57it/s]\u001b[A\n",
      "Iteration:  50%|█████     | 20/40 [00:06<00:05,  3.64it/s]\u001b[A\n",
      "Iteration:  52%|█████▎    | 21/40 [00:06<00:05,  3.70it/s]\u001b[A\n",
      "Iteration:  55%|█████▌    | 22/40 [00:06<00:04,  3.73it/s]\u001b[A\n",
      "Iteration:  57%|█████▊    | 23/40 [00:06<00:04,  3.78it/s]\u001b[A\n",
      "Iteration:  60%|██████    | 24/40 [00:07<00:04,  3.83it/s]\u001b[A\n",
      "Iteration:  62%|██████▎   | 25/40 [00:07<00:03,  3.88it/s]\u001b[A\n",
      "Iteration:  65%|██████▌   | 26/40 [00:07<00:03,  3.95it/s]\u001b[A\n",
      "Iteration:  68%|██████▊   | 27/40 [00:07<00:03,  3.98it/s]\u001b[A\n",
      "Iteration:  70%|███████   | 28/40 [00:08<00:03,  4.00it/s]\u001b[A\n",
      "Iteration:  72%|███████▎  | 29/40 [00:08<00:02,  4.03it/s]\u001b[A\n",
      "Iteration:  75%|███████▌  | 30/40 [00:08<00:02,  4.06it/s]\u001b[A\n",
      "Iteration:  78%|███████▊  | 31/40 [00:08<00:02,  4.13it/s]\u001b[A\n",
      "Iteration:  80%|████████  | 32/40 [00:08<00:01,  4.18it/s]\u001b[A\n",
      "Iteration:  82%|████████▎ | 33/40 [00:09<00:01,  4.20it/s]\u001b[A\n",
      "Iteration:  85%|████████▌ | 34/40 [00:09<00:01,  4.22it/s]\u001b[A\n",
      "Iteration:  88%|████████▊ | 35/40 [00:09<00:01,  4.24it/s]\u001b[A\n",
      "Iteration:  90%|█████████ | 36/40 [00:09<00:00,  4.29it/s]\u001b[A\n",
      "Iteration:  92%|█████████▎| 37/40 [00:09<00:00,  4.31it/s]\u001b[A\n",
      "Iteration:  95%|█████████▌| 38/40 [00:10<00:00,  4.31it/s]\u001b[A\n",
      "Iteration:  98%|█████████▊| 39/40 [00:10<00:00,  4.30it/s]\u001b[A\n",
      "Iteration: 100%|██████████| 40/40 [00:10<00:00,  3.76it/s]\u001b[A\n",
      "Epoch: 100%|████████████████| 1/1 [00:10<00:00, 10.67s/it]\n",
      "***** Running evaluation *****\n",
      "Downloading builder script: 100%|█| 4.20k/4.20k [00:00<00:\n"
     ]
    }
   ],
   "source": [
    "trainer.train()\n",
    "metrics = trainer.evaluate()"
   ]
  },
  {
   "cell_type": "code",
   "execution_count": 18,
   "id": "6a6f83e8-fd77-46a8-ab6c-e988209564b8",
   "metadata": {},
   "outputs": [
    {
     "data": {
      "text/plain": [
       "{'accuracy': 0.849933598937583}"
      ]
     },
     "execution_count": 18,
     "metadata": {},
     "output_type": "execute_result"
    }
   ],
   "source": [
    "metrics"
   ]
  },
  {
   "cell_type": "code",
   "execution_count": null,
   "id": "585f216a-b417-4f9d-b5f5-6316fd9a798a",
   "metadata": {},
   "outputs": [],
   "source": []
  }
 ],
 "metadata": {
  "kernelspec": {
   "display_name": "Python 3 (ipykernel)",
   "language": "python",
   "name": "python3"
  },
  "language_info": {
   "codemirror_mode": {
    "name": "ipython",
    "version": 3
   },
   "file_extension": ".py",
   "mimetype": "text/x-python",
   "name": "python",
   "nbconvert_exporter": "python",
   "pygments_lexer": "ipython3",
   "version": "3.10.9"
  }
 },
 "nbformat": 4,
 "nbformat_minor": 5
}
