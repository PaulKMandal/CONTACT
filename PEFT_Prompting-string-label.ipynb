{
 "cells": [
  {
   "cell_type": "code",
   "execution_count": 95,
   "id": "26ed27a6-792e-47d2-a987-713a3a07fdf3",
   "metadata": {},
   "outputs": [],
   "source": [
    "from scraper.scrape_utils import wayback_scraper, get_article\n",
    "import numpy as np\n",
    "import pandas as pd"
   ]
  },
  {
   "cell_type": "code",
   "execution_count": 96,
   "id": "87039f39-d97d-47f6-b69f-1eeb1f9614b5",
   "metadata": {},
   "outputs": [],
   "source": [
    "df = pd.read_csv('train_data/v1/data.csv')"
   ]
  },
  {
   "cell_type": "code",
   "execution_count": 97,
   "id": "c589eaee-8978-48c6-b142-e801e4a6b72f",
   "metadata": {},
   "outputs": [],
   "source": [
    "di = {True: 1, False: 0}"
   ]
  },
  {
   "cell_type": "code",
   "execution_count": 98,
   "id": "f4eff681-840f-4093-bc7a-3d9bd8cedb65",
   "metadata": {},
   "outputs": [],
   "source": [
    "df = df.replace(di)"
   ]
  },
  {
   "cell_type": "code",
   "execution_count": 99,
   "id": "75550f10-43f2-4d75-b3bc-ef150b794dbf",
   "metadata": {},
   "outputs": [
    {
     "data": {
      "text/html": [
       "<div>\n",
       "<style scoped>\n",
       "    .dataframe tbody tr th:only-of-type {\n",
       "        vertical-align: middle;\n",
       "    }\n",
       "\n",
       "    .dataframe tbody tr th {\n",
       "        vertical-align: top;\n",
       "    }\n",
       "\n",
       "    .dataframe thead th {\n",
       "        text-align: right;\n",
       "    }\n",
       "</style>\n",
       "<table border=\"1\" class=\"dataframe\">\n",
       "  <thead>\n",
       "    <tr style=\"text-align: right;\">\n",
       "      <th></th>\n",
       "      <th>url</th>\n",
       "      <th>t_mil</th>\n",
       "      <th>t_loc</th>\n",
       "      <th>t_milcas</th>\n",
       "      <th>t_civcas</th>\n",
       "      <th>t_isis_vic</th>\n",
       "      <th>date</th>\n",
       "    </tr>\n",
       "  </thead>\n",
       "  <tbody>\n",
       "    <tr>\n",
       "      <th>0</th>\n",
       "      <td>https://www.cnn.com/2019/03/23/middleeast/isis...</td>\n",
       "      <td>1</td>\n",
       "      <td>1</td>\n",
       "      <td>0</td>\n",
       "      <td>0</td>\n",
       "      <td>0</td>\n",
       "      <td>03/23/19</td>\n",
       "    </tr>\n",
       "    <tr>\n",
       "      <th>1</th>\n",
       "      <td>https://www.cnn.com/2017/06/25/asia/philippine...</td>\n",
       "      <td>1</td>\n",
       "      <td>1</td>\n",
       "      <td>1</td>\n",
       "      <td>0</td>\n",
       "      <td>1</td>\n",
       "      <td>08/24/17</td>\n",
       "    </tr>\n",
       "    <tr>\n",
       "      <th>2</th>\n",
       "      <td>https://www.cnn.com/2017/06/06/middleeast/raqq...</td>\n",
       "      <td>1</td>\n",
       "      <td>1</td>\n",
       "      <td>0</td>\n",
       "      <td>0</td>\n",
       "      <td>1</td>\n",
       "      <td>06/06/17</td>\n",
       "    </tr>\n",
       "    <tr>\n",
       "      <th>3</th>\n",
       "      <td>https://fox2now.com/news/isis-in-the-crosshair...</td>\n",
       "      <td>1</td>\n",
       "      <td>1</td>\n",
       "      <td>0</td>\n",
       "      <td>0</td>\n",
       "      <td>0</td>\n",
       "      <td>08/16/16</td>\n",
       "    </tr>\n",
       "    <tr>\n",
       "      <th>4</th>\n",
       "      <td>https://www.cnn.com/2016/12/12/middleeast/palm...</td>\n",
       "      <td>1</td>\n",
       "      <td>1</td>\n",
       "      <td>1</td>\n",
       "      <td>0</td>\n",
       "      <td>1</td>\n",
       "      <td>09/12/16</td>\n",
       "    </tr>\n",
       "    <tr>\n",
       "      <th>5</th>\n",
       "      <td>https://www.fox13seattle.com/news/obama-were-i...</td>\n",
       "      <td>1</td>\n",
       "      <td>1</td>\n",
       "      <td>1</td>\n",
       "      <td>1</td>\n",
       "      <td>0</td>\n",
       "      <td>11/09/14</td>\n",
       "    </tr>\n",
       "    <tr>\n",
       "      <th>6</th>\n",
       "      <td>https://www.nbcnews.com/storyline/isis-terror/...</td>\n",
       "      <td>1</td>\n",
       "      <td>1</td>\n",
       "      <td>0</td>\n",
       "      <td>0</td>\n",
       "      <td>0</td>\n",
       "      <td>12/21/15</td>\n",
       "    </tr>\n",
       "    <tr>\n",
       "      <th>7</th>\n",
       "      <td>http://fingfx.thomsonreuters.com/gfx/rngs/PHIL...</td>\n",
       "      <td>1</td>\n",
       "      <td>1</td>\n",
       "      <td>1</td>\n",
       "      <td>0</td>\n",
       "      <td>1</td>\n",
       "      <td>05/25/17</td>\n",
       "    </tr>\n",
       "    <tr>\n",
       "      <th>8</th>\n",
       "      <td>https://www.defense.gov/News/News-Stories/Arti...</td>\n",
       "      <td>1</td>\n",
       "      <td>1</td>\n",
       "      <td>0</td>\n",
       "      <td>0</td>\n",
       "      <td>1</td>\n",
       "      <td>03/13/17</td>\n",
       "    </tr>\n",
       "    <tr>\n",
       "      <th>9</th>\n",
       "      <td>https://www.cnbc.com/2014/10/25/iraq-notches-v...</td>\n",
       "      <td>1</td>\n",
       "      <td>1</td>\n",
       "      <td>1</td>\n",
       "      <td>0</td>\n",
       "      <td>0</td>\n",
       "      <td>10/25/14</td>\n",
       "    </tr>\n",
       "    <tr>\n",
       "      <th>10</th>\n",
       "      <td>https://www.cnbc.com/2015/04/07/isis-in-damasc...</td>\n",
       "      <td>1</td>\n",
       "      <td>1</td>\n",
       "      <td>0</td>\n",
       "      <td>0</td>\n",
       "      <td>1</td>\n",
       "      <td>04/07/15</td>\n",
       "    </tr>\n",
       "    <tr>\n",
       "      <th>11</th>\n",
       "      <td>https://www.cnbc.com/2017/03/31/islamic-state-...</td>\n",
       "      <td>0</td>\n",
       "      <td>0</td>\n",
       "      <td>0</td>\n",
       "      <td>0</td>\n",
       "      <td>0</td>\n",
       "      <td>03/31/17</td>\n",
       "    </tr>\n",
       "    <tr>\n",
       "      <th>12</th>\n",
       "      <td>https://www.aljazeera.com/news/2015/9/1/street...</td>\n",
       "      <td>1</td>\n",
       "      <td>1</td>\n",
       "      <td>1</td>\n",
       "      <td>1</td>\n",
       "      <td>1</td>\n",
       "      <td>09/01/15</td>\n",
       "    </tr>\n",
       "    <tr>\n",
       "      <th>13</th>\n",
       "      <td>https://www.cnn.com/2015/12/28/middleeast/iraq...</td>\n",
       "      <td>1</td>\n",
       "      <td>1</td>\n",
       "      <td>0</td>\n",
       "      <td>0</td>\n",
       "      <td>0</td>\n",
       "      <td>12/29/15</td>\n",
       "    </tr>\n",
       "    <tr>\n",
       "      <th>14</th>\n",
       "      <td>https://www.cnn.com/2015/01/26/middleeast/syri...</td>\n",
       "      <td>1</td>\n",
       "      <td>1</td>\n",
       "      <td>1</td>\n",
       "      <td>1</td>\n",
       "      <td>0</td>\n",
       "      <td>01/27/15</td>\n",
       "    </tr>\n",
       "    <tr>\n",
       "      <th>15</th>\n",
       "      <td>https://www.cnn.com/videos/intl_world/2015/01/...</td>\n",
       "      <td>1</td>\n",
       "      <td>1</td>\n",
       "      <td>0</td>\n",
       "      <td>0</td>\n",
       "      <td>0</td>\n",
       "      <td>NONE</td>\n",
       "    </tr>\n",
       "    <tr>\n",
       "      <th>16</th>\n",
       "      <td>https://www.cnn.com/2015/12/07/world/syria-kur...</td>\n",
       "      <td>1</td>\n",
       "      <td>1</td>\n",
       "      <td>0</td>\n",
       "      <td>0</td>\n",
       "      <td>0</td>\n",
       "      <td>02/26/19</td>\n",
       "    </tr>\n",
       "    <tr>\n",
       "      <th>17</th>\n",
       "      <td>https://www.cnn.com/2015/05/05/middleeast/syri...</td>\n",
       "      <td>0</td>\n",
       "      <td>1</td>\n",
       "      <td>0</td>\n",
       "      <td>0</td>\n",
       "      <td>0</td>\n",
       "      <td>05/05/15</td>\n",
       "    </tr>\n",
       "    <tr>\n",
       "      <th>18</th>\n",
       "      <td>https://www.cnn.com/2016/12/12/middleeast/palm...</td>\n",
       "      <td>1</td>\n",
       "      <td>1</td>\n",
       "      <td>1</td>\n",
       "      <td>0</td>\n",
       "      <td>1</td>\n",
       "      <td>09/12/16</td>\n",
       "    </tr>\n",
       "    <tr>\n",
       "      <th>19</th>\n",
       "      <td>https://www.cnbc.com/2015/04/07/isis-in-damasc...</td>\n",
       "      <td>1</td>\n",
       "      <td>1</td>\n",
       "      <td>0</td>\n",
       "      <td>0</td>\n",
       "      <td>1</td>\n",
       "      <td>04/07/15</td>\n",
       "    </tr>\n",
       "  </tbody>\n",
       "</table>\n",
       "</div>"
      ],
      "text/plain": [
       "                                                  url  t_mil  t_loc  t_milcas  \\\n",
       "0   https://www.cnn.com/2019/03/23/middleeast/isis...      1      1         0   \n",
       "1   https://www.cnn.com/2017/06/25/asia/philippine...      1      1         1   \n",
       "2   https://www.cnn.com/2017/06/06/middleeast/raqq...      1      1         0   \n",
       "3   https://fox2now.com/news/isis-in-the-crosshair...      1      1         0   \n",
       "4   https://www.cnn.com/2016/12/12/middleeast/palm...      1      1         1   \n",
       "5   https://www.fox13seattle.com/news/obama-were-i...      1      1         1   \n",
       "6   https://www.nbcnews.com/storyline/isis-terror/...      1      1         0   \n",
       "7   http://fingfx.thomsonreuters.com/gfx/rngs/PHIL...      1      1         1   \n",
       "8   https://www.defense.gov/News/News-Stories/Arti...      1      1         0   \n",
       "9   https://www.cnbc.com/2014/10/25/iraq-notches-v...      1      1         1   \n",
       "10  https://www.cnbc.com/2015/04/07/isis-in-damasc...      1      1         0   \n",
       "11  https://www.cnbc.com/2017/03/31/islamic-state-...      0      0         0   \n",
       "12  https://www.aljazeera.com/news/2015/9/1/street...      1      1         1   \n",
       "13  https://www.cnn.com/2015/12/28/middleeast/iraq...      1      1         0   \n",
       "14  https://www.cnn.com/2015/01/26/middleeast/syri...      1      1         1   \n",
       "15  https://www.cnn.com/videos/intl_world/2015/01/...      1      1         0   \n",
       "16  https://www.cnn.com/2015/12/07/world/syria-kur...      1      1         0   \n",
       "17  https://www.cnn.com/2015/05/05/middleeast/syri...      0      1         0   \n",
       "18  https://www.cnn.com/2016/12/12/middleeast/palm...      1      1         1   \n",
       "19  https://www.cnbc.com/2015/04/07/isis-in-damasc...      1      1         0   \n",
       "\n",
       "    t_civcas  t_isis_vic      date  \n",
       "0          0           0  03/23/19  \n",
       "1          0           1  08/24/17  \n",
       "2          0           1  06/06/17  \n",
       "3          0           0  08/16/16  \n",
       "4          0           1  09/12/16  \n",
       "5          1           0  11/09/14  \n",
       "6          0           0  12/21/15  \n",
       "7          0           1  05/25/17  \n",
       "8          0           1  03/13/17  \n",
       "9          0           0  10/25/14  \n",
       "10         0           1  04/07/15  \n",
       "11         0           0  03/31/17  \n",
       "12         1           1  09/01/15  \n",
       "13         0           0  12/29/15  \n",
       "14         1           0  01/27/15  \n",
       "15         0           0      NONE  \n",
       "16         0           0  02/26/19  \n",
       "17         0           0  05/05/15  \n",
       "18         0           1  09/12/16  \n",
       "19         0           1  04/07/15  "
      ]
     },
     "execution_count": 99,
     "metadata": {},
     "output_type": "execute_result"
    }
   ],
   "source": [
    "df"
   ]
  },
  {
   "cell_type": "code",
   "execution_count": 100,
   "id": "f79bf708-b4df-4c96-b149-0cc98f3ee206",
   "metadata": {},
   "outputs": [],
   "source": [
    "text = []\n",
    "for url in df['url'].array:\n",
    "    text.append(get_article(url))"
   ]
  },
  {
   "cell_type": "code",
   "execution_count": 101,
   "id": "fa7af80e-a45f-49ba-9adc-cad798636f27",
   "metadata": {},
   "outputs": [],
   "source": [
    "df['text'] = text"
   ]
  },
  {
   "cell_type": "code",
   "execution_count": 102,
   "id": "4d89812b-ba83-45e8-b9fd-6e4011ebe581",
   "metadata": {},
   "outputs": [],
   "source": [
    "df['text'].replace('', np.nan, inplace=True)"
   ]
  },
  {
   "cell_type": "code",
   "execution_count": 103,
   "id": "57e6da9d-68c9-46e8-8981-86b04b6bfcc1",
   "metadata": {},
   "outputs": [],
   "source": [
    "df.dropna(subset=['text'], inplace=True)"
   ]
  },
  {
   "cell_type": "code",
   "execution_count": 104,
   "id": "edc47364-b7fd-42a6-8f8d-77c3137d5c9d",
   "metadata": {},
   "outputs": [],
   "source": [
    "df['text'] = [elem[:512] for elem in df['text']]"
   ]
  },
  {
   "cell_type": "code",
   "execution_count": 105,
   "id": "6ba1be1b-88b9-4a52-84fc-ba1c906950ae",
   "metadata": {},
   "outputs": [
    {
     "data": {
      "text/html": [
       "<div>\n",
       "<style scoped>\n",
       "    .dataframe tbody tr th:only-of-type {\n",
       "        vertical-align: middle;\n",
       "    }\n",
       "\n",
       "    .dataframe tbody tr th {\n",
       "        vertical-align: top;\n",
       "    }\n",
       "\n",
       "    .dataframe thead th {\n",
       "        text-align: right;\n",
       "    }\n",
       "</style>\n",
       "<table border=\"1\" class=\"dataframe\">\n",
       "  <thead>\n",
       "    <tr style=\"text-align: right;\">\n",
       "      <th></th>\n",
       "      <th>url</th>\n",
       "      <th>t_mil</th>\n",
       "      <th>t_loc</th>\n",
       "      <th>t_milcas</th>\n",
       "      <th>t_civcas</th>\n",
       "      <th>t_isis_vic</th>\n",
       "      <th>date</th>\n",
       "      <th>text</th>\n",
       "    </tr>\n",
       "  </thead>\n",
       "  <tbody>\n",
       "    <tr>\n",
       "      <th>0</th>\n",
       "      <td>https://www.cnn.com/2019/03/23/middleeast/isis...</td>\n",
       "      <td>1</td>\n",
       "      <td>1</td>\n",
       "      <td>0</td>\n",
       "      <td>0</td>\n",
       "      <td>0</td>\n",
       "      <td>03/23/19</td>\n",
       "      <td>Eastern Syria CNN —\\n\\nISIS has lost its final...</td>\n",
       "    </tr>\n",
       "    <tr>\n",
       "      <th>1</th>\n",
       "      <td>https://www.cnn.com/2017/06/25/asia/philippine...</td>\n",
       "      <td>1</td>\n",
       "      <td>1</td>\n",
       "      <td>1</td>\n",
       "      <td>0</td>\n",
       "      <td>1</td>\n",
       "      <td>08/24/17</td>\n",
       "      <td>Iligan, Philippines CNN —\\n\\nDuring the rainy ...</td>\n",
       "    </tr>\n",
       "    <tr>\n",
       "      <th>2</th>\n",
       "      <td>https://www.cnn.com/2017/06/06/middleeast/raqq...</td>\n",
       "      <td>1</td>\n",
       "      <td>1</td>\n",
       "      <td>0</td>\n",
       "      <td>0</td>\n",
       "      <td>1</td>\n",
       "      <td>06/06/17</td>\n",
       "      <td>Story highlights US-backed forces have been pu...</td>\n",
       "    </tr>\n",
       "    <tr>\n",
       "      <th>3</th>\n",
       "      <td>https://fox2now.com/news/isis-in-the-crosshair...</td>\n",
       "      <td>1</td>\n",
       "      <td>1</td>\n",
       "      <td>0</td>\n",
       "      <td>0</td>\n",
       "      <td>0</td>\n",
       "      <td>08/16/16</td>\n",
       "      <td>This is an archived article and the informatio...</td>\n",
       "    </tr>\n",
       "    <tr>\n",
       "      <th>4</th>\n",
       "      <td>https://www.cnn.com/2016/12/12/middleeast/palm...</td>\n",
       "      <td>1</td>\n",
       "      <td>1</td>\n",
       "      <td>1</td>\n",
       "      <td>0</td>\n",
       "      <td>1</td>\n",
       "      <td>09/12/16</td>\n",
       "      <td>Story highlights ISIS in control of ancient ci...</td>\n",
       "    </tr>\n",
       "    <tr>\n",
       "      <th>5</th>\n",
       "      <td>https://www.fox13seattle.com/news/obama-were-i...</td>\n",
       "      <td>1</td>\n",
       "      <td>1</td>\n",
       "      <td>1</td>\n",
       "      <td>1</td>\n",
       "      <td>0</td>\n",
       "      <td>11/09/14</td>\n",
       "      <td>article\\n\\n\\n\\n\\n\\n(CNN) -- The decision to in...</td>\n",
       "    </tr>\n",
       "    <tr>\n",
       "      <th>6</th>\n",
       "      <td>https://www.nbcnews.com/storyline/isis-terror/...</td>\n",
       "      <td>1</td>\n",
       "      <td>1</td>\n",
       "      <td>0</td>\n",
       "      <td>0</td>\n",
       "      <td>0</td>\n",
       "      <td>12/21/15</td>\n",
       "      <td>A group of five men crouch behind a berm. Peri...</td>\n",
       "    </tr>\n",
       "    <tr>\n",
       "      <th>8</th>\n",
       "      <td>https://www.defense.gov/News/News-Stories/Arti...</td>\n",
       "      <td>1</td>\n",
       "      <td>1</td>\n",
       "      <td>0</td>\n",
       "      <td>0</td>\n",
       "      <td>1</td>\n",
       "      <td>03/13/17</td>\n",
       "      <td>Iraqi security forces are battling Islamic Sta...</td>\n",
       "    </tr>\n",
       "    <tr>\n",
       "      <th>9</th>\n",
       "      <td>https://www.cnbc.com/2014/10/25/iraq-notches-v...</td>\n",
       "      <td>1</td>\n",
       "      <td>1</td>\n",
       "      <td>1</td>\n",
       "      <td>0</td>\n",
       "      <td>0</td>\n",
       "      <td>10/25/14</td>\n",
       "      <td>Iraqi government forces and Shi'ite militias s...</td>\n",
       "    </tr>\n",
       "    <tr>\n",
       "      <th>10</th>\n",
       "      <td>https://www.cnbc.com/2015/04/07/isis-in-damasc...</td>\n",
       "      <td>1</td>\n",
       "      <td>1</td>\n",
       "      <td>0</td>\n",
       "      <td>0</td>\n",
       "      <td>1</td>\n",
       "      <td>04/07/15</td>\n",
       "      <td>The arrival of ISIS fighters in Syria's capita...</td>\n",
       "    </tr>\n",
       "    <tr>\n",
       "      <th>11</th>\n",
       "      <td>https://www.cnbc.com/2017/03/31/islamic-state-...</td>\n",
       "      <td>0</td>\n",
       "      <td>0</td>\n",
       "      <td>0</td>\n",
       "      <td>0</td>\n",
       "      <td>0</td>\n",
       "      <td>03/31/17</td>\n",
       "      <td>An Iraqi soldier holds an Islamic State flag d...</td>\n",
       "    </tr>\n",
       "    <tr>\n",
       "      <th>12</th>\n",
       "      <td>https://www.aljazeera.com/news/2015/9/1/street...</td>\n",
       "      <td>1</td>\n",
       "      <td>1</td>\n",
       "      <td>1</td>\n",
       "      <td>1</td>\n",
       "      <td>1</td>\n",
       "      <td>09/01/15</td>\n",
       "      <td>ISIL takes territory in south of Syria’s capit...</td>\n",
       "    </tr>\n",
       "    <tr>\n",
       "      <th>13</th>\n",
       "      <td>https://www.cnn.com/2015/12/28/middleeast/iraq...</td>\n",
       "      <td>1</td>\n",
       "      <td>1</td>\n",
       "      <td>0</td>\n",
       "      <td>0</td>\n",
       "      <td>0</td>\n",
       "      <td>12/29/15</td>\n",
       "      <td>Story highlights NEW: Spokesman for U.S.-led c...</td>\n",
       "    </tr>\n",
       "    <tr>\n",
       "      <th>14</th>\n",
       "      <td>https://www.cnn.com/2015/01/26/middleeast/syri...</td>\n",
       "      <td>1</td>\n",
       "      <td>1</td>\n",
       "      <td>1</td>\n",
       "      <td>1</td>\n",
       "      <td>0</td>\n",
       "      <td>01/27/15</td>\n",
       "      <td>Story highlights Kurds have taken control of s...</td>\n",
       "    </tr>\n",
       "    <tr>\n",
       "      <th>15</th>\n",
       "      <td>https://www.cnn.com/videos/intl_world/2015/01/...</td>\n",
       "      <td>1</td>\n",
       "      <td>1</td>\n",
       "      <td>0</td>\n",
       "      <td>0</td>\n",
       "      <td>0</td>\n",
       "      <td>NONE</td>\n",
       "      <td>1. How relevant is this ad to you?\\n\\nVideo pl...</td>\n",
       "    </tr>\n",
       "    <tr>\n",
       "      <th>16</th>\n",
       "      <td>https://www.cnn.com/2015/12/07/world/syria-kur...</td>\n",
       "      <td>1</td>\n",
       "      <td>1</td>\n",
       "      <td>0</td>\n",
       "      <td>0</td>\n",
       "      <td>0</td>\n",
       "      <td>02/26/19</td>\n",
       "      <td>Story highlights The Kurds have been battling ...</td>\n",
       "    </tr>\n",
       "    <tr>\n",
       "      <th>17</th>\n",
       "      <td>https://www.cnn.com/2015/05/05/middleeast/syri...</td>\n",
       "      <td>0</td>\n",
       "      <td>1</td>\n",
       "      <td>0</td>\n",
       "      <td>0</td>\n",
       "      <td>0</td>\n",
       "      <td>05/05/15</td>\n",
       "      <td>Story highlights Drone footage shows Syrian to...</td>\n",
       "    </tr>\n",
       "    <tr>\n",
       "      <th>18</th>\n",
       "      <td>https://www.cnn.com/2016/12/12/middleeast/palm...</td>\n",
       "      <td>1</td>\n",
       "      <td>1</td>\n",
       "      <td>1</td>\n",
       "      <td>0</td>\n",
       "      <td>1</td>\n",
       "      <td>09/12/16</td>\n",
       "      <td>Story highlights ISIS in control of ancient ci...</td>\n",
       "    </tr>\n",
       "    <tr>\n",
       "      <th>19</th>\n",
       "      <td>https://www.cnbc.com/2015/04/07/isis-in-damasc...</td>\n",
       "      <td>1</td>\n",
       "      <td>1</td>\n",
       "      <td>0</td>\n",
       "      <td>0</td>\n",
       "      <td>1</td>\n",
       "      <td>04/07/15</td>\n",
       "      <td>The arrival of ISIS fighters in Syria's capita...</td>\n",
       "    </tr>\n",
       "  </tbody>\n",
       "</table>\n",
       "</div>"
      ],
      "text/plain": [
       "                                                  url  t_mil  t_loc  t_milcas  \\\n",
       "0   https://www.cnn.com/2019/03/23/middleeast/isis...      1      1         0   \n",
       "1   https://www.cnn.com/2017/06/25/asia/philippine...      1      1         1   \n",
       "2   https://www.cnn.com/2017/06/06/middleeast/raqq...      1      1         0   \n",
       "3   https://fox2now.com/news/isis-in-the-crosshair...      1      1         0   \n",
       "4   https://www.cnn.com/2016/12/12/middleeast/palm...      1      1         1   \n",
       "5   https://www.fox13seattle.com/news/obama-were-i...      1      1         1   \n",
       "6   https://www.nbcnews.com/storyline/isis-terror/...      1      1         0   \n",
       "8   https://www.defense.gov/News/News-Stories/Arti...      1      1         0   \n",
       "9   https://www.cnbc.com/2014/10/25/iraq-notches-v...      1      1         1   \n",
       "10  https://www.cnbc.com/2015/04/07/isis-in-damasc...      1      1         0   \n",
       "11  https://www.cnbc.com/2017/03/31/islamic-state-...      0      0         0   \n",
       "12  https://www.aljazeera.com/news/2015/9/1/street...      1      1         1   \n",
       "13  https://www.cnn.com/2015/12/28/middleeast/iraq...      1      1         0   \n",
       "14  https://www.cnn.com/2015/01/26/middleeast/syri...      1      1         1   \n",
       "15  https://www.cnn.com/videos/intl_world/2015/01/...      1      1         0   \n",
       "16  https://www.cnn.com/2015/12/07/world/syria-kur...      1      1         0   \n",
       "17  https://www.cnn.com/2015/05/05/middleeast/syri...      0      1         0   \n",
       "18  https://www.cnn.com/2016/12/12/middleeast/palm...      1      1         1   \n",
       "19  https://www.cnbc.com/2015/04/07/isis-in-damasc...      1      1         0   \n",
       "\n",
       "    t_civcas  t_isis_vic      date  \\\n",
       "0          0           0  03/23/19   \n",
       "1          0           1  08/24/17   \n",
       "2          0           1  06/06/17   \n",
       "3          0           0  08/16/16   \n",
       "4          0           1  09/12/16   \n",
       "5          1           0  11/09/14   \n",
       "6          0           0  12/21/15   \n",
       "8          0           1  03/13/17   \n",
       "9          0           0  10/25/14   \n",
       "10         0           1  04/07/15   \n",
       "11         0           0  03/31/17   \n",
       "12         1           1  09/01/15   \n",
       "13         0           0  12/29/15   \n",
       "14         1           0  01/27/15   \n",
       "15         0           0      NONE   \n",
       "16         0           0  02/26/19   \n",
       "17         0           0  05/05/15   \n",
       "18         0           1  09/12/16   \n",
       "19         0           1  04/07/15   \n",
       "\n",
       "                                                 text  \n",
       "0   Eastern Syria CNN —\\n\\nISIS has lost its final...  \n",
       "1   Iligan, Philippines CNN —\\n\\nDuring the rainy ...  \n",
       "2   Story highlights US-backed forces have been pu...  \n",
       "3   This is an archived article and the informatio...  \n",
       "4   Story highlights ISIS in control of ancient ci...  \n",
       "5   article\\n\\n\\n\\n\\n\\n(CNN) -- The decision to in...  \n",
       "6   A group of five men crouch behind a berm. Peri...  \n",
       "8   Iraqi security forces are battling Islamic Sta...  \n",
       "9   Iraqi government forces and Shi'ite militias s...  \n",
       "10  The arrival of ISIS fighters in Syria's capita...  \n",
       "11  An Iraqi soldier holds an Islamic State flag d...  \n",
       "12  ISIL takes territory in south of Syria’s capit...  \n",
       "13  Story highlights NEW: Spokesman for U.S.-led c...  \n",
       "14  Story highlights Kurds have taken control of s...  \n",
       "15  1. How relevant is this ad to you?\\n\\nVideo pl...  \n",
       "16  Story highlights The Kurds have been battling ...  \n",
       "17  Story highlights Drone footage shows Syrian to...  \n",
       "18  Story highlights ISIS in control of ancient ci...  \n",
       "19  The arrival of ISIS fighters in Syria's capita...  "
      ]
     },
     "execution_count": 105,
     "metadata": {},
     "output_type": "execute_result"
    }
   ],
   "source": [
    "df"
   ]
  },
  {
   "cell_type": "code",
   "execution_count": 106,
   "id": "444370b9-6616-4dc5-bc72-2238ea8fa54d",
   "metadata": {},
   "outputs": [],
   "source": [
    "from datasets import load_dataset, Dataset\n",
    "\n",
    "dataset = Dataset.from_pandas(df)"
   ]
  },
  {
   "cell_type": "code",
   "execution_count": 107,
   "id": "22e51840-865d-4eb0-a0b5-24dd61a7ab8c",
   "metadata": {},
   "outputs": [
    {
     "data": {
      "text/plain": [
       "Dataset({\n",
       "    features: ['url', 't_mil', 't_loc', 't_milcas', 't_civcas', 't_isis_vic', 'date', 'text', '__index_level_0__'],\n",
       "    num_rows: 19\n",
       "})"
      ]
     },
     "execution_count": 107,
     "metadata": {},
     "output_type": "execute_result"
    }
   ],
   "source": [
    "dataset"
   ]
  },
  {
   "cell_type": "markdown",
   "id": "6b28e9e7-d560-41e9-9320-881a692e0f0d",
   "metadata": {
    "tags": []
   },
   "source": [
    "## Loading and sampling the dataset"
   ]
  },
  {
   "cell_type": "markdown",
   "id": "a9586db2-5df2-4fdb-8c6d-5dd530b59691",
   "metadata": {},
   "source": [
    "Most datasets on the Hub have many more labeled examples than those one encounters in few-shot settings. To simulate the effect of training on a limited number of examples, let's subsample the training set to have at least 8 labeled examples per feature.\n",
    "\n",
    "Note that if your dataset has differently formatted labels, you may need to adapt this section."
   ]
  },
  {
   "cell_type": "code",
   "execution_count": 108,
   "id": "54341341-f774-40e6-b299-3371f4dddc18",
   "metadata": {},
   "outputs": [
    {
     "data": {
      "text/plain": [
       "['t_mil', 't_loc', 't_milcas', 't_civcas', 't_isis_vic']"
      ]
     },
     "execution_count": 108,
     "metadata": {},
     "output_type": "execute_result"
    }
   ],
   "source": [
    "import numpy as np\n",
    "\n",
    "features = dataset.column_names\n",
    "features.remove(\"text\")\n",
    "features.remove(\"url\")\n",
    "features.remove(\"date\")\n",
    "features.remove(\"__index_level_0__\")\n",
    "features"
   ]
  },
  {
   "cell_type": "code",
   "execution_count": 109,
   "id": "27684c79-575a-4490-8108-8e080e613182",
   "metadata": {},
   "outputs": [
    {
     "data": {
      "text/plain": [
       "{'url': 'https://www.cnn.com/2019/03/23/middleeast/isis-caliphate-end-intl/index.html',\n",
       " 't_mil': 1,\n",
       " 't_loc': 1,\n",
       " 't_milcas': 0,\n",
       " 't_civcas': 0,\n",
       " 't_isis_vic': 0,\n",
       " 'date': '03/23/19',\n",
       " 'text': 'Eastern Syria CNN —\\n\\nISIS has lost its final stronghold in Syria, the Syrian Democratic Forces announced Saturday, bringing an end to the so-called caliphate declared by the terrorist group in 2014.\\n\\nThe coalition of Kurdish and Arab soldiers backed by US, British and French special forces said it defeated ISIS and fully liberated Baghouz in eastern Syria.\\n\\n“Syrian Democratic Forces declare total elimination of so-called caliphate and 100% territorial defeat of ISIS. On this unique day, we commemorate thous',\n",
       " '__index_level_0__': 0}"
      ]
     },
     "execution_count": 109,
     "metadata": {},
     "output_type": "execute_result"
    }
   ],
   "source": [
    "dataset[0]"
   ]
  },
  {
   "cell_type": "code",
   "execution_count": 110,
   "id": "fabc756a-fb14-471d-a592-a2b2d218e83a",
   "metadata": {},
   "outputs": [
    {
     "data": {
      "application/vnd.jupyter.widget-view+json": {
       "model_id": "db026aba546b4b0c99c57f41726d1565",
       "version_major": 2,
       "version_minor": 0
      },
      "text/plain": [
       "Map:   0%|          | 0/19 [00:00<?, ? examples/s]"
      ]
     },
     "metadata": {},
     "output_type": "display_data"
    }
   ],
   "source": [
    "def encode_labels(record):\n",
    "    return {\"labels\": [record[feature] for feature in features]}\n",
    "\n",
    "\n",
    "dataset = dataset.map(encode_labels)"
   ]
  },
  {
   "cell_type": "code",
   "execution_count": 111,
   "id": "56dc8026-b72f-4011-a918-a3df477daf1e",
   "metadata": {},
   "outputs": [
    {
     "data": {
      "text/plain": [
       "{'url': 'https://www.cnn.com/2019/03/23/middleeast/isis-caliphate-end-intl/index.html',\n",
       " 't_mil': 1,\n",
       " 't_loc': 1,\n",
       " 't_milcas': 0,\n",
       " 't_civcas': 0,\n",
       " 't_isis_vic': 0,\n",
       " 'date': '03/23/19',\n",
       " 'text': 'Eastern Syria CNN —\\n\\nISIS has lost its final stronghold in Syria, the Syrian Democratic Forces announced Saturday, bringing an end to the so-called caliphate declared by the terrorist group in 2014.\\n\\nThe coalition of Kurdish and Arab soldiers backed by US, British and French special forces said it defeated ISIS and fully liberated Baghouz in eastern Syria.\\n\\n“Syrian Democratic Forces declare total elimination of so-called caliphate and 100% territorial defeat of ISIS. On this unique day, we commemorate thous',\n",
       " '__index_level_0__': 0,\n",
       " 'labels': [1, 1, 0, 0, 0]}"
      ]
     },
     "execution_count": 111,
     "metadata": {},
     "output_type": "execute_result"
    }
   ],
   "source": [
    "dataset[0]"
   ]
  },
  {
   "cell_type": "markdown",
   "id": "bcf2797c-5325-4d5f-8690-e8075f1886b2",
   "metadata": {},
   "source": [
    "Next, we use the samples we selected as our training set, and the others as our test set (since the ethos dataset does not have a test split on the hub).\n",
    "\n",
    "Here we have 64 total examples to train with since the `ethos` dataset has 8 classes."
   ]
  },
  {
   "cell_type": "code",
   "execution_count": 112,
   "id": "92b1f061-387a-4a51-aa40-2412bcf418f0",
   "metadata": {},
   "outputs": [],
   "source": [
    "train_dataset = dataset.select(range(14))\n",
    "eval_dataset = dataset.select(range(14,19))"
   ]
  },
  {
   "cell_type": "code",
   "execution_count": 113,
   "id": "755279c2-e149-421c-a38c-982d1d76d836",
   "metadata": {},
   "outputs": [],
   "source": [
    "from transformers import AutoModelForCausalLM, AutoTokenizer, default_data_collator, get_linear_schedule_with_warmup\n",
    "from peft import get_peft_config, get_peft_model, PromptTuningInit, PromptTuningConfig, TaskType, PeftType\n",
    "import torch\n",
    "from datasets import load_dataset\n",
    "import os\n",
    "from torch.utils.data import DataLoader\n",
    "from tqdm import tqdm\n",
    "\n",
    "device = \"cuda\"\n",
    "model_name_or_path = \"bigscience/bloomz-560m\"\n",
    "tokenizer_name_or_path = \"bigscience/bloomz-560m\"\n",
    "peft_config = PromptTuningConfig(\n",
    "    task_type=TaskType.CAUSAL_LM,\n",
    "    prompt_tuning_init=PromptTuningInit.TEXT,\n",
    "    num_virtual_tokens=8,\n",
    "    prompt_tuning_init_text=\"Give each of these following labels a 0 if false and a 1 if true:\"\\\n",
    "       + \"t_mil - Event is about war/military operations,\"\\\n",
    "       + \"t_loc - Event report includes reference to specific location,\"\\\n",
    "       + \"t_milcas - Event report mentions military casualties,\"\\\n",
    "       + \"t_civcas - Event report mentions civilian casualties,\"\\\n",
    "       + \"t_isis_vic - ISIS won the conflict\",\n",
    "    tokenizer_name_or_path=model_name_or_path,\n",
    ")\n",
    "\n",
    "dataset_name = \"datav1\"\n",
    "checkpoint_name = f\"{dataset_name}_{model_name_or_path}_{peft_config.peft_type}_{peft_config.task_type}_v1.pt\".replace(\n",
    "    \"/\", \"_\"\n",
    ")\n",
    "text_column = \"text\"\n",
    "#label_column = \"labels\"\n",
    "label_column=\"text_labels\"\n",
    "max_length = 256\n",
    "lr = 3e-2\n",
    "num_epochs = 1\n",
    "batch_size = 1"
   ]
  },
  {
   "cell_type": "code",
   "execution_count": 114,
   "id": "d92f3952-d560-4461-b91f-6a3d1a464ec8",
   "metadata": {},
   "outputs": [
    {
     "data": {
      "text/plain": [
       "{'url': 'https://www.cnn.com/2019/03/23/middleeast/isis-caliphate-end-intl/index.html',\n",
       " 't_mil': 1,\n",
       " 't_loc': 1,\n",
       " 't_milcas': 0,\n",
       " 't_civcas': 0,\n",
       " 't_isis_vic': 0,\n",
       " 'date': '03/23/19',\n",
       " 'text': 'Eastern Syria CNN —\\n\\nISIS has lost its final stronghold in Syria, the Syrian Democratic Forces announced Saturday, bringing an end to the so-called caliphate declared by the terrorist group in 2014.\\n\\nThe coalition of Kurdish and Arab soldiers backed by US, British and French special forces said it defeated ISIS and fully liberated Baghouz in eastern Syria.\\n\\n“Syrian Democratic Forces declare total elimination of so-called caliphate and 100% territorial defeat of ISIS. On this unique day, we commemorate thous',\n",
       " '__index_level_0__': 0,\n",
       " 'labels': [1, 1, 0, 0, 0]}"
      ]
     },
     "execution_count": 114,
     "metadata": {},
     "output_type": "execute_result"
    }
   ],
   "source": [
    "dataset[0]"
   ]
  },
  {
   "cell_type": "code",
   "execution_count": 115,
   "id": "a4b86820-854a-49a2-8672-7d8284ba599d",
   "metadata": {},
   "outputs": [
    {
     "data": {
      "text/plain": [
       "[[1, 1, 0, 0, 0],\n",
       " [1, 1, 1, 0, 1],\n",
       " [1, 1, 0, 0, 1],\n",
       " [1, 1, 0, 0, 0],\n",
       " [1, 1, 1, 0, 1],\n",
       " [1, 1, 1, 1, 0],\n",
       " [1, 1, 0, 0, 0],\n",
       " [1, 1, 0, 0, 1],\n",
       " [1, 1, 1, 0, 0],\n",
       " [1, 1, 0, 0, 1],\n",
       " [0, 0, 0, 0, 0],\n",
       " [1, 1, 1, 1, 1],\n",
       " [1, 1, 0, 0, 0],\n",
       " [1, 1, 1, 1, 0],\n",
       " [1, 1, 0, 0, 0],\n",
       " [1, 1, 0, 0, 0],\n",
       " [0, 1, 0, 0, 0],\n",
       " [1, 1, 1, 0, 1],\n",
       " [1, 1, 0, 0, 1]]"
      ]
     },
     "execution_count": 115,
     "metadata": {},
     "output_type": "execute_result"
    }
   ],
   "source": [
    "dataset['labels']"
   ]
  },
  {
   "cell_type": "code",
   "execution_count": 116,
   "id": "939554d5-ff7b-427a-bd0d-673326777cb6",
   "metadata": {},
   "outputs": [
    {
     "data": {
      "text/plain": [
       "{'url': Value(dtype='string', id=None),\n",
       " 't_mil': Value(dtype='int64', id=None),\n",
       " 't_loc': Value(dtype='int64', id=None),\n",
       " 't_milcas': Value(dtype='int64', id=None),\n",
       " 't_civcas': Value(dtype='int64', id=None),\n",
       " 't_isis_vic': Value(dtype='int64', id=None),\n",
       " 'date': Value(dtype='string', id=None),\n",
       " 'text': Value(dtype='string', id=None),\n",
       " '__index_level_0__': Value(dtype='int64', id=None),\n",
       " 'labels': Sequence(feature=Value(dtype='int64', id=None), length=-1, id=None)}"
      ]
     },
     "execution_count": 116,
     "metadata": {},
     "output_type": "execute_result"
    }
   ],
   "source": [
    "dataset.features"
   ]
  },
  {
   "cell_type": "code",
   "execution_count": 117,
   "id": "5f6b18dc-587e-41b6-b0c4-95fa9feb77ea",
   "metadata": {},
   "outputs": [
    {
     "data": {
      "text/plain": [
       "['t_mil, t_loc',\n",
       " 't_mil, t_loc, t_milcas, t_isis_vic',\n",
       " 't_mil, t_loc, t_isis_vic',\n",
       " 't_mil, t_loc',\n",
       " 't_mil, t_loc, t_milcas, t_isis_vic',\n",
       " 't_mil, t_loc, t_milcas, t_civcas',\n",
       " 't_mil, t_loc',\n",
       " 't_mil, t_loc, t_isis_vic',\n",
       " 't_mil, t_loc, t_milcas',\n",
       " 't_mil, t_loc, t_isis_vic',\n",
       " '',\n",
       " 't_mil, t_loc, t_milcas, t_civcas, t_isis_vic',\n",
       " 't_mil, t_loc',\n",
       " 't_mil, t_loc, t_milcas, t_civcas',\n",
       " 't_mil, t_loc',\n",
       " 't_mil, t_loc',\n",
       " 't_loc',\n",
       " 't_mil, t_loc, t_milcas, t_isis_vic',\n",
       " 't_mil, t_loc, t_isis_vic']"
      ]
     },
     "execution_count": 117,
     "metadata": {},
     "output_type": "execute_result"
    }
   ],
   "source": [
    "#text_labels = [[f for f, p in zip(dataset.features, ps) if p] for ps in dataset['labels']]\n",
    "text_labels_list = [[f for f, p in zip(features, ps) if p] for ps in dataset['labels']]\n",
    "text_labels = [', '.join(lbl) for lbl in text_labels_list]\n",
    "text_labels"
   ]
  },
  {
   "cell_type": "code",
   "execution_count": 118,
   "id": "228af332-e788-4ab6-acfd-51a17d46c080",
   "metadata": {},
   "outputs": [
    {
     "data": {
      "text/plain": [
       "{'url': 'https://www.cnn.com/2019/03/23/middleeast/isis-caliphate-end-intl/index.html',\n",
       " 't_mil': 1,\n",
       " 't_loc': 1,\n",
       " 't_milcas': 0,\n",
       " 't_civcas': 0,\n",
       " 't_isis_vic': 0,\n",
       " 'date': '03/23/19',\n",
       " 'text': 'Eastern Syria CNN —\\n\\nISIS has lost its final stronghold in Syria, the Syrian Democratic Forces announced Saturday, bringing an end to the so-called caliphate declared by the terrorist group in 2014.\\n\\nThe coalition of Kurdish and Arab soldiers backed by US, British and French special forces said it defeated ISIS and fully liberated Baghouz in eastern Syria.\\n\\n“Syrian Democratic Forces declare total elimination of so-called caliphate and 100% territorial defeat of ISIS. On this unique day, we commemorate thous',\n",
       " '__index_level_0__': 0,\n",
       " 'labels': [1, 1, 0, 0, 0],\n",
       " 'text_labels': 't_mil, t_loc'}"
      ]
     },
     "execution_count": 118,
     "metadata": {},
     "output_type": "execute_result"
    }
   ],
   "source": [
    "dataset = dataset.add_column('text_labels', text_labels)\n",
    "dataset[0]"
   ]
  },
  {
   "cell_type": "code",
   "execution_count": 119,
   "id": "0034c8a7-eaca-4049-aad5-b2bf031ad83c",
   "metadata": {},
   "outputs": [],
   "source": [
    "tokenizer = AutoTokenizer.from_pretrained(model_name_or_path)\n",
    "if tokenizer.pad_token_id is None:\n",
    "    tokenizer.pad_token_id = tokenizer.eos_token_id\n",
    "#target_max_length = max([len(tokenizer(class_label)[\"input_ids\"]) for class_label in classes])\n",
    "#print(target_max_length)"
   ]
  },
  {
   "cell_type": "code",
   "execution_count": 120,
   "id": "521c1cf8-39e1-409c-9a5e-27f1bba2dbea",
   "metadata": {},
   "outputs": [],
   "source": [
    "def preprocess_function(examples):\n",
    "    batch_size = len(examples[text_column])\n",
    "    inputs = [f\"{text_column} : {x} Label : \" for x in examples[text_column]]\n",
    "    targets = [str(x) for x in examples[label_column]]\n",
    "    model_inputs = tokenizer(inputs)\n",
    "    labels = tokenizer(targets)\n",
    "    for i in range(batch_size):\n",
    "        sample_input_ids = model_inputs[\"input_ids\"][i]\n",
    "        label_input_ids = labels[\"input_ids\"][i] + [tokenizer.pad_token_id]\n",
    "        # print(i, sample_input_ids, label_input_ids)\n",
    "        model_inputs[\"input_ids\"][i] = sample_input_ids + label_input_ids\n",
    "        labels[\"input_ids\"][i] = [-100] * len(sample_input_ids) + label_input_ids\n",
    "        model_inputs[\"attention_mask\"][i] = [1] * len(model_inputs[\"input_ids\"][i])\n",
    "    # print(model_inputs)\n",
    "    for i in range(batch_size):\n",
    "        sample_input_ids = model_inputs[\"input_ids\"][i]\n",
    "        label_input_ids = labels[\"input_ids\"][i]\n",
    "        model_inputs[\"input_ids\"][i] = [tokenizer.pad_token_id] * (\n",
    "            max_length - len(sample_input_ids)\n",
    "        ) + sample_input_ids\n",
    "        model_inputs[\"attention_mask\"][i] = [0] * (max_length - len(sample_input_ids)) + model_inputs[\n",
    "            \"attention_mask\"\n",
    "        ][i]\n",
    "        labels[\"input_ids\"][i] = [-100] * (max_length - len(sample_input_ids)) + label_input_ids\n",
    "        model_inputs[\"input_ids\"][i] = torch.tensor(model_inputs[\"input_ids\"][i][:max_length])\n",
    "        model_inputs[\"attention_mask\"][i] = torch.tensor(model_inputs[\"attention_mask\"][i][:max_length])\n",
    "        labels[\"input_ids\"][i] = torch.tensor(labels[\"input_ids\"][i][:max_length])\n",
    "    model_inputs[\"labels\"] = labels[\"input_ids\"]\n",
    "    return model_inputs"
   ]
  },
  {
   "cell_type": "code",
   "execution_count": 121,
   "id": "47ad4723-d3d4-4449-ac9b-a67457758de6",
   "metadata": {},
   "outputs": [
    {
     "data": {
      "application/vnd.jupyter.widget-view+json": {
       "model_id": "046e60aaf87e4220b85b63e446744cfc",
       "version_major": 2,
       "version_minor": 0
      },
      "text/plain": [
       "Running tokenizer on dataset:   0%|          | 0/19 [00:00<?, ? examples/s]"
      ]
     },
     "metadata": {},
     "output_type": "display_data"
    }
   ],
   "source": [
    "processed_datasets = dataset.map(\n",
    "    preprocess_function,\n",
    "    batched=True,\n",
    "    num_proc=1,\n",
    "    remove_columns=dataset.column_names,\n",
    "    load_from_cache_file=False,\n",
    "    desc=\"Running tokenizer on dataset\",\n",
    ")"
   ]
  },
  {
   "cell_type": "code",
   "execution_count": 122,
   "id": "280ce0b0-f3d6-4cdb-b52e-89709506a0b7",
   "metadata": {},
   "outputs": [
    {
     "data": {
      "text/plain": [
       "Dataset({\n",
       "    features: ['labels', 'input_ids', 'attention_mask'],\n",
       "    num_rows: 19\n",
       "})"
      ]
     },
     "execution_count": 122,
     "metadata": {},
     "output_type": "execute_result"
    }
   ],
   "source": [
    "processed_datasets"
   ]
  },
  {
   "cell_type": "code",
   "execution_count": 123,
   "id": "d84ee102-4d9a-4503-a6cf-5d1fe05d676b",
   "metadata": {},
   "outputs": [],
   "source": [
    "train_dataset = processed_datasets.select(range(14))\n",
    "eval_dataset = processed_datasets.select(range(14,19))\n",
    "\n",
    "\n",
    "train_dataloader = DataLoader(\n",
    "    train_dataset, shuffle=True, collate_fn=default_data_collator, batch_size=batch_size, pin_memory=True\n",
    ")\n",
    "eval_dataloader = DataLoader(eval_dataset, collate_fn=default_data_collator, batch_size=batch_size, pin_memory=True)"
   ]
  },
  {
   "cell_type": "code",
   "execution_count": 124,
   "id": "f8d66b68-682b-4060-95ad-2e0cd7a0fc4c",
   "metadata": {},
   "outputs": [
    {
     "name": "stdout",
     "output_type": "stream",
     "text": [
      "trainable params: 8192 || all params: 559222784 || trainable%: 0.0014648902430985358\n",
      "None\n"
     ]
    }
   ],
   "source": [
    "model = AutoModelForCausalLM.from_pretrained(model_name_or_path, problem_type=\"one-vs-rest\")\n",
    "#model = AutoModelForCausalLM.from_pretrained(model_name_or_path)\n",
    "model = get_peft_model(model, peft_config)\n",
    "print(model.print_trainable_parameters())"
   ]
  },
  {
   "cell_type": "code",
   "execution_count": 125,
   "id": "c8dfa950-cbd2-4b81-865f-425344d08035",
   "metadata": {},
   "outputs": [],
   "source": [
    "optimizer = torch.optim.AdamW(model.parameters(), lr=lr)\n",
    "lr_scheduler = get_linear_schedule_with_warmup(\n",
    "    optimizer=optimizer,\n",
    "    num_warmup_steps=0,\n",
    "    num_training_steps=(len(train_dataloader) * num_epochs),\n",
    ")"
   ]
  },
  {
   "cell_type": "code",
   "execution_count": 126,
   "id": "dd1c867d-01a5-4659-8afc-4c4c2a3d7066",
   "metadata": {},
   "outputs": [
    {
     "name": "stderr",
     "output_type": "stream",
     "text": [
      "100%|██████████████████████████████████| 14/14 [00:15<00:00,  1.13s/it]\n",
      "100%|████████████████████████████████████| 5/5 [00:03<00:00,  1.26it/s]"
     ]
    },
    {
     "name": "stdout",
     "output_type": "stream",
     "text": [
      "epoch=0: train_ppl=tensor(8431.7021, device='cuda:0') train_epoch_loss=tensor(9.0398, device='cuda:0') eval_ppl=tensor(1059.2797, device='cuda:0') eval_epoch_loss=tensor(6.9653, device='cuda:0')\n"
     ]
    },
    {
     "name": "stderr",
     "output_type": "stream",
     "text": [
      "\n"
     ]
    }
   ],
   "source": [
    "model = model.to(device)\n",
    "\n",
    "for epoch in range(num_epochs):\n",
    "    model.train()\n",
    "    total_loss = 0\n",
    "    for step, batch in enumerate(tqdm(train_dataloader)):\n",
    "        batch = {k: v.to(device) for k, v in batch.items()}\n",
    "        outputs = model(**batch)\n",
    "        loss = outputs.loss\n",
    "        total_loss += loss.detach().float()\n",
    "        loss.backward()\n",
    "        optimizer.step()\n",
    "        lr_scheduler.step()\n",
    "        optimizer.zero_grad()\n",
    "\n",
    "    model.eval()\n",
    "    eval_loss = 0\n",
    "    eval_preds = []\n",
    "    for step, batch in enumerate(tqdm(eval_dataloader)):\n",
    "        batch = {k: v.to(device) for k, v in batch.items()}\n",
    "        with torch.no_grad():\n",
    "            outputs = model(**batch)\n",
    "        loss = outputs.loss\n",
    "        eval_loss += loss.detach().float()\n",
    "        eval_preds.extend(\n",
    "            tokenizer.batch_decode(torch.argmax(outputs.logits, -1).detach().cpu().numpy(), skip_special_tokens=True)\n",
    "        )\n",
    "\n",
    "    eval_epoch_loss = eval_loss / len(eval_dataloader)\n",
    "    eval_ppl = torch.exp(eval_epoch_loss)\n",
    "    train_epoch_loss = total_loss / len(train_dataloader)\n",
    "    train_ppl = torch.exp(train_epoch_loss)\n",
    "    print(f\"{epoch=}: {train_ppl=} {train_epoch_loss=} {eval_ppl=} {eval_epoch_loss=}\")"
   ]
  },
  {
   "cell_type": "code",
   "execution_count": 127,
   "id": "e7a6c93b-535e-4f5c-b237-f0746f7fd75c",
   "metadata": {},
   "outputs": [
    {
     "name": "stderr",
     "output_type": "stream",
     "text": [
      "A decoder-only architecture is being used, but right-padding was detected! For correct generation results, please set `padding_side='left'` when initializing the tokenizer.\n"
     ]
    }
   ],
   "source": [
    "with torch.no_grad():\n",
    "    #inputs = {k: v.to(device) for k, v in eval_dataset}\n",
    "    outputs = model.generate(\n",
    "        input_ids=torch.as_tensor(eval_dataset[\"input_ids\"]).to(device), attention_mask=torch.as_tensor(eval_dataset[\"attention_mask\"]).to(device), max_new_tokens=10, eos_token_id=3\n",
    "    )"
   ]
  },
  {
   "cell_type": "code",
   "execution_count": 128,
   "id": "7b55959a-47fc-4b9a-b75d-dc8a2693a362",
   "metadata": {},
   "outputs": [
    {
     "name": "stdout",
     "output_type": "stream",
     "text": [
      "['text : 1. How relevant is this ad to you?\\n\\nVideo player was slow to load content Video content never loaded Ad froze or did not finish loading Video content did not start after ad Audio on ad was too loud Other issues Label : t_mil, t_loc<!DOCTYPE html>\\n<!--\\n', 'text : Story highlights The Kurds have been battling ISIS on the ground for months A Kurdish commander describes a recent close fight against the terror group\\n\\nCNN —\\n\\nAt 4 a.m. Wednesday, fog rolled over Ayn al Issa, a desolate stretch about 30 miles outside Raqqa, Syria, the city that ISIS has named its capital.\\n\\nThe Kurdish fighters had not slept. They held their guns and kept watch from the sandbag berm they’d built. They could not afford to lose focus. The enemy, they knew, would likely use the bad weather to  Label : t_mil, t_loc, t_locThe present invention relates to a', 'text : Story highlights Drone footage shows Syrian town of Kobani lying in dusty ruin But a bakery and schools have opened as families begin to come back\\n\\nCNN —\\n\\nThey called it Kobanigrad, the destruction was so complete. Months of coalition airstrikes and ISIS bombing flattening some parts of the town, leaving others uninhabitable. The question so many asked during the fighting was what would the spoils of victory be?\\n\\nKobani: A grim victory in the battle against ISIS\\n\\nNow, however, Kobani is trying to rebuild ag Label : t_locIntroduction\\nThe genus Eucalyptus is', 'text : Story highlights ISIS in control of ancient city, state media reports Militant group in 2015 blew up ancient treasures there\\n\\nCNN —\\n\\nISIS fighters were in fierce clashes with Syrian regime troops Sunday in the ancient city of Palmyra, where the militant group infamously blew up temples and monuments last year, a monitor said.\\n\\nSyrian news agency SANA reported that over 4,000 militants swarmed the city from “various directions,” despite having suffered heavy losses from bombardments by the Syrian air force.  Label : t_mil, t_loc, t_milcas, t_isis_vic, t_isis_vic盎The present', 'text : The arrival of ISIS fighters in Syria\\'s capital raises the stakes for the broader region, directly threatening Syria\\'s government and bringing the terror group closer to some of the region\\'s last stable countries.\\n\\nFighting in and around the Yarmouk refugee area in southern Damascus puts thousands of civilians in serious danger, prompting the United Nations to call Tuesday for an evacuation of the area. And it establishes a new ISIS foothold that\\'s much closer to Jordan, Lebanon and Israel.\\n\\n\"I think this i Label : t_mil, t_loc, t_isis_vic, t_isis_vic turcos, t_']\n"
     ]
    }
   ],
   "source": [
    "print(tokenizer.batch_decode(outputs.detach().cpu().numpy(), skip_special_tokens=True))"
   ]
  },
  {
   "cell_type": "code",
   "execution_count": null,
   "id": "40f2d501-fdc5-4811-b4c4-786062b5b9d6",
   "metadata": {},
   "outputs": [],
   "source": [
    "from huggingface_hub import notebook_login\n",
    "\n",
    "notebook_login()"
   ]
  },
  {
   "cell_type": "code",
   "execution_count": null,
   "id": "9c4f0728-81ad-4b78-a408-a5af54512e64",
   "metadata": {},
   "outputs": [],
   "source": [
    "peft_model_id = \"PaulKMandal/CONTACT-bloomz-v1\"\n",
    "model.push_to_hub(peft_model_id, use_auth_token=True)"
   ]
  },
  {
   "cell_type": "code",
   "execution_count": null,
   "id": "647d1374-4dea-4306-bc94-f7fb7e9c3acc",
   "metadata": {},
   "outputs": [],
   "source": [
    "from peft import PeftModel, PeftConfig\n",
    "\n",
    "config = PeftConfig.from_pretrained(peft_model_id)\n",
    "model = AutoModelForCausalLM.from_pretrained(config.base_model_name_or_path)\n",
    "model = PeftModel.from_pretrained(model, peft_model_id)"
   ]
  },
  {
   "cell_type": "code",
   "execution_count": null,
   "id": "1efe42b5-79b0-4137-8b6a-57acb7f9f1c3",
   "metadata": {},
   "outputs": [],
   "source": [
    "raw_inputs = \"text: \" +  dataset[16]['text'] + \" label: \""
   ]
  },
  {
   "cell_type": "code",
   "execution_count": null,
   "id": "c93238af-4320-4866-aee9-b71332f0b96c",
   "metadata": {},
   "outputs": [],
   "source": [
    "inputs = tokenizer(\n",
    "    raw_inputs,\n",
    "    return_tensors=\"pt\",\n",
    ")"
   ]
  },
  {
   "cell_type": "code",
   "execution_count": null,
   "id": "8ecf03d4-fc9e-4aef-93e3-c99c76319ead",
   "metadata": {},
   "outputs": [],
   "source": [
    "model.to(device)\n",
    "\n",
    "with torch.no_grad():\n",
    "    inputs = {k: v.to(device) for k, v in inputs.items()}\n",
    "    outputs = model.generate(\n",
    "        input_ids=inputs[\"input_ids\"], attention_mask=inputs[\"attention_mask\"], max_new_tokens=10, eos_token_id=3\n",
    "    )\n",
    "    print(tokenizer.batch_decode(outputs.detach().cpu().numpy(), skip_special_tokens=True))\n",
    "[\n",
    "    \"Tweet text : @nationalgridus I have no water and the bill is current and paid. Can you do something about this? Label : complaint\"\n",
    "]"
   ]
  },
  {
   "cell_type": "code",
   "execution_count": null,
   "id": "6fbc039f-6245-4737-b4e8-b8872b72d710",
   "metadata": {},
   "outputs": [],
   "source": []
  }
 ],
 "metadata": {
  "kernelspec": {
   "display_name": "Python 3 (ipykernel)",
   "language": "python",
   "name": "python3"
  },
  "language_info": {
   "codemirror_mode": {
    "name": "ipython",
    "version": 3
   },
   "file_extension": ".py",
   "mimetype": "text/x-python",
   "name": "python",
   "nbconvert_exporter": "python",
   "pygments_lexer": "ipython3",
   "version": "3.10.9"
  }
 },
 "nbformat": 4,
 "nbformat_minor": 5
}
