{
 "cells": [
  {
   "cell_type": "markdown",
   "id": "552ec552",
   "metadata": {},
   "source": [
    "# SetFit for Multilabel Text Classification"
   ]
  },
  {
   "cell_type": "markdown",
   "id": "3af7f258-5aaf-47c2-b81e-2f10fc349812",
   "metadata": {},
   "source": [
    "In this notebook, we'll learn how to do few-shot text classification on a multilabel dataset with SetFit."
   ]
  },
  {
   "cell_type": "markdown",
   "id": "c5604f73-f395-42cb-8082-9974a87ef9e9",
   "metadata": {},
   "source": [
    "## Setup"
   ]
  },
  {
   "cell_type": "markdown",
   "id": "26f09e23-2e1f-41f6-bb40-a30d447a0541",
   "metadata": {},
   "source": [
    "If you're running this Notebook on Colab or some other cloud platform, you will need to install the `setfit` library. Uncomment the following cell and run it:"
   ]
  },
  {
   "cell_type": "code",
   "execution_count": 1,
   "id": "277ed9b9-459c-465e-b750-13759978e616",
   "metadata": {},
   "outputs": [],
   "source": [
    "# %pip install setfit"
   ]
  },
  {
   "cell_type": "markdown",
   "id": "64e4d3b4-93cd-4774-8055-35a00b11f483",
   "metadata": {},
   "source": [
    "To be able to share your model with the community, there are a few more steps to follow.\n",
    "\n",
    "First, you have to store your authentication token from the Hugging Face Hub (sign up [here](https://huggingface.co/join) if you haven't already!). To do so, execute the following cell and input an [access token](https://huggingface.co/docs/hub/security-tokens) associated with your account:"
   ]
  },
  {
   "cell_type": "code",
   "execution_count": null,
   "id": "526a3b86-db3c-4c27-bb6c-eb39d73326f2",
   "metadata": {},
   "outputs": [],
   "source": [
    "from huggingface_hub import notebook_login\n",
    "\n",
    "notebook_login()"
   ]
  },
  {
   "cell_type": "markdown",
   "id": "9309b7d5-1736-46be-b721-eb4ee4ab9e67",
   "metadata": {},
   "source": [
    "Then you need to install Git-LFS, which you can do by uncommenting and running following command:"
   ]
  },
  {
   "cell_type": "code",
   "execution_count": 3,
   "id": "5efb134e-fc40-42f2-b2a5-47112b6f2305",
   "metadata": {},
   "outputs": [],
   "source": [
    "# !apt install git-lfs"
   ]
  },
  {
   "cell_type": "markdown",
   "id": "549981d3",
   "metadata": {},
   "source": [
    "Finally, you may need to configue Git on your system by providing details about who you are:"
   ]
  },
  {
   "cell_type": "code",
   "execution_count": null,
   "id": "18b950f1",
   "metadata": {},
   "outputs": [],
   "source": [
    "# !git config --global user.email \"you@example.com\"\n",
    "# !git config --global user.name \"Your Name\""
   ]
  },
  {
   "cell_type": "markdown",
   "id": "2b2a8fcd-46fe-43e4-835e-57b84964358a",
   "metadata": {},
   "source": [
    "This notebook is designed to work with any multiclass [text classification dataset](https://huggingface.co/models?pipeline_tag=text-classification&sort=downloads) and pretrained [Sentence Transformer](https://huggingface.co/models?library=sentence-transformers&sort=downloads) on the Hub. Change the values below to try a different dataset / model!"
   ]
  },
  {
   "cell_type": "code",
   "execution_count": 1,
   "id": "41542e15-d211-45e9-b428-e1532c525f5b",
   "metadata": {},
   "outputs": [
    {
     "name": "stderr",
     "output_type": "stream",
     "text": [
      "/home/paul/.local/lib/python3.10/site-packages/tqdm/auto.py:22: TqdmWarning: IProgress not found. Please update jupyter and ipywidgets. See https://ipywidgets.readthedocs.io/en/stable/user_install.html\n",
      "  from .autonotebook import tqdm as notebook_tqdm\n",
      "Downloading builder script: 100%|█| 5.94k/5.94k [00:00<00:\n",
      "Downloading metadata: 100%|█| 3.52k/3.52k [00:00<00:00, 2.\n",
      "Downloading readme: 100%|█| 9.36k/9.36k [00:00<00:00, 3.07\n",
      "Downloading data files:   0%|       | 0/1 [00:00<?, ?it/s]\n",
      "Downloading data: 62.8kB [00:00, 12.2MB/s]                \u001b[A\n",
      "Downloading data files: 100%|█| 1/1 [00:00<00:00,  2.10it/\n",
      "Extracting data files: 100%|█| 1/1 [00:00<00:00, 1425.18it\n",
      "Generating train split: 100%|█| 433/433 [00:00<00:00, 5061\n"
     ]
    }
   ],
   "source": [
    "from datasets import load_dataset\n",
    "\n",
    "model_id = \"sentence-transformers/paraphrase-mpnet-base-v2\"\n",
    "dataset = load_dataset(\"ethos\", \"multilabel\")"
   ]
  },
  {
   "cell_type": "markdown",
   "id": "3e756be8-3b60-4c86-aa1b-7ef78289b8e2",
   "metadata": {
    "tags": []
   },
   "source": [
    "## Loading and sampling the dataset"
   ]
  },
  {
   "cell_type": "markdown",
   "id": "b68b26a3-1c56-4373-8060-97f747168ede",
   "metadata": {},
   "source": [
    "Most datasets on the Hub have many more labeled examples than those one encounters in few-shot settings. To simulate the effect of training on a limited number of examples, let's subsample the training set to have at least 8 labeled examples per feature.\n",
    "\n",
    "Note that if your dataset has differently formatted labels, you may need to adapt this section."
   ]
  },
  {
   "cell_type": "code",
   "execution_count": 2,
   "id": "0eb9bc83-bf99-422c-b123-4fcaed168bcb",
   "metadata": {},
   "outputs": [
    {
     "data": {
      "text/plain": [
       "['violence',\n",
       " 'directed_vs_generalized',\n",
       " 'gender',\n",
       " 'race',\n",
       " 'national_origin',\n",
       " 'disability',\n",
       " 'religion',\n",
       " 'sexual_orientation']"
      ]
     },
     "execution_count": 2,
     "metadata": {},
     "output_type": "execute_result"
    }
   ],
   "source": [
    "import numpy as np\n",
    "\n",
    "features = dataset[\"train\"].column_names\n",
    "features.remove(\"text\")\n",
    "features"
   ]
  },
  {
   "cell_type": "code",
   "execution_count": 7,
   "id": "409a9fac-fc45-4082-a805-a4d3194e81cb",
   "metadata": {},
   "outputs": [
    {
     "data": {
      "text/plain": [
       "{'text': 'Women are made for making babies and cooking dinner and nothing else!!!',\n",
       " 'violence': 0,\n",
       " 'directed_vs_generalized': 0,\n",
       " 'gender': 1,\n",
       " 'race': 0,\n",
       " 'national_origin': 0,\n",
       " 'disability': 0,\n",
       " 'religion': 0,\n",
       " 'sexual_orientation': 0}"
      ]
     },
     "execution_count": 7,
     "metadata": {},
     "output_type": "execute_result"
    }
   ],
   "source": [
    "dataset['train'][4]"
   ]
  },
  {
   "cell_type": "code",
   "execution_count": 8,
   "id": "c099cb8b-2ad6-4782-a3e6-574630956d94",
   "metadata": {},
   "outputs": [],
   "source": [
    "num_samples = 8\n",
    "samples = np.concatenate(\n",
    "    [np.random.choice(np.where(dataset[\"train\"][f])[0], num_samples) for f in features]\n",
    ")"
   ]
  },
  {
   "cell_type": "markdown",
   "id": "a46662ff-aa4b-49c1-9c86-c8450e6d547b",
   "metadata": {},
   "source": [
    "We encode the emotions in a single `'label'` feature. "
   ]
  },
  {
   "cell_type": "code",
   "execution_count": 9,
   "id": "ff9fd491-8b80-4959-adcd-630bd17f951d",
   "metadata": {},
   "outputs": [
    {
     "name": "stderr",
     "output_type": "stream",
     "text": [
      "Map: 100%|█████| 433/433 [00:00<00:00, 4611.20 examples/s]\n"
     ]
    }
   ],
   "source": [
    "def encode_labels(record):\n",
    "    return {\"labels\": [record[feature] for feature in features]}\n",
    "\n",
    "\n",
    "dataset = dataset.map(encode_labels)"
   ]
  },
  {
   "cell_type": "markdown",
   "id": "d7e154e9-a255-4d1f-b8ff-53c46f91a142",
   "metadata": {},
   "source": [
    "Next, we use the samples we selected as our training set, and the others as our test set (since the ethos dataset does not have a test split on the hub).\n",
    "\n",
    "Here we have 64 total examples to train with since the `ethos` dataset has 8 classes."
   ]
  },
  {
   "cell_type": "code",
   "execution_count": 10,
   "id": "2bc7f32d-7320-4721-9276-ec37a39d2630",
   "metadata": {},
   "outputs": [],
   "source": [
    "train_dataset = dataset[\"train\"].select(samples)\n",
    "eval_dataset = dataset[\"train\"].select(\n",
    "    np.setdiff1d(np.arange(len(dataset[\"train\"])), samples)\n",
    ")"
   ]
  },
  {
   "cell_type": "markdown",
   "id": "059bd547-0e39-43ab-adf0-5f5509217020",
   "metadata": {},
   "source": [
    "Okay, now we have the dataset, let's load and train a model!"
   ]
  },
  {
   "cell_type": "markdown",
   "id": "37e7c839-1f06-4d35-aa34-6e13659db814",
   "metadata": {},
   "source": [
    "## Fine-tuning the model"
   ]
  },
  {
   "cell_type": "markdown",
   "id": "78e8c41a",
   "metadata": {},
   "source": [
    "To train a SetFit model, the first thing to do is download a pretrained checkpoint from the Hub. We can do so by using the `from_pretrained()` method associated with the `SetFitModel` class.\n",
    "\n",
    "**Note that the `multi_target_strategy` parameter here signals to both the model and the trainer to expect a multi-labelled dataset.**"
   ]
  },
  {
   "cell_type": "code",
   "execution_count": 11,
   "id": "33661c9d-46d3-42eb-9b15-8a2bc49d7f6c",
   "metadata": {},
   "outputs": [
    {
     "name": "stderr",
     "output_type": "stream",
     "text": [
      "2023-10-17 12:31:24.618257: I tensorflow/core/platform/cpu_feature_guard.cc:182] This TensorFlow binary is optimized to use available CPU instructions in performance-critical operations.\n",
      "To enable the following instructions: AVX2 FMA, in other operations, rebuild TensorFlow with the appropriate compiler flags.\n",
      "2023-10-17 12:31:25.869246: W tensorflow/compiler/tf2tensorrt/utils/py_utils.cc:38] TF-TRT Warning: Could not find TensorRT\n",
      "model_head.pkl not found on HuggingFace Hub, initialising classification head with random weights. You should TRAIN this model on a downstream task to use it for predictions and inference.\n"
     ]
    }
   ],
   "source": [
    "from setfit import SetFitModel\n",
    "\n",
    "model = SetFitModel.from_pretrained(model_id, multi_target_strategy=\"one-vs-rest\")"
   ]
  },
  {
   "cell_type": "markdown",
   "id": "84e7521e-95ca-431a-8d7f-2f18e1de16ce",
   "metadata": {},
   "source": [
    "Here, we've downloaded a pretrained Sentence Transformer from the Hub and added a logistic classification head to the create the SetFit model. As indicated in the message, we need to train this model on some labeled examples. We can do so by using the `SetFitTrainer` class as follows:"
   ]
  },
  {
   "cell_type": "code",
   "execution_count": 12,
   "id": "e44b7069-27b0-49ea-bc27-c44f94a98e2f",
   "metadata": {},
   "outputs": [],
   "source": [
    "from sentence_transformers.losses import CosineSimilarityLoss\n",
    "from setfit import SetFitTrainer\n",
    "\n",
    "trainer = SetFitTrainer(\n",
    "    model=model,\n",
    "    train_dataset=train_dataset,\n",
    "    eval_dataset=eval_dataset,\n",
    "    loss_class=CosineSimilarityLoss,\n",
    "    num_iterations=20,\n",
    "    column_mapping={\"text\": \"text\", \"labels\": \"label\"},\n",
    ")"
   ]
  },
  {
   "cell_type": "markdown",
   "id": "cbd3e642",
   "metadata": {},
   "source": [
    "The main arguments to notice in the trainer is the following:\n",
    "\n",
    "* `loss_class`: The loss function to use for contrastive learning with the Sentence Transformer body\n",
    "* `num_iterations`: The number of text pairs to generate for contrastive learning\n",
    "* `column_mapping`: The `SetFitTrainer` expects the inputs to be found in a `text` and `label` column. This mapping automatically formats the training and evaluation datasets for us."
   ]
  },
  {
   "cell_type": "markdown",
   "id": "b6e3c5ae-c287-4936-b1ac-5eca10c7f39c",
   "metadata": {},
   "source": [
    "Now that we've created a trainer, we can train it!"
   ]
  },
  {
   "cell_type": "code",
   "execution_count": 14,
   "id": "6b5a468b-2796-47c3-8907-c0147ee58dd5",
   "metadata": {},
   "outputs": [
    {
     "name": "stderr",
     "output_type": "stream",
     "text": [
      "Applying column mapping to training dataset\n",
      "Generating Training Pairs: 100%|█| 20/20 [00:00<00:00, 137\n",
      "***** Running training *****\n",
      "  Num examples = 3860\n",
      "  Num epochs = 1\n",
      "  Total optimization steps = 242\n",
      "  Total train batch size = 16\n",
      "Epoch:   0%|                        | 0/1 [00:00<?, ?it/s]\n",
      "Iteration:   0%|                  | 0/242 [00:00<?, ?it/s]\u001b[A\n",
      "Iteration:   0%|          | 1/242 [00:00<01:30,  2.67it/s]\u001b[A\n",
      "Iteration:   1%|          | 2/242 [00:00<01:28,  2.71it/s]\u001b[A\n",
      "Iteration:   1%|          | 3/242 [00:01<01:27,  2.73it/s]\u001b[A\n",
      "Iteration:   2%|▏         | 4/242 [00:01<01:23,  2.85it/s]\u001b[A\n",
      "Iteration:   2%|▏         | 5/242 [00:01<01:19,  2.98it/s]\u001b[A\n",
      "Iteration:   2%|▏         | 6/242 [00:02<01:18,  3.00it/s]\u001b[A\n",
      "Iteration:   3%|▎         | 7/242 [00:02<01:17,  3.05it/s]\u001b[A\n",
      "Iteration:   3%|▎         | 8/242 [00:02<01:16,  3.05it/s]\u001b[A\n",
      "Iteration:   4%|▎         | 9/242 [00:02<01:16,  3.04it/s]\u001b[A\n",
      "Iteration:   4%|▎        | 10/242 [00:03<01:15,  3.07it/s]\u001b[A\n",
      "Iteration:   5%|▍        | 11/242 [00:03<01:16,  3.02it/s]\u001b[A\n",
      "Iteration:   5%|▍        | 12/242 [00:03<01:16,  3.01it/s]\u001b[A\n",
      "Iteration:   5%|▍        | 13/242 [00:04<01:14,  3.08it/s]\u001b[A\n",
      "Iteration:   6%|▌        | 14/242 [00:04<01:13,  3.09it/s]\u001b[A\n",
      "Iteration:   6%|▌        | 15/242 [00:04<01:12,  3.15it/s]\u001b[A\n",
      "Iteration:   7%|▌        | 16/242 [00:05<01:11,  3.17it/s]\u001b[A\n",
      "Iteration:   7%|▋        | 17/242 [00:05<01:09,  3.22it/s]\u001b[A\n",
      "Iteration:   7%|▋        | 18/242 [00:05<01:10,  3.16it/s]\u001b[A\n",
      "Iteration:   8%|▋        | 19/242 [00:06<01:09,  3.20it/s]\u001b[A\n",
      "Iteration:   8%|▋        | 20/242 [00:06<01:09,  3.21it/s]\u001b[A\n",
      "Iteration:   9%|▊        | 21/242 [00:06<01:09,  3.20it/s]\u001b[A\n",
      "Iteration:   9%|▊        | 22/242 [00:06<01:09,  3.18it/s]\u001b[A\n",
      "Iteration:  10%|▊        | 23/242 [00:07<01:08,  3.19it/s]\u001b[A\n",
      "Iteration:  10%|▉        | 24/242 [00:07<01:07,  3.23it/s]\u001b[A\n",
      "Iteration:  10%|▉        | 25/242 [00:07<01:07,  3.21it/s]\u001b[A\n",
      "Iteration:  11%|▉        | 26/242 [00:08<01:08,  3.17it/s]\u001b[A\n",
      "Iteration:  11%|█        | 27/242 [00:08<01:08,  3.14it/s]\u001b[A\n",
      "Iteration:  12%|█        | 28/242 [00:08<01:08,  3.11it/s]\u001b[A\n",
      "Iteration:  12%|█        | 29/242 [00:09<01:08,  3.11it/s]\u001b[A\n",
      "Iteration:  12%|█        | 30/242 [00:09<01:08,  3.08it/s]\u001b[A\n",
      "Iteration:  13%|█▏       | 31/242 [00:09<01:07,  3.15it/s]\u001b[A\n",
      "Iteration:  13%|█▏       | 32/242 [00:10<01:06,  3.14it/s]\u001b[A\n",
      "Iteration:  14%|█▏       | 33/242 [00:10<01:06,  3.12it/s]\u001b[A\n",
      "Iteration:  14%|█▎       | 34/242 [00:10<01:07,  3.09it/s]\u001b[A\n",
      "Iteration:  14%|█▎       | 35/242 [00:11<01:06,  3.09it/s]\u001b[A\n",
      "Iteration:  15%|█▎       | 36/242 [00:11<01:06,  3.10it/s]\u001b[A\n",
      "Iteration:  15%|█▍       | 37/242 [00:11<01:06,  3.08it/s]\u001b[A\n",
      "Iteration:  16%|█▍       | 38/242 [00:12<01:06,  3.07it/s]\u001b[A\n",
      "Iteration:  16%|█▍       | 39/242 [00:12<01:05,  3.10it/s]\u001b[A\n",
      "Iteration:  17%|█▍       | 40/242 [00:12<01:04,  3.12it/s]\u001b[A\n",
      "Iteration:  17%|█▌       | 41/242 [00:13<01:03,  3.15it/s]\u001b[A\n",
      "Iteration:  17%|█▌       | 42/242 [00:13<01:03,  3.17it/s]\u001b[A\n",
      "Iteration:  18%|█▌       | 43/242 [00:13<01:01,  3.21it/s]\u001b[A\n",
      "Iteration:  18%|█▋       | 44/242 [00:13<01:01,  3.21it/s]\u001b[A\n",
      "Iteration:  19%|█▋       | 45/242 [00:14<01:01,  3.23it/s]\u001b[A\n",
      "Iteration:  19%|█▋       | 46/242 [00:14<01:02,  3.16it/s]\u001b[A\n",
      "Iteration:  19%|█▋       | 47/242 [00:15<01:02,  3.14it/s]\u001b[A\n",
      "Iteration:  20%|█▊       | 48/242 [00:15<01:02,  3.10it/s]\u001b[A\n",
      "Iteration:  20%|█▊       | 49/242 [00:15<01:01,  3.13it/s]\u001b[A\n",
      "Iteration:  21%|█▊       | 50/242 [00:15<01:01,  3.13it/s]\u001b[A\n",
      "Iteration:  21%|█▉       | 51/242 [00:16<01:01,  3.12it/s]\u001b[A\n",
      "Iteration:  21%|█▉       | 52/242 [00:16<01:01,  3.11it/s]\u001b[A\n",
      "Iteration:  22%|█▉       | 53/242 [00:16<01:00,  3.11it/s]\u001b[A\n",
      "Iteration:  22%|██       | 54/242 [00:17<01:01,  3.07it/s]\u001b[A\n",
      "Iteration:  23%|██       | 55/242 [00:17<01:00,  3.07it/s]\u001b[A\n",
      "Iteration:  23%|██       | 56/242 [00:18<01:00,  3.07it/s]\u001b[A\n",
      "Iteration:  24%|██       | 57/242 [00:18<01:00,  3.08it/s]\u001b[A\n",
      "Iteration:  24%|██▏      | 58/242 [00:18<00:59,  3.07it/s]\u001b[A\n",
      "Iteration:  24%|██▏      | 59/242 [00:19<01:00,  3.03it/s]\u001b[A\n",
      "Iteration:  25%|██▏      | 60/242 [00:19<01:00,  3.03it/s]\u001b[A\n",
      "Iteration:  25%|██▎      | 61/242 [00:19<00:59,  3.02it/s]\u001b[A\n",
      "Iteration:  26%|██▎      | 62/242 [00:20<00:59,  3.00it/s]\u001b[A\n",
      "Iteration:  26%|██▎      | 63/242 [00:20<00:59,  3.02it/s]\u001b[A\n",
      "Iteration:  26%|██▍      | 64/242 [00:20<00:59,  3.01it/s]\u001b[A\n",
      "Iteration:  27%|██▍      | 65/242 [00:21<00:58,  3.01it/s]\u001b[A\n",
      "Iteration:  27%|██▍      | 66/242 [00:21<00:58,  3.01it/s]\u001b[A\n",
      "Iteration:  28%|██▍      | 67/242 [00:21<00:57,  3.02it/s]\u001b[A\n",
      "Iteration:  28%|██▌      | 68/242 [00:22<00:57,  3.05it/s]\u001b[A\n",
      "Iteration:  29%|██▌      | 69/242 [00:22<00:57,  3.03it/s]\u001b[A\n",
      "Iteration:  29%|██▌      | 70/242 [00:22<00:56,  3.03it/s]\u001b[A\n",
      "Iteration:  29%|██▋      | 71/242 [00:23<00:56,  3.04it/s]\u001b[A\n",
      "Iteration:  30%|██▋      | 72/242 [00:23<00:55,  3.05it/s]\u001b[A\n",
      "Iteration:  30%|██▋      | 73/242 [00:23<00:54,  3.09it/s]\u001b[A\n",
      "Iteration:  31%|██▊      | 74/242 [00:23<00:54,  3.11it/s]\u001b[A\n",
      "Iteration:  31%|██▊      | 75/242 [00:24<00:53,  3.13it/s]\u001b[A\n",
      "Iteration:  31%|██▊      | 76/242 [00:24<00:53,  3.12it/s]\u001b[A\n",
      "Iteration:  32%|██▊      | 77/242 [00:24<00:53,  3.10it/s]\u001b[A\n",
      "Iteration:  32%|██▉      | 78/242 [00:25<00:53,  3.08it/s]\u001b[A\n",
      "Iteration:  33%|██▉      | 79/242 [00:25<00:53,  3.06it/s]\u001b[A\n",
      "Iteration:  33%|██▉      | 80/242 [00:25<00:53,  3.05it/s]\u001b[A\n",
      "Iteration:  33%|███      | 81/242 [00:26<00:52,  3.07it/s]\u001b[A\n",
      "Iteration:  34%|███      | 82/242 [00:26<00:52,  3.04it/s]\u001b[A\n",
      "Iteration:  34%|███      | 83/242 [00:26<00:52,  3.02it/s]\u001b[A\n",
      "Iteration:  35%|███      | 84/242 [00:27<00:51,  3.06it/s]\u001b[A\n",
      "Iteration:  35%|███▏     | 85/242 [00:27<00:50,  3.08it/s]\u001b[A\n",
      "Iteration:  36%|███▏     | 86/242 [00:27<00:51,  3.05it/s]\u001b[A\n",
      "Iteration:  36%|███▏     | 87/242 [00:28<00:50,  3.07it/s]\u001b[A\n",
      "Iteration:  36%|███▎     | 88/242 [00:28<00:49,  3.09it/s]\u001b[A\n",
      "Iteration:  37%|███▎     | 89/242 [00:28<00:49,  3.12it/s]\u001b[A\n",
      "Iteration:  37%|███▎     | 90/242 [00:29<00:48,  3.12it/s]\u001b[A\n",
      "Iteration:  38%|███▍     | 91/242 [00:29<00:48,  3.12it/s]\u001b[A\n",
      "Iteration:  38%|███▍     | 92/242 [00:29<00:48,  3.12it/s]\u001b[A\n",
      "Iteration:  38%|███▍     | 93/242 [00:30<00:48,  3.10it/s]\u001b[A\n",
      "Iteration:  39%|███▍     | 94/242 [00:30<00:47,  3.10it/s]\u001b[A\n",
      "Iteration:  39%|███▌     | 95/242 [00:30<00:47,  3.11it/s]\u001b[A\n",
      "Iteration:  40%|███▌     | 96/242 [00:31<00:47,  3.07it/s]\u001b[A\n",
      "Iteration:  40%|███▌     | 97/242 [00:31<00:47,  3.06it/s]\u001b[A\n",
      "Iteration:  40%|███▋     | 98/242 [00:31<00:47,  3.06it/s]\u001b[A\n",
      "Iteration:  41%|███▋     | 99/242 [00:32<00:46,  3.08it/s]\u001b[A\n",
      "Iteration:  41%|███▎    | 100/242 [00:32<00:46,  3.08it/s]\u001b[A\n",
      "Iteration:  42%|███▎    | 101/242 [00:32<00:45,  3.08it/s]\u001b[A\n",
      "Iteration:  42%|███▎    | 102/242 [00:33<00:45,  3.07it/s]\u001b[A\n",
      "Iteration:  43%|███▍    | 103/242 [00:33<00:44,  3.10it/s]\u001b[A\n",
      "Iteration:  43%|███▍    | 104/242 [00:33<00:44,  3.10it/s]\u001b[A\n",
      "Iteration:  43%|███▍    | 105/242 [00:33<00:44,  3.08it/s]\u001b[A\n",
      "Iteration:  44%|███▌    | 106/242 [00:34<00:44,  3.07it/s]\u001b[A\n",
      "Iteration:  44%|███▌    | 107/242 [00:34<00:43,  3.07it/s]\u001b[A\n",
      "Iteration:  45%|███▌    | 108/242 [00:35<00:44,  3.04it/s]\u001b[A\n",
      "Iteration:  45%|███▌    | 109/242 [00:35<00:44,  3.02it/s]\u001b[A\n",
      "Iteration:  45%|███▋    | 110/242 [00:35<00:43,  3.00it/s]\u001b[A\n",
      "Iteration:  46%|███▋    | 111/242 [00:36<00:43,  3.00it/s]\u001b[A\n",
      "Iteration:  46%|███▋    | 112/242 [00:36<00:43,  3.00it/s]\u001b[A\n",
      "Iteration:  47%|███▋    | 113/242 [00:36<00:42,  3.04it/s]\u001b[A\n",
      "Iteration:  47%|███▊    | 114/242 [00:37<00:42,  3.04it/s]\u001b[A\n",
      "Iteration:  48%|███▊    | 115/242 [00:37<00:41,  3.05it/s]\u001b[A\n",
      "Iteration:  48%|███▊    | 116/242 [00:37<00:41,  3.05it/s]\u001b[A\n",
      "Iteration:  48%|███▊    | 117/242 [00:37<00:40,  3.07it/s]\u001b[A\n",
      "Iteration:  49%|███▉    | 118/242 [00:38<00:40,  3.09it/s]\u001b[A\n",
      "Iteration:  49%|███▉    | 119/242 [00:38<00:39,  3.08it/s]\u001b[A\n",
      "Iteration:  50%|███▉    | 120/242 [00:38<00:39,  3.10it/s]\u001b[A\n",
      "Iteration:  50%|████    | 121/242 [00:39<00:39,  3.06it/s]\u001b[A\n",
      "Iteration:  50%|████    | 122/242 [00:39<00:38,  3.09it/s]\u001b[A\n",
      "Iteration:  51%|████    | 123/242 [00:39<00:38,  3.12it/s]\u001b[A\n",
      "Iteration:  51%|████    | 124/242 [00:40<00:38,  3.10it/s]\u001b[A\n",
      "Iteration:  52%|████▏   | 125/242 [00:40<00:37,  3.11it/s]\u001b[A\n",
      "Iteration:  52%|████▏   | 126/242 [00:40<00:37,  3.10it/s]\u001b[A\n",
      "Iteration:  52%|████▏   | 127/242 [00:41<00:37,  3.09it/s]\u001b[A\n",
      "Iteration:  53%|████▏   | 128/242 [00:41<00:37,  3.08it/s]\u001b[A\n",
      "Iteration:  53%|████▎   | 129/242 [00:41<00:36,  3.10it/s]\u001b[A\n",
      "Iteration:  54%|████▎   | 130/242 [00:42<00:36,  3.11it/s]\u001b[A\n",
      "Iteration:  54%|████▎   | 131/242 [00:42<00:35,  3.09it/s]\u001b[A\n",
      "Iteration:  55%|████▎   | 132/242 [00:42<00:34,  3.14it/s]\u001b[A\n",
      "Iteration:  55%|████▍   | 133/242 [00:42<00:34,  3.14it/s]\u001b[A\n",
      "Iteration:  55%|████▍   | 134/242 [00:43<00:34,  3.12it/s]\u001b[A\n",
      "Iteration:  56%|████▍   | 135/242 [00:43<00:34,  3.11it/s]\u001b[A\n",
      "Iteration:  56%|████▍   | 136/242 [00:44<00:34,  3.09it/s]\u001b[A\n",
      "Iteration:  57%|████▌   | 137/242 [00:44<00:34,  3.06it/s]\u001b[A\n",
      "Iteration:  57%|████▌   | 138/242 [00:44<00:33,  3.06it/s]\u001b[A\n",
      "Iteration:  57%|████▌   | 139/242 [00:45<00:33,  3.07it/s]\u001b[A\n",
      "Iteration:  58%|████▋   | 140/242 [00:45<00:32,  3.10it/s]\u001b[A\n",
      "Iteration:  58%|████▋   | 141/242 [00:45<00:32,  3.11it/s]\u001b[A\n",
      "Iteration:  59%|████▋   | 142/242 [00:45<00:32,  3.10it/s]\u001b[A\n",
      "Iteration:  59%|████▋   | 143/242 [00:46<00:31,  3.11it/s]\u001b[A\n",
      "Iteration:  60%|████▊   | 144/242 [00:46<00:31,  3.09it/s]\u001b[A\n",
      "Iteration:  60%|████▊   | 145/242 [00:46<00:31,  3.10it/s]\u001b[A\n",
      "Iteration:  60%|████▊   | 146/242 [00:47<00:30,  3.11it/s]\u001b[A\n",
      "Iteration:  61%|████▊   | 147/242 [00:47<00:30,  3.12it/s]\u001b[A\n",
      "Iteration:  61%|████▉   | 148/242 [00:47<00:30,  3.13it/s]\u001b[A\n",
      "Iteration:  62%|████▉   | 149/242 [00:48<00:29,  3.12it/s]\u001b[A\n",
      "Iteration:  62%|████▉   | 150/242 [00:48<00:29,  3.12it/s]\u001b[A\n",
      "Iteration:  62%|████▉   | 151/242 [00:48<00:29,  3.12it/s]\u001b[A\n",
      "Iteration:  63%|█████   | 152/242 [00:49<00:29,  3.08it/s]\u001b[A\n",
      "Iteration:  63%|█████   | 153/242 [00:49<00:28,  3.08it/s]\u001b[A\n",
      "Iteration:  64%|█████   | 154/242 [00:49<00:28,  3.07it/s]\u001b[A\n",
      "Iteration:  64%|█████   | 155/242 [00:50<00:28,  3.06it/s]\u001b[A\n",
      "Iteration:  64%|█████▏  | 156/242 [00:50<00:27,  3.07it/s]\u001b[A\n",
      "Iteration:  65%|█████▏  | 157/242 [00:50<00:27,  3.07it/s]\u001b[A\n",
      "Iteration:  65%|█████▏  | 158/242 [00:51<00:27,  3.03it/s]\u001b[A\n",
      "Iteration:  66%|█████▎  | 159/242 [00:51<00:27,  3.03it/s]\u001b[A\n",
      "Iteration:  66%|█████▎  | 160/242 [00:51<00:26,  3.05it/s]\u001b[A\n",
      "Iteration:  67%|█████▎  | 161/242 [00:52<00:26,  3.08it/s]\u001b[A\n",
      "Iteration:  67%|█████▎  | 162/242 [00:52<00:26,  3.03it/s]\u001b[A\n",
      "Iteration:  67%|█████▍  | 163/242 [00:52<00:26,  3.02it/s]\u001b[A\n",
      "Iteration:  68%|█████▍  | 164/242 [00:53<00:25,  3.03it/s]\u001b[A\n",
      "Iteration:  68%|█████▍  | 165/242 [00:53<00:25,  3.03it/s]\u001b[A\n",
      "Iteration:  69%|█████▍  | 166/242 [00:53<00:24,  3.05it/s]\u001b[A\n",
      "Iteration:  69%|█████▌  | 167/242 [00:54<00:24,  3.07it/s]\u001b[A\n",
      "Iteration:  69%|█████▌  | 168/242 [00:54<00:24,  3.06it/s]\u001b[A\n",
      "Iteration:  70%|█████▌  | 169/242 [00:54<00:23,  3.04it/s]\u001b[A\n",
      "Iteration:  70%|█████▌  | 170/242 [00:55<00:23,  3.06it/s]\u001b[A\n",
      "Iteration:  71%|█████▋  | 171/242 [00:55<00:23,  3.04it/s]\u001b[A\n",
      "Iteration:  71%|█████▋  | 172/242 [00:55<00:22,  3.08it/s]\u001b[A\n",
      "Iteration:  71%|█████▋  | 173/242 [00:56<00:22,  3.10it/s]\u001b[A\n",
      "Iteration:  72%|█████▊  | 174/242 [00:56<00:21,  3.09it/s]\u001b[A\n",
      "Iteration:  72%|█████▊  | 175/242 [00:56<00:21,  3.08it/s]\u001b[A\n",
      "Iteration:  73%|█████▊  | 176/242 [00:56<00:20,  3.15it/s]\u001b[A\n",
      "Iteration:  73%|█████▊  | 177/242 [00:57<00:20,  3.14it/s]\u001b[A\n",
      "Iteration:  74%|█████▉  | 178/242 [00:57<00:20,  3.15it/s]\u001b[A\n",
      "Iteration:  74%|█████▉  | 179/242 [00:57<00:19,  3.16it/s]\u001b[A\n",
      "Iteration:  74%|█████▉  | 180/242 [00:58<00:19,  3.17it/s]\u001b[A\n",
      "Iteration:  75%|█████▉  | 181/242 [00:58<00:19,  3.19it/s]\u001b[A\n",
      "Iteration:  75%|██████  | 182/242 [00:58<00:18,  3.23it/s]\u001b[A\n",
      "Iteration:  76%|██████  | 183/242 [00:58<00:18,  3.23it/s]\u001b[A\n",
      "Iteration:  76%|██████  | 184/242 [00:59<00:18,  3.17it/s]\u001b[A\n",
      "Iteration:  76%|██████  | 185/242 [00:59<00:17,  3.17it/s]\u001b[A\n",
      "Iteration:  77%|██████▏ | 186/242 [01:00<00:17,  3.18it/s]\u001b[A\n",
      "Iteration:  77%|██████▏ | 187/242 [01:00<00:17,  3.16it/s]\u001b[A\n",
      "Iteration:  78%|██████▏ | 188/242 [01:00<00:16,  3.18it/s]\u001b[A\n",
      "Iteration:  78%|██████▏ | 189/242 [01:01<00:16,  3.15it/s]\u001b[A\n",
      "Iteration:  79%|██████▎ | 190/242 [01:01<00:16,  3.12it/s]\u001b[A\n",
      "Iteration:  79%|██████▎ | 191/242 [01:01<00:16,  3.10it/s]\u001b[A\n",
      "Iteration:  79%|██████▎ | 192/242 [01:02<00:16,  3.11it/s]\u001b[A\n",
      "Iteration:  80%|██████▍ | 193/242 [01:02<00:15,  3.08it/s]\u001b[A\n",
      "Iteration:  80%|██████▍ | 194/242 [01:02<00:15,  3.06it/s]\u001b[A\n",
      "Iteration:  81%|██████▍ | 195/242 [01:03<00:15,  3.04it/s]\u001b[A\n",
      "Iteration:  81%|██████▍ | 196/242 [01:03<00:15,  3.06it/s]\u001b[A\n",
      "Iteration:  81%|██████▌ | 197/242 [01:03<00:14,  3.06it/s]\u001b[A\n",
      "Iteration:  82%|██████▌ | 198/242 [01:04<00:14,  3.05it/s]\u001b[A\n",
      "Iteration:  82%|██████▌ | 199/242 [01:04<00:14,  3.05it/s]\u001b[A\n",
      "Iteration:  83%|██████▌ | 200/242 [01:04<00:13,  3.07it/s]\u001b[A\n",
      "Iteration:  83%|██████▋ | 201/242 [01:05<00:13,  3.06it/s]\u001b[A\n",
      "Iteration:  83%|██████▋ | 202/242 [01:05<00:13,  3.04it/s]\u001b[A\n",
      "Iteration:  84%|██████▋ | 203/242 [01:05<00:12,  3.02it/s]\u001b[A\n",
      "Iteration:  84%|██████▋ | 204/242 [01:06<00:12,  3.00it/s]\u001b[A\n",
      "Iteration:  85%|██████▊ | 205/242 [01:06<00:12,  3.01it/s]\u001b[A\n",
      "Iteration:  85%|██████▊ | 206/242 [01:06<00:11,  3.05it/s]\u001b[A\n",
      "Iteration:  86%|██████▊ | 207/242 [01:07<00:11,  3.05it/s]\u001b[A\n",
      "Iteration:  86%|██████▉ | 208/242 [01:07<00:11,  3.07it/s]\u001b[A\n",
      "Iteration:  86%|██████▉ | 209/242 [01:07<00:10,  3.10it/s]\u001b[A\n",
      "Iteration:  87%|██████▉ | 210/242 [01:07<00:10,  3.13it/s]\u001b[A\n",
      "Iteration:  87%|██████▉ | 211/242 [01:08<00:09,  3.10it/s]\u001b[A\n",
      "Iteration:  88%|███████ | 212/242 [01:08<00:09,  3.06it/s]\u001b[A\n",
      "Iteration:  88%|███████ | 213/242 [01:09<00:09,  3.05it/s]\u001b[A\n",
      "Iteration:  88%|███████ | 214/242 [01:09<00:09,  3.09it/s]\u001b[A\n",
      "Iteration:  89%|███████ | 215/242 [01:09<00:08,  3.06it/s]\u001b[A\n",
      "Iteration:  89%|███████▏| 216/242 [01:10<00:08,  3.04it/s]\u001b[A\n",
      "Iteration:  90%|███████▏| 217/242 [01:10<00:08,  3.07it/s]\u001b[A\n",
      "Iteration:  90%|███████▏| 218/242 [01:10<00:07,  3.04it/s]\u001b[A\n",
      "Iteration:  90%|███████▏| 219/242 [01:11<00:07,  3.03it/s]\u001b[A\n",
      "Iteration:  91%|███████▎| 220/242 [01:11<00:07,  3.00it/s]\u001b[A\n",
      "Iteration:  91%|███████▎| 221/242 [01:11<00:06,  3.03it/s]\u001b[A\n",
      "Iteration:  92%|███████▎| 222/242 [01:12<00:06,  3.04it/s]\u001b[A\n",
      "Iteration:  92%|███████▎| 223/242 [01:12<00:06,  3.03it/s]\u001b[A\n",
      "Iteration:  93%|███████▍| 224/242 [01:12<00:05,  3.04it/s]\u001b[A\n",
      "Iteration:  93%|███████▍| 225/242 [01:13<00:05,  3.03it/s]\u001b[A\n",
      "Iteration:  93%|███████▍| 226/242 [01:13<00:05,  3.05it/s]\u001b[A\n",
      "Iteration:  94%|███████▌| 227/242 [01:13<00:04,  3.07it/s]\u001b[A\n",
      "Iteration:  94%|███████▌| 228/242 [01:13<00:04,  3.10it/s]\u001b[A\n",
      "Iteration:  95%|███████▌| 229/242 [01:14<00:04,  3.09it/s]\u001b[A\n",
      "Iteration:  95%|███████▌| 230/242 [01:14<00:03,  3.07it/s]\u001b[A\n",
      "Iteration:  95%|███████▋| 231/242 [01:14<00:03,  3.05it/s]\u001b[A\n",
      "Iteration:  96%|███████▋| 232/242 [01:15<00:03,  3.02it/s]\u001b[A\n",
      "Iteration:  96%|███████▋| 233/242 [01:15<00:02,  3.00it/s]\u001b[A\n",
      "Iteration:  97%|███████▋| 234/242 [01:16<00:02,  3.02it/s]\u001b[A\n",
      "Iteration:  97%|███████▊| 235/242 [01:16<00:02,  2.99it/s]\u001b[A\n",
      "Iteration:  98%|███████▊| 236/242 [01:16<00:01,  3.01it/s]\u001b[A\n",
      "Iteration:  98%|███████▊| 237/242 [01:17<00:01,  3.01it/s]\u001b[A\n",
      "Iteration:  98%|███████▊| 238/242 [01:17<00:01,  3.03it/s]\u001b[A\n",
      "Iteration:  99%|███████▉| 239/242 [01:17<00:00,  3.01it/s]\u001b[A\n",
      "Iteration:  99%|███████▉| 240/242 [01:18<00:00,  3.01it/s]\u001b[A\n",
      "Iteration: 100%|███████▉| 241/242 [01:18<00:00,  2.99it/s]\u001b[A\n",
      "Iteration: 100%|████████| 242/242 [01:18<00:00,  3.08it/s]\u001b[A\n",
      "Epoch: 100%|████████████████| 1/1 [01:18<00:00, 78.64s/it]\n"
     ]
    }
   ],
   "source": [
    "trainer.train()"
   ]
  },
  {
   "cell_type": "markdown",
   "id": "e799f994",
   "metadata": {},
   "source": [
    "The final step is to compute the model's performance using the `evaluate()` method. The default metric measures 'subset accuracy', which measures the fraction of samples where we predict all 8 labels correctly."
   ]
  },
  {
   "cell_type": "code",
   "execution_count": 15,
   "id": "453c11d0-a1e4-49c2-859a-cc70e033b4a6",
   "metadata": {},
   "outputs": [
    {
     "name": "stderr",
     "output_type": "stream",
     "text": [
      "Applying column mapping to evaluation dataset\n",
      "***** Running evaluation *****\n"
     ]
    },
    {
     "data": {
      "text/plain": [
       "{'accuracy': 0.30319148936170215}"
      ]
     },
     "execution_count": 15,
     "metadata": {},
     "output_type": "execute_result"
    }
   ],
   "source": [
    "metrics = trainer.evaluate()\n",
    "metrics"
   ]
  },
  {
   "cell_type": "markdown",
   "id": "f021b168-02d2-4cc8-942d-65d3b821e253",
   "metadata": {},
   "source": [
    "And once the model is trained, you can push it to the Hub:"
   ]
  },
  {
   "cell_type": "code",
   "execution_count": null,
   "id": "c420c4b9-1552-45a5-888c-cdbb78f8e4fc",
   "metadata": {
    "scrolled": true
   },
   "outputs": [],
   "source": [
    "trainer.push_to_hub(f\"setfit-ethos-multilabel-example\")"
   ]
  },
  {
   "cell_type": "markdown",
   "id": "02173d18-4874-4148-8789-90ac695717bc",
   "metadata": {},
   "source": [
    "You can now share this model with all your friends, family, favorite pets: they can all load it with the identifier `your-username/the-name-you-picked` so for instance:"
   ]
  },
  {
   "cell_type": "code",
   "execution_count": 12,
   "id": "2b5e5623-0452-4d36-8eb0-cfb36c8664da",
   "metadata": {},
   "outputs": [
    {
     "data": {
      "application/vnd.jupyter.widget-view+json": {
       "model_id": "3ef4ee556c3349079496121409707a00",
       "version_major": 2,
       "version_minor": 0
      },
      "text/plain": [
       "Downloading:   0%|          | 0.00/668 [00:00<?, ?B/s]"
      ]
     },
     "metadata": {},
     "output_type": "display_data"
    },
    {
     "data": {
      "application/vnd.jupyter.widget-view+json": {
       "model_id": "c92a56d77527401ab97f600a65598f94",
       "version_major": 2,
       "version_minor": 0
      },
      "text/plain": [
       "Downloading:   0%|          | 0.00/1.43k [00:00<?, ?B/s]"
      ]
     },
     "metadata": {},
     "output_type": "display_data"
    },
    {
     "data": {
      "application/vnd.jupyter.widget-view+json": {
       "model_id": "959481bb15a6491baee5daa6d53707ac",
       "version_major": 2,
       "version_minor": 0
      },
      "text/plain": [
       "Downloading:   0%|          | 0.00/190 [00:00<?, ?B/s]"
      ]
     },
     "metadata": {},
     "output_type": "display_data"
    },
    {
     "data": {
      "application/vnd.jupyter.widget-view+json": {
       "model_id": "1c3633c298644eaea025cd97d54c0cfb",
       "version_major": 2,
       "version_minor": 0
      },
      "text/plain": [
       "Downloading:   0%|          | 0.00/3.70k [00:00<?, ?B/s]"
      ]
     },
     "metadata": {},
     "output_type": "display_data"
    },
    {
     "data": {
      "application/vnd.jupyter.widget-view+json": {
       "model_id": "050de7e75d0048dca462b21851fa1102",
       "version_major": 2,
       "version_minor": 0
      },
      "text/plain": [
       "Downloading:   0%|          | 0.00/668 [00:00<?, ?B/s]"
      ]
     },
     "metadata": {},
     "output_type": "display_data"
    },
    {
     "data": {
      "application/vnd.jupyter.widget-view+json": {
       "model_id": "765ae5d6f9774575b9bc04bbdec8f252",
       "version_major": 2,
       "version_minor": 0
      },
      "text/plain": [
       "Downloading:   0%|          | 0.00/122 [00:00<?, ?B/s]"
      ]
     },
     "metadata": {},
     "output_type": "display_data"
    },
    {
     "data": {
      "application/vnd.jupyter.widget-view+json": {
       "model_id": "df34ece5072641aabd981f54db8b3c4a",
       "version_major": 2,
       "version_minor": 0
      },
      "text/plain": [
       "Downloading:   0%|          | 0.00/52.8k [00:00<?, ?B/s]"
      ]
     },
     "metadata": {},
     "output_type": "display_data"
    },
    {
     "data": {
      "application/vnd.jupyter.widget-view+json": {
       "model_id": "cb343329e952476e82c955f55ecb794f",
       "version_major": 2,
       "version_minor": 0
      },
      "text/plain": [
       "Downloading:   0%|          | 0.00/438M [00:00<?, ?B/s]"
      ]
     },
     "metadata": {},
     "output_type": "display_data"
    },
    {
     "data": {
      "application/vnd.jupyter.widget-view+json": {
       "model_id": "cd446e806fdc48cca79dc90a7822e9e6",
       "version_major": 2,
       "version_minor": 0
      },
      "text/plain": [
       "Downloading:   0%|          | 0.00/53.0 [00:00<?, ?B/s]"
      ]
     },
     "metadata": {},
     "output_type": "display_data"
    },
    {
     "data": {
      "application/vnd.jupyter.widget-view+json": {
       "model_id": "a14ab7f486da4549bb77c6c200e2d421",
       "version_major": 2,
       "version_minor": 0
      },
      "text/plain": [
       "Downloading:   0%|          | 0.00/280 [00:00<?, ?B/s]"
      ]
     },
     "metadata": {},
     "output_type": "display_data"
    },
    {
     "data": {
      "application/vnd.jupyter.widget-view+json": {
       "model_id": "5cfe3ce3810341b4a0b3229a5c4f83e3",
       "version_major": 2,
       "version_minor": 0
      },
      "text/plain": [
       "Downloading:   0%|          | 0.00/712k [00:00<?, ?B/s]"
      ]
     },
     "metadata": {},
     "output_type": "display_data"
    },
    {
     "data": {
      "application/vnd.jupyter.widget-view+json": {
       "model_id": "368346a7bbfa45d783f7259b208f26fa",
       "version_major": 2,
       "version_minor": 0
      },
      "text/plain": [
       "Downloading:   0%|          | 0.00/1.51k [00:00<?, ?B/s]"
      ]
     },
     "metadata": {},
     "output_type": "display_data"
    },
    {
     "data": {
      "application/vnd.jupyter.widget-view+json": {
       "model_id": "715d1ce4dc5b4927b6a4ee611259ef6d",
       "version_major": 2,
       "version_minor": 0
      },
      "text/plain": [
       "Downloading:   0%|          | 0.00/232k [00:00<?, ?B/s]"
      ]
     },
     "metadata": {},
     "output_type": "display_data"
    },
    {
     "data": {
      "application/vnd.jupyter.widget-view+json": {
       "model_id": "98442fbd9765417d95cbd7f0bc555743",
       "version_major": 2,
       "version_minor": 0
      },
      "text/plain": [
       "Downloading:   0%|          | 0.00/229 [00:00<?, ?B/s]"
      ]
     },
     "metadata": {},
     "output_type": "display_data"
    },
    {
     "data": {
      "application/vnd.jupyter.widget-view+json": {
       "model_id": "7a19f8a77f64409c9a7fe00478477d7c",
       "version_major": 2,
       "version_minor": 0
      },
      "text/plain": [
       "Downloading:   0%|          | 0.00/52.8k [00:00<?, ?B/s]"
      ]
     },
     "metadata": {},
     "output_type": "display_data"
    }
   ],
   "source": [
    "from setfit import SetFitModel\n",
    "\n",
    "model = SetFitModel.from_pretrained(\"lewtun/setfit-ethos-multilabel-example\")"
   ]
  },
  {
   "cell_type": "markdown",
   "id": "d9f0e4e5-6645-4306-a9ab-06d0db9e23d0",
   "metadata": {},
   "source": [
    "Run inference. As is usual in toxicity models, it tends to think any mention of topics such as race or gender are negative."
   ]
  },
  {
   "cell_type": "code",
   "execution_count": 13,
   "id": "6e51180c-5a62-4dfa-a543-334982db2d69",
   "metadata": {},
   "outputs": [
    {
     "data": {
      "text/plain": [
       "array([[0, 0, 0, 0, 0, 0, 1, 0],\n",
       "       [0, 1, 0, 0, 0, 0, 0, 0]])"
      ]
     },
     "execution_count": 13,
     "metadata": {},
     "output_type": "execute_result"
    }
   ],
   "source": [
    "preds = model(\n",
    "    [\n",
    "        \"Jewish people often don't eat pork.\",\n",
    "        \"Is this lipstick suitable for people with dark skin?\"\n",
    "    ]\n",
    ")\n",
    "preds"
   ]
  },
  {
   "cell_type": "code",
   "execution_count": 14,
   "id": "ebc14708-c4f6-4137-b972-ac8c257bcb9d",
   "metadata": {},
   "outputs": [
    {
     "data": {
      "text/plain": [
       "[['religion'], ['directed_vs_generalized']]"
      ]
     },
     "execution_count": 14,
     "metadata": {},
     "output_type": "execute_result"
    }
   ],
   "source": [
    "# Show predicted labels, requires you to have stored the 'features' somewhere\n",
    "[[f for f, p in zip(features, ps) if p] for ps in preds]"
   ]
  },
  {
   "cell_type": "code",
   "execution_count": null,
   "id": "e24010af-dd8e-427c-b11d-e6f1d557d0ca",
   "metadata": {},
   "outputs": [],
   "source": []
  }
 ],
 "metadata": {
  "kernelspec": {
   "display_name": "Python 3 (ipykernel)",
   "language": "python",
   "name": "python3"
  },
  "language_info": {
   "codemirror_mode": {
    "name": "ipython",
    "version": 3
   },
   "file_extension": ".py",
   "mimetype": "text/x-python",
   "name": "python",
   "nbconvert_exporter": "python",
   "pygments_lexer": "ipython3",
   "version": "3.10.9"
  },
  "vscode": {
   "interpreter": {
    "hash": "1a53731e204626af339a5238c341a3f8c4bfd7cb5ccdda48ca3fe8366eef4175"
   }
  }
 },
 "nbformat": 4,
 "nbformat_minor": 5
}
