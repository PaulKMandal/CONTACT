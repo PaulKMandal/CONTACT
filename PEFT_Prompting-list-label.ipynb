{
 "cells": [
  {
   "cell_type": "code",
   "execution_count": 1,
   "id": "26ed27a6-792e-47d2-a987-713a3a07fdf3",
   "metadata": {},
   "outputs": [],
   "source": [
    "from scraper.scrape_utils import wayback_scraper, get_article\n",
    "import numpy as np\n",
    "import pandas as pd"
   ]
  },
  {
   "cell_type": "code",
   "execution_count": 2,
   "id": "87039f39-d97d-47f6-b69f-1eeb1f9614b5",
   "metadata": {},
   "outputs": [],
   "source": [
    "df = pd.read_csv('train_data/v1/data.csv')"
   ]
  },
  {
   "cell_type": "code",
   "execution_count": 3,
   "id": "c589eaee-8978-48c6-b142-e801e4a6b72f",
   "metadata": {},
   "outputs": [],
   "source": [
    "di = {True: 1, False: 0}"
   ]
  },
  {
   "cell_type": "code",
   "execution_count": 4,
   "id": "f4eff681-840f-4093-bc7a-3d9bd8cedb65",
   "metadata": {},
   "outputs": [],
   "source": [
    "df = df.replace(di)"
   ]
  },
  {
   "cell_type": "code",
   "execution_count": 5,
   "id": "75550f10-43f2-4d75-b3bc-ef150b794dbf",
   "metadata": {},
   "outputs": [
    {
     "data": {
      "text/html": [
       "<div>\n",
       "<style scoped>\n",
       "    .dataframe tbody tr th:only-of-type {\n",
       "        vertical-align: middle;\n",
       "    }\n",
       "\n",
       "    .dataframe tbody tr th {\n",
       "        vertical-align: top;\n",
       "    }\n",
       "\n",
       "    .dataframe thead th {\n",
       "        text-align: right;\n",
       "    }\n",
       "</style>\n",
       "<table border=\"1\" class=\"dataframe\">\n",
       "  <thead>\n",
       "    <tr style=\"text-align: right;\">\n",
       "      <th></th>\n",
       "      <th>url</th>\n",
       "      <th>t_mil</th>\n",
       "      <th>t_loc</th>\n",
       "      <th>t_milcas</th>\n",
       "      <th>t_civcas</th>\n",
       "      <th>t_isis_vic</th>\n",
       "      <th>date</th>\n",
       "    </tr>\n",
       "  </thead>\n",
       "  <tbody>\n",
       "    <tr>\n",
       "      <th>0</th>\n",
       "      <td>https://www.cnn.com/2019/03/23/middleeast/isis...</td>\n",
       "      <td>1</td>\n",
       "      <td>1</td>\n",
       "      <td>0</td>\n",
       "      <td>0</td>\n",
       "      <td>0</td>\n",
       "      <td>03/23/19</td>\n",
       "    </tr>\n",
       "    <tr>\n",
       "      <th>1</th>\n",
       "      <td>https://www.cnn.com/2017/06/25/asia/philippine...</td>\n",
       "      <td>1</td>\n",
       "      <td>1</td>\n",
       "      <td>1</td>\n",
       "      <td>0</td>\n",
       "      <td>1</td>\n",
       "      <td>08/24/17</td>\n",
       "    </tr>\n",
       "    <tr>\n",
       "      <th>2</th>\n",
       "      <td>https://www.cnn.com/2017/06/06/middleeast/raqq...</td>\n",
       "      <td>1</td>\n",
       "      <td>1</td>\n",
       "      <td>0</td>\n",
       "      <td>0</td>\n",
       "      <td>1</td>\n",
       "      <td>06/06/17</td>\n",
       "    </tr>\n",
       "    <tr>\n",
       "      <th>3</th>\n",
       "      <td>https://fox2now.com/news/isis-in-the-crosshair...</td>\n",
       "      <td>1</td>\n",
       "      <td>1</td>\n",
       "      <td>0</td>\n",
       "      <td>0</td>\n",
       "      <td>0</td>\n",
       "      <td>08/16/16</td>\n",
       "    </tr>\n",
       "    <tr>\n",
       "      <th>4</th>\n",
       "      <td>https://www.cnn.com/2016/12/12/middleeast/palm...</td>\n",
       "      <td>1</td>\n",
       "      <td>1</td>\n",
       "      <td>1</td>\n",
       "      <td>0</td>\n",
       "      <td>1</td>\n",
       "      <td>09/12/16</td>\n",
       "    </tr>\n",
       "    <tr>\n",
       "      <th>5</th>\n",
       "      <td>https://www.fox13seattle.com/news/obama-were-i...</td>\n",
       "      <td>1</td>\n",
       "      <td>1</td>\n",
       "      <td>1</td>\n",
       "      <td>1</td>\n",
       "      <td>0</td>\n",
       "      <td>11/09/14</td>\n",
       "    </tr>\n",
       "    <tr>\n",
       "      <th>6</th>\n",
       "      <td>https://www.nbcnews.com/storyline/isis-terror/...</td>\n",
       "      <td>1</td>\n",
       "      <td>1</td>\n",
       "      <td>0</td>\n",
       "      <td>0</td>\n",
       "      <td>0</td>\n",
       "      <td>12/21/15</td>\n",
       "    </tr>\n",
       "    <tr>\n",
       "      <th>7</th>\n",
       "      <td>http://fingfx.thomsonreuters.com/gfx/rngs/PHIL...</td>\n",
       "      <td>1</td>\n",
       "      <td>1</td>\n",
       "      <td>1</td>\n",
       "      <td>0</td>\n",
       "      <td>1</td>\n",
       "      <td>05/25/17</td>\n",
       "    </tr>\n",
       "    <tr>\n",
       "      <th>8</th>\n",
       "      <td>https://www.defense.gov/News/News-Stories/Arti...</td>\n",
       "      <td>1</td>\n",
       "      <td>1</td>\n",
       "      <td>0</td>\n",
       "      <td>0</td>\n",
       "      <td>1</td>\n",
       "      <td>03/13/17</td>\n",
       "    </tr>\n",
       "    <tr>\n",
       "      <th>9</th>\n",
       "      <td>https://www.cnbc.com/2014/10/25/iraq-notches-v...</td>\n",
       "      <td>1</td>\n",
       "      <td>1</td>\n",
       "      <td>1</td>\n",
       "      <td>0</td>\n",
       "      <td>0</td>\n",
       "      <td>10/25/14</td>\n",
       "    </tr>\n",
       "    <tr>\n",
       "      <th>10</th>\n",
       "      <td>https://www.cnbc.com/2015/04/07/isis-in-damasc...</td>\n",
       "      <td>1</td>\n",
       "      <td>1</td>\n",
       "      <td>0</td>\n",
       "      <td>0</td>\n",
       "      <td>1</td>\n",
       "      <td>04/07/15</td>\n",
       "    </tr>\n",
       "    <tr>\n",
       "      <th>11</th>\n",
       "      <td>https://www.cnbc.com/2017/03/31/islamic-state-...</td>\n",
       "      <td>0</td>\n",
       "      <td>0</td>\n",
       "      <td>0</td>\n",
       "      <td>0</td>\n",
       "      <td>0</td>\n",
       "      <td>03/31/17</td>\n",
       "    </tr>\n",
       "    <tr>\n",
       "      <th>12</th>\n",
       "      <td>https://www.aljazeera.com/news/2015/9/1/street...</td>\n",
       "      <td>1</td>\n",
       "      <td>1</td>\n",
       "      <td>1</td>\n",
       "      <td>1</td>\n",
       "      <td>1</td>\n",
       "      <td>09/01/15</td>\n",
       "    </tr>\n",
       "    <tr>\n",
       "      <th>13</th>\n",
       "      <td>https://www.cnn.com/2015/12/28/middleeast/iraq...</td>\n",
       "      <td>1</td>\n",
       "      <td>1</td>\n",
       "      <td>0</td>\n",
       "      <td>0</td>\n",
       "      <td>0</td>\n",
       "      <td>12/29/15</td>\n",
       "    </tr>\n",
       "    <tr>\n",
       "      <th>14</th>\n",
       "      <td>https://www.cnn.com/2015/01/26/middleeast/syri...</td>\n",
       "      <td>1</td>\n",
       "      <td>1</td>\n",
       "      <td>1</td>\n",
       "      <td>1</td>\n",
       "      <td>0</td>\n",
       "      <td>01/27/15</td>\n",
       "    </tr>\n",
       "    <tr>\n",
       "      <th>15</th>\n",
       "      <td>https://www.cnn.com/videos/intl_world/2015/01/...</td>\n",
       "      <td>1</td>\n",
       "      <td>1</td>\n",
       "      <td>0</td>\n",
       "      <td>0</td>\n",
       "      <td>0</td>\n",
       "      <td>NONE</td>\n",
       "    </tr>\n",
       "    <tr>\n",
       "      <th>16</th>\n",
       "      <td>https://www.cnn.com/2015/12/07/world/syria-kur...</td>\n",
       "      <td>1</td>\n",
       "      <td>1</td>\n",
       "      <td>0</td>\n",
       "      <td>0</td>\n",
       "      <td>0</td>\n",
       "      <td>02/26/19</td>\n",
       "    </tr>\n",
       "    <tr>\n",
       "      <th>17</th>\n",
       "      <td>https://www.cnn.com/2015/05/05/middleeast/syri...</td>\n",
       "      <td>0</td>\n",
       "      <td>1</td>\n",
       "      <td>0</td>\n",
       "      <td>0</td>\n",
       "      <td>0</td>\n",
       "      <td>05/05/15</td>\n",
       "    </tr>\n",
       "    <tr>\n",
       "      <th>18</th>\n",
       "      <td>https://www.cnn.com/2016/12/12/middleeast/palm...</td>\n",
       "      <td>1</td>\n",
       "      <td>1</td>\n",
       "      <td>1</td>\n",
       "      <td>0</td>\n",
       "      <td>1</td>\n",
       "      <td>09/12/16</td>\n",
       "    </tr>\n",
       "    <tr>\n",
       "      <th>19</th>\n",
       "      <td>https://www.cnbc.com/2015/04/07/isis-in-damasc...</td>\n",
       "      <td>1</td>\n",
       "      <td>1</td>\n",
       "      <td>0</td>\n",
       "      <td>0</td>\n",
       "      <td>1</td>\n",
       "      <td>04/07/15</td>\n",
       "    </tr>\n",
       "  </tbody>\n",
       "</table>\n",
       "</div>"
      ],
      "text/plain": [
       "                                                  url  t_mil  t_loc  t_milcas  \\\n",
       "0   https://www.cnn.com/2019/03/23/middleeast/isis...      1      1         0   \n",
       "1   https://www.cnn.com/2017/06/25/asia/philippine...      1      1         1   \n",
       "2   https://www.cnn.com/2017/06/06/middleeast/raqq...      1      1         0   \n",
       "3   https://fox2now.com/news/isis-in-the-crosshair...      1      1         0   \n",
       "4   https://www.cnn.com/2016/12/12/middleeast/palm...      1      1         1   \n",
       "5   https://www.fox13seattle.com/news/obama-were-i...      1      1         1   \n",
       "6   https://www.nbcnews.com/storyline/isis-terror/...      1      1         0   \n",
       "7   http://fingfx.thomsonreuters.com/gfx/rngs/PHIL...      1      1         1   \n",
       "8   https://www.defense.gov/News/News-Stories/Arti...      1      1         0   \n",
       "9   https://www.cnbc.com/2014/10/25/iraq-notches-v...      1      1         1   \n",
       "10  https://www.cnbc.com/2015/04/07/isis-in-damasc...      1      1         0   \n",
       "11  https://www.cnbc.com/2017/03/31/islamic-state-...      0      0         0   \n",
       "12  https://www.aljazeera.com/news/2015/9/1/street...      1      1         1   \n",
       "13  https://www.cnn.com/2015/12/28/middleeast/iraq...      1      1         0   \n",
       "14  https://www.cnn.com/2015/01/26/middleeast/syri...      1      1         1   \n",
       "15  https://www.cnn.com/videos/intl_world/2015/01/...      1      1         0   \n",
       "16  https://www.cnn.com/2015/12/07/world/syria-kur...      1      1         0   \n",
       "17  https://www.cnn.com/2015/05/05/middleeast/syri...      0      1         0   \n",
       "18  https://www.cnn.com/2016/12/12/middleeast/palm...      1      1         1   \n",
       "19  https://www.cnbc.com/2015/04/07/isis-in-damasc...      1      1         0   \n",
       "\n",
       "    t_civcas  t_isis_vic      date  \n",
       "0          0           0  03/23/19  \n",
       "1          0           1  08/24/17  \n",
       "2          0           1  06/06/17  \n",
       "3          0           0  08/16/16  \n",
       "4          0           1  09/12/16  \n",
       "5          1           0  11/09/14  \n",
       "6          0           0  12/21/15  \n",
       "7          0           1  05/25/17  \n",
       "8          0           1  03/13/17  \n",
       "9          0           0  10/25/14  \n",
       "10         0           1  04/07/15  \n",
       "11         0           0  03/31/17  \n",
       "12         1           1  09/01/15  \n",
       "13         0           0  12/29/15  \n",
       "14         1           0  01/27/15  \n",
       "15         0           0      NONE  \n",
       "16         0           0  02/26/19  \n",
       "17         0           0  05/05/15  \n",
       "18         0           1  09/12/16  \n",
       "19         0           1  04/07/15  "
      ]
     },
     "execution_count": 5,
     "metadata": {},
     "output_type": "execute_result"
    }
   ],
   "source": [
    "df"
   ]
  },
  {
   "cell_type": "code",
   "execution_count": 6,
   "id": "f79bf708-b4df-4c96-b149-0cc98f3ee206",
   "metadata": {},
   "outputs": [],
   "source": [
    "text = []\n",
    "for url in df['url'].array:\n",
    "    text.append(get_article(url))"
   ]
  },
  {
   "cell_type": "code",
   "execution_count": 7,
   "id": "fa7af80e-a45f-49ba-9adc-cad798636f27",
   "metadata": {},
   "outputs": [],
   "source": [
    "df['text'] = text"
   ]
  },
  {
   "cell_type": "code",
   "execution_count": 8,
   "id": "4d89812b-ba83-45e8-b9fd-6e4011ebe581",
   "metadata": {},
   "outputs": [],
   "source": [
    "df['text'].replace('', np.nan, inplace=True)"
   ]
  },
  {
   "cell_type": "code",
   "execution_count": 9,
   "id": "57e6da9d-68c9-46e8-8981-86b04b6bfcc1",
   "metadata": {},
   "outputs": [],
   "source": [
    "df.dropna(subset=['text'], inplace=True)"
   ]
  },
  {
   "cell_type": "code",
   "execution_count": 10,
   "id": "6ba1be1b-88b9-4a52-84fc-ba1c906950ae",
   "metadata": {},
   "outputs": [
    {
     "data": {
      "text/html": [
       "<div>\n",
       "<style scoped>\n",
       "    .dataframe tbody tr th:only-of-type {\n",
       "        vertical-align: middle;\n",
       "    }\n",
       "\n",
       "    .dataframe tbody tr th {\n",
       "        vertical-align: top;\n",
       "    }\n",
       "\n",
       "    .dataframe thead th {\n",
       "        text-align: right;\n",
       "    }\n",
       "</style>\n",
       "<table border=\"1\" class=\"dataframe\">\n",
       "  <thead>\n",
       "    <tr style=\"text-align: right;\">\n",
       "      <th></th>\n",
       "      <th>url</th>\n",
       "      <th>t_mil</th>\n",
       "      <th>t_loc</th>\n",
       "      <th>t_milcas</th>\n",
       "      <th>t_civcas</th>\n",
       "      <th>t_isis_vic</th>\n",
       "      <th>date</th>\n",
       "      <th>text</th>\n",
       "    </tr>\n",
       "  </thead>\n",
       "  <tbody>\n",
       "    <tr>\n",
       "      <th>0</th>\n",
       "      <td>https://www.cnn.com/2019/03/23/middleeast/isis...</td>\n",
       "      <td>1</td>\n",
       "      <td>1</td>\n",
       "      <td>0</td>\n",
       "      <td>0</td>\n",
       "      <td>0</td>\n",
       "      <td>03/23/19</td>\n",
       "      <td>Eastern Syria CNN —\\n\\nISIS has lost its final...</td>\n",
       "    </tr>\n",
       "    <tr>\n",
       "      <th>1</th>\n",
       "      <td>https://www.cnn.com/2017/06/25/asia/philippine...</td>\n",
       "      <td>1</td>\n",
       "      <td>1</td>\n",
       "      <td>1</td>\n",
       "      <td>0</td>\n",
       "      <td>1</td>\n",
       "      <td>08/24/17</td>\n",
       "      <td>Iligan, Philippines CNN —\\n\\nDuring the rainy ...</td>\n",
       "    </tr>\n",
       "    <tr>\n",
       "      <th>2</th>\n",
       "      <td>https://www.cnn.com/2017/06/06/middleeast/raqq...</td>\n",
       "      <td>1</td>\n",
       "      <td>1</td>\n",
       "      <td>0</td>\n",
       "      <td>0</td>\n",
       "      <td>1</td>\n",
       "      <td>06/06/17</td>\n",
       "      <td>Story highlights US-backed forces have been pu...</td>\n",
       "    </tr>\n",
       "    <tr>\n",
       "      <th>3</th>\n",
       "      <td>https://fox2now.com/news/isis-in-the-crosshair...</td>\n",
       "      <td>1</td>\n",
       "      <td>1</td>\n",
       "      <td>0</td>\n",
       "      <td>0</td>\n",
       "      <td>0</td>\n",
       "      <td>08/16/16</td>\n",
       "      <td>This is an archived article and the informatio...</td>\n",
       "    </tr>\n",
       "    <tr>\n",
       "      <th>4</th>\n",
       "      <td>https://www.cnn.com/2016/12/12/middleeast/palm...</td>\n",
       "      <td>1</td>\n",
       "      <td>1</td>\n",
       "      <td>1</td>\n",
       "      <td>0</td>\n",
       "      <td>1</td>\n",
       "      <td>09/12/16</td>\n",
       "      <td>Story highlights ISIS in control of ancient ci...</td>\n",
       "    </tr>\n",
       "    <tr>\n",
       "      <th>5</th>\n",
       "      <td>https://www.fox13seattle.com/news/obama-were-i...</td>\n",
       "      <td>1</td>\n",
       "      <td>1</td>\n",
       "      <td>1</td>\n",
       "      <td>1</td>\n",
       "      <td>0</td>\n",
       "      <td>11/09/14</td>\n",
       "      <td>article\\n\\n\\n\\n\\n\\n(CNN) -- The decision to in...</td>\n",
       "    </tr>\n",
       "    <tr>\n",
       "      <th>6</th>\n",
       "      <td>https://www.nbcnews.com/storyline/isis-terror/...</td>\n",
       "      <td>1</td>\n",
       "      <td>1</td>\n",
       "      <td>0</td>\n",
       "      <td>0</td>\n",
       "      <td>0</td>\n",
       "      <td>12/21/15</td>\n",
       "      <td>A group of five men crouch behind a berm. Peri...</td>\n",
       "    </tr>\n",
       "    <tr>\n",
       "      <th>8</th>\n",
       "      <td>https://www.defense.gov/News/News-Stories/Arti...</td>\n",
       "      <td>1</td>\n",
       "      <td>1</td>\n",
       "      <td>0</td>\n",
       "      <td>0</td>\n",
       "      <td>1</td>\n",
       "      <td>03/13/17</td>\n",
       "      <td>Iraqi security forces are battling Islamic Sta...</td>\n",
       "    </tr>\n",
       "    <tr>\n",
       "      <th>9</th>\n",
       "      <td>https://www.cnbc.com/2014/10/25/iraq-notches-v...</td>\n",
       "      <td>1</td>\n",
       "      <td>1</td>\n",
       "      <td>1</td>\n",
       "      <td>0</td>\n",
       "      <td>0</td>\n",
       "      <td>10/25/14</td>\n",
       "      <td>Iraqi government forces and Shi'ite militias s...</td>\n",
       "    </tr>\n",
       "    <tr>\n",
       "      <th>10</th>\n",
       "      <td>https://www.cnbc.com/2015/04/07/isis-in-damasc...</td>\n",
       "      <td>1</td>\n",
       "      <td>1</td>\n",
       "      <td>0</td>\n",
       "      <td>0</td>\n",
       "      <td>1</td>\n",
       "      <td>04/07/15</td>\n",
       "      <td>The arrival of ISIS fighters in Syria's capita...</td>\n",
       "    </tr>\n",
       "    <tr>\n",
       "      <th>11</th>\n",
       "      <td>https://www.cnbc.com/2017/03/31/islamic-state-...</td>\n",
       "      <td>0</td>\n",
       "      <td>0</td>\n",
       "      <td>0</td>\n",
       "      <td>0</td>\n",
       "      <td>0</td>\n",
       "      <td>03/31/17</td>\n",
       "      <td>An Iraqi soldier holds an Islamic State flag d...</td>\n",
       "    </tr>\n",
       "    <tr>\n",
       "      <th>12</th>\n",
       "      <td>https://www.aljazeera.com/news/2015/9/1/street...</td>\n",
       "      <td>1</td>\n",
       "      <td>1</td>\n",
       "      <td>1</td>\n",
       "      <td>1</td>\n",
       "      <td>1</td>\n",
       "      <td>09/01/15</td>\n",
       "      <td>ISIL takes territory in south of Syria’s capit...</td>\n",
       "    </tr>\n",
       "    <tr>\n",
       "      <th>13</th>\n",
       "      <td>https://www.cnn.com/2015/12/28/middleeast/iraq...</td>\n",
       "      <td>1</td>\n",
       "      <td>1</td>\n",
       "      <td>0</td>\n",
       "      <td>0</td>\n",
       "      <td>0</td>\n",
       "      <td>12/29/15</td>\n",
       "      <td>Story highlights NEW: Spokesman for U.S.-led c...</td>\n",
       "    </tr>\n",
       "    <tr>\n",
       "      <th>14</th>\n",
       "      <td>https://www.cnn.com/2015/01/26/middleeast/syri...</td>\n",
       "      <td>1</td>\n",
       "      <td>1</td>\n",
       "      <td>1</td>\n",
       "      <td>1</td>\n",
       "      <td>0</td>\n",
       "      <td>01/27/15</td>\n",
       "      <td>Story highlights Kurds have taken control of s...</td>\n",
       "    </tr>\n",
       "    <tr>\n",
       "      <th>15</th>\n",
       "      <td>https://www.cnn.com/videos/intl_world/2015/01/...</td>\n",
       "      <td>1</td>\n",
       "      <td>1</td>\n",
       "      <td>0</td>\n",
       "      <td>0</td>\n",
       "      <td>0</td>\n",
       "      <td>NONE</td>\n",
       "      <td>1. How relevant is this ad to you?\\n\\nVideo pl...</td>\n",
       "    </tr>\n",
       "    <tr>\n",
       "      <th>16</th>\n",
       "      <td>https://www.cnn.com/2015/12/07/world/syria-kur...</td>\n",
       "      <td>1</td>\n",
       "      <td>1</td>\n",
       "      <td>0</td>\n",
       "      <td>0</td>\n",
       "      <td>0</td>\n",
       "      <td>02/26/19</td>\n",
       "      <td>Story highlights The Kurds have been battling ...</td>\n",
       "    </tr>\n",
       "    <tr>\n",
       "      <th>17</th>\n",
       "      <td>https://www.cnn.com/2015/05/05/middleeast/syri...</td>\n",
       "      <td>0</td>\n",
       "      <td>1</td>\n",
       "      <td>0</td>\n",
       "      <td>0</td>\n",
       "      <td>0</td>\n",
       "      <td>05/05/15</td>\n",
       "      <td>Story highlights Drone footage shows Syrian to...</td>\n",
       "    </tr>\n",
       "    <tr>\n",
       "      <th>18</th>\n",
       "      <td>https://www.cnn.com/2016/12/12/middleeast/palm...</td>\n",
       "      <td>1</td>\n",
       "      <td>1</td>\n",
       "      <td>1</td>\n",
       "      <td>0</td>\n",
       "      <td>1</td>\n",
       "      <td>09/12/16</td>\n",
       "      <td>Story highlights ISIS in control of ancient ci...</td>\n",
       "    </tr>\n",
       "    <tr>\n",
       "      <th>19</th>\n",
       "      <td>https://www.cnbc.com/2015/04/07/isis-in-damasc...</td>\n",
       "      <td>1</td>\n",
       "      <td>1</td>\n",
       "      <td>0</td>\n",
       "      <td>0</td>\n",
       "      <td>1</td>\n",
       "      <td>04/07/15</td>\n",
       "      <td>The arrival of ISIS fighters in Syria's capita...</td>\n",
       "    </tr>\n",
       "  </tbody>\n",
       "</table>\n",
       "</div>"
      ],
      "text/plain": [
       "                                                  url  t_mil  t_loc  t_milcas  \\\n",
       "0   https://www.cnn.com/2019/03/23/middleeast/isis...      1      1         0   \n",
       "1   https://www.cnn.com/2017/06/25/asia/philippine...      1      1         1   \n",
       "2   https://www.cnn.com/2017/06/06/middleeast/raqq...      1      1         0   \n",
       "3   https://fox2now.com/news/isis-in-the-crosshair...      1      1         0   \n",
       "4   https://www.cnn.com/2016/12/12/middleeast/palm...      1      1         1   \n",
       "5   https://www.fox13seattle.com/news/obama-were-i...      1      1         1   \n",
       "6   https://www.nbcnews.com/storyline/isis-terror/...      1      1         0   \n",
       "8   https://www.defense.gov/News/News-Stories/Arti...      1      1         0   \n",
       "9   https://www.cnbc.com/2014/10/25/iraq-notches-v...      1      1         1   \n",
       "10  https://www.cnbc.com/2015/04/07/isis-in-damasc...      1      1         0   \n",
       "11  https://www.cnbc.com/2017/03/31/islamic-state-...      0      0         0   \n",
       "12  https://www.aljazeera.com/news/2015/9/1/street...      1      1         1   \n",
       "13  https://www.cnn.com/2015/12/28/middleeast/iraq...      1      1         0   \n",
       "14  https://www.cnn.com/2015/01/26/middleeast/syri...      1      1         1   \n",
       "15  https://www.cnn.com/videos/intl_world/2015/01/...      1      1         0   \n",
       "16  https://www.cnn.com/2015/12/07/world/syria-kur...      1      1         0   \n",
       "17  https://www.cnn.com/2015/05/05/middleeast/syri...      0      1         0   \n",
       "18  https://www.cnn.com/2016/12/12/middleeast/palm...      1      1         1   \n",
       "19  https://www.cnbc.com/2015/04/07/isis-in-damasc...      1      1         0   \n",
       "\n",
       "    t_civcas  t_isis_vic      date  \\\n",
       "0          0           0  03/23/19   \n",
       "1          0           1  08/24/17   \n",
       "2          0           1  06/06/17   \n",
       "3          0           0  08/16/16   \n",
       "4          0           1  09/12/16   \n",
       "5          1           0  11/09/14   \n",
       "6          0           0  12/21/15   \n",
       "8          0           1  03/13/17   \n",
       "9          0           0  10/25/14   \n",
       "10         0           1  04/07/15   \n",
       "11         0           0  03/31/17   \n",
       "12         1           1  09/01/15   \n",
       "13         0           0  12/29/15   \n",
       "14         1           0  01/27/15   \n",
       "15         0           0      NONE   \n",
       "16         0           0  02/26/19   \n",
       "17         0           0  05/05/15   \n",
       "18         0           1  09/12/16   \n",
       "19         0           1  04/07/15   \n",
       "\n",
       "                                                 text  \n",
       "0   Eastern Syria CNN —\\n\\nISIS has lost its final...  \n",
       "1   Iligan, Philippines CNN —\\n\\nDuring the rainy ...  \n",
       "2   Story highlights US-backed forces have been pu...  \n",
       "3   This is an archived article and the informatio...  \n",
       "4   Story highlights ISIS in control of ancient ci...  \n",
       "5   article\\n\\n\\n\\n\\n\\n(CNN) -- The decision to in...  \n",
       "6   A group of five men crouch behind a berm. Peri...  \n",
       "8   Iraqi security forces are battling Islamic Sta...  \n",
       "9   Iraqi government forces and Shi'ite militias s...  \n",
       "10  The arrival of ISIS fighters in Syria's capita...  \n",
       "11  An Iraqi soldier holds an Islamic State flag d...  \n",
       "12  ISIL takes territory in south of Syria’s capit...  \n",
       "13  Story highlights NEW: Spokesman for U.S.-led c...  \n",
       "14  Story highlights Kurds have taken control of s...  \n",
       "15  1. How relevant is this ad to you?\\n\\nVideo pl...  \n",
       "16  Story highlights The Kurds have been battling ...  \n",
       "17  Story highlights Drone footage shows Syrian to...  \n",
       "18  Story highlights ISIS in control of ancient ci...  \n",
       "19  The arrival of ISIS fighters in Syria's capita...  "
      ]
     },
     "execution_count": 10,
     "metadata": {},
     "output_type": "execute_result"
    }
   ],
   "source": [
    "df"
   ]
  },
  {
   "cell_type": "code",
   "execution_count": 11,
   "id": "42bcb178-788a-4b93-930d-ce1e1efb73ec",
   "metadata": {},
   "outputs": [],
   "source": [
    "df['text'] = [elem[:512] for elem in df['text']]"
   ]
  },
  {
   "cell_type": "code",
   "execution_count": 12,
   "id": "444370b9-6616-4dc5-bc72-2238ea8fa54d",
   "metadata": {},
   "outputs": [],
   "source": [
    "from datasets import load_dataset, Dataset\n",
    "\n",
    "dataset = Dataset.from_pandas(df)"
   ]
  },
  {
   "cell_type": "code",
   "execution_count": 13,
   "id": "22e51840-865d-4eb0-a0b5-24dd61a7ab8c",
   "metadata": {},
   "outputs": [
    {
     "data": {
      "text/plain": [
       "Dataset({\n",
       "    features: ['url', 't_mil', 't_loc', 't_milcas', 't_civcas', 't_isis_vic', 'date', 'text', '__index_level_0__'],\n",
       "    num_rows: 19\n",
       "})"
      ]
     },
     "execution_count": 13,
     "metadata": {},
     "output_type": "execute_result"
    }
   ],
   "source": [
    "dataset"
   ]
  },
  {
   "cell_type": "code",
   "execution_count": 14,
   "id": "ee0eed79-b5fe-4888-9a82-d4cd863a40ea",
   "metadata": {},
   "outputs": [
    {
     "data": {
      "text/plain": [
       "{'url': 'https://www.cnn.com/2019/03/23/middleeast/isis-caliphate-end-intl/index.html',\n",
       " 't_mil': 1,\n",
       " 't_loc': 1,\n",
       " 't_milcas': 0,\n",
       " 't_civcas': 0,\n",
       " 't_isis_vic': 0,\n",
       " 'date': '03/23/19',\n",
       " 'text': 'Eastern Syria CNN —\\n\\nISIS has lost its final stronghold in Syria, the Syrian Democratic Forces announced Saturday, bringing an end to the so-called caliphate declared by the terrorist group in 2014.\\n\\nThe coalition of Kurdish and Arab soldiers backed by US, British and French special forces said it defeated ISIS and fully liberated Baghouz in eastern Syria.\\n\\n“Syrian Democratic Forces declare total elimination of so-called caliphate and 100% territorial defeat of ISIS. On this unique day, we commemorate thous',\n",
       " '__index_level_0__': 0}"
      ]
     },
     "execution_count": 14,
     "metadata": {},
     "output_type": "execute_result"
    }
   ],
   "source": [
    "dataset[0]"
   ]
  },
  {
   "cell_type": "markdown",
   "id": "6b28e9e7-d560-41e9-9320-881a692e0f0d",
   "metadata": {
    "tags": []
   },
   "source": [
    "## Loading and sampling the dataset"
   ]
  },
  {
   "cell_type": "markdown",
   "id": "a9586db2-5df2-4fdb-8c6d-5dd530b59691",
   "metadata": {},
   "source": [
    "Most datasets on the Hub have many more labeled examples than those one encounters in few-shot settings. To simulate the effect of training on a limited number of examples, let's subsample the training set to have at least 8 labeled examples per feature.\n",
    "\n",
    "Note that if your dataset has differently formatted labels, you may need to adapt this section."
   ]
  },
  {
   "cell_type": "code",
   "execution_count": 15,
   "id": "54341341-f774-40e6-b299-3371f4dddc18",
   "metadata": {},
   "outputs": [
    {
     "data": {
      "text/plain": [
       "['t_mil', 't_loc', 't_milcas', 't_civcas', 't_isis_vic']"
      ]
     },
     "execution_count": 15,
     "metadata": {},
     "output_type": "execute_result"
    }
   ],
   "source": [
    "import numpy as np\n",
    "\n",
    "features = dataset.column_names\n",
    "features.remove(\"text\")\n",
    "features.remove(\"url\")\n",
    "features.remove(\"date\")\n",
    "features.remove(\"__index_level_0__\")\n",
    "features"
   ]
  },
  {
   "cell_type": "code",
   "execution_count": 16,
   "id": "27684c79-575a-4490-8108-8e080e613182",
   "metadata": {},
   "outputs": [
    {
     "data": {
      "text/plain": [
       "{'url': 'https://www.cnn.com/2019/03/23/middleeast/isis-caliphate-end-intl/index.html',\n",
       " 't_mil': 1,\n",
       " 't_loc': 1,\n",
       " 't_milcas': 0,\n",
       " 't_civcas': 0,\n",
       " 't_isis_vic': 0,\n",
       " 'date': '03/23/19',\n",
       " 'text': 'Eastern Syria CNN —\\n\\nISIS has lost its final stronghold in Syria, the Syrian Democratic Forces announced Saturday, bringing an end to the so-called caliphate declared by the terrorist group in 2014.\\n\\nThe coalition of Kurdish and Arab soldiers backed by US, British and French special forces said it defeated ISIS and fully liberated Baghouz in eastern Syria.\\n\\n“Syrian Democratic Forces declare total elimination of so-called caliphate and 100% territorial defeat of ISIS. On this unique day, we commemorate thous',\n",
       " '__index_level_0__': 0}"
      ]
     },
     "execution_count": 16,
     "metadata": {},
     "output_type": "execute_result"
    }
   ],
   "source": [
    "dataset[0]"
   ]
  },
  {
   "cell_type": "code",
   "execution_count": 17,
   "id": "fabc756a-fb14-471d-a592-a2b2d218e83a",
   "metadata": {},
   "outputs": [
    {
     "data": {
      "application/vnd.jupyter.widget-view+json": {
       "model_id": "55b89385cd924f65ad72bc5bec2aa953",
       "version_major": 2,
       "version_minor": 0
      },
      "text/plain": [
       "Map:   0%|          | 0/19 [00:00<?, ? examples/s]"
      ]
     },
     "metadata": {},
     "output_type": "display_data"
    }
   ],
   "source": [
    "def encode_labels(record):\n",
    "    return {\"labels\": [record[feature] for feature in features]}\n",
    "\n",
    "\n",
    "dataset = dataset.map(encode_labels)"
   ]
  },
  {
   "cell_type": "code",
   "execution_count": 18,
   "id": "56dc8026-b72f-4011-a918-a3df477daf1e",
   "metadata": {},
   "outputs": [
    {
     "data": {
      "text/plain": [
       "{'url': 'https://www.cnn.com/2019/03/23/middleeast/isis-caliphate-end-intl/index.html',\n",
       " 't_mil': 1,\n",
       " 't_loc': 1,\n",
       " 't_milcas': 0,\n",
       " 't_civcas': 0,\n",
       " 't_isis_vic': 0,\n",
       " 'date': '03/23/19',\n",
       " 'text': 'Eastern Syria CNN —\\n\\nISIS has lost its final stronghold in Syria, the Syrian Democratic Forces announced Saturday, bringing an end to the so-called caliphate declared by the terrorist group in 2014.\\n\\nThe coalition of Kurdish and Arab soldiers backed by US, British and French special forces said it defeated ISIS and fully liberated Baghouz in eastern Syria.\\n\\n“Syrian Democratic Forces declare total elimination of so-called caliphate and 100% territorial defeat of ISIS. On this unique day, we commemorate thous',\n",
       " '__index_level_0__': 0,\n",
       " 'labels': [1, 1, 0, 0, 0]}"
      ]
     },
     "execution_count": 18,
     "metadata": {},
     "output_type": "execute_result"
    }
   ],
   "source": [
    "dataset[0]"
   ]
  },
  {
   "cell_type": "markdown",
   "id": "bcf2797c-5325-4d5f-8690-e8075f1886b2",
   "metadata": {},
   "source": [
    "Next, we use the samples we selected as our training set, and the others as our test set (since the ethos dataset does not have a test split on the hub).\n",
    "\n",
    "Here we have 64 total examples to train with since the `ethos` dataset has 8 classes."
   ]
  },
  {
   "cell_type": "code",
   "execution_count": 19,
   "id": "92b1f061-387a-4a51-aa40-2412bcf418f0",
   "metadata": {},
   "outputs": [],
   "source": [
    "train_dataset = dataset.select(range(14))\n",
    "eval_dataset = dataset.select(range(14,19))"
   ]
  },
  {
   "cell_type": "code",
   "execution_count": 20,
   "id": "755279c2-e149-421c-a38c-982d1d76d836",
   "metadata": {},
   "outputs": [
    {
     "name": "stderr",
     "output_type": "stream",
     "text": [
      "2023-10-27 08:49:12.280945: I tensorflow/tsl/cuda/cudart_stub.cc:28] Could not find cuda drivers on your machine, GPU will not be used.\n",
      "2023-10-27 08:49:12.319118: I tensorflow/tsl/cuda/cudart_stub.cc:28] Could not find cuda drivers on your machine, GPU will not be used.\n",
      "2023-10-27 08:49:12.319661: I tensorflow/core/platform/cpu_feature_guard.cc:182] This TensorFlow binary is optimized to use available CPU instructions in performance-critical operations.\n",
      "To enable the following instructions: AVX2 FMA, in other operations, rebuild TensorFlow with the appropriate compiler flags.\n",
      "2023-10-27 08:49:13.054807: W tensorflow/compiler/tf2tensorrt/utils/py_utils.cc:38] TF-TRT Warning: Could not find TensorRT\n"
     ]
    }
   ],
   "source": [
    "from transformers import AutoModelForCausalLM, AutoTokenizer, default_data_collator, get_linear_schedule_with_warmup\n",
    "from peft import get_peft_config, get_peft_model, PromptTuningInit, PromptTuningConfig, TaskType, PeftType\n",
    "import torch\n",
    "from datasets import load_dataset\n",
    "import os\n",
    "from torch.utils.data import DataLoader\n",
    "from tqdm import tqdm\n",
    "\n",
    "device = \"cuda\"\n",
    "model_name_or_path = \"bigscience/bloomz-560m\"\n",
    "tokenizer_name_or_path = \"bigscience/bloomz-560m\"\n",
    "peft_config = PromptTuningConfig(\n",
    "    task_type=TaskType.CAUSAL_LM,\n",
    "    prompt_tuning_init=PromptTuningInit.TEXT,\n",
    "    num_virtual_tokens=8,\n",
    "    prompt_tuning_init_text=\"Give each of these following labels a 0 if false and a 1 if true:\"\\\n",
    "       + \"t_mil - Event is about war/military operations,\"\\\n",
    "       + \"t_loc - Event report includes reference to specific location,\"\\\n",
    "       + \"t_milcas - Event report mentions military casualties,\"\\\n",
    "       + \"t_civcas - Event report mentions civilian casualties,\"\\\n",
    "       + \"t_isis_vic - ISIS won the conflict\",\n",
    "    tokenizer_name_or_path=model_name_or_path,\n",
    ")\n",
    "\n",
    "dataset_name = \"datav1\"\n",
    "checkpoint_name = f\"{dataset_name}_{model_name_or_path}_{peft_config.peft_type}_{peft_config.task_type}_v1.pt\".replace(\n",
    "    \"/\", \"_\"\n",
    ")\n",
    "text_column = \"text\"\n",
    "label_column = \"text_labels\"\n",
    "max_length = 256\n",
    "lr = 3e-2\n",
    "num_epochs = 50\n",
    "batch_size = 1"
   ]
  },
  {
   "cell_type": "code",
   "execution_count": 21,
   "id": "d92f3952-d560-4461-b91f-6a3d1a464ec8",
   "metadata": {},
   "outputs": [
    {
     "data": {
      "text/plain": [
       "{'url': 'https://www.cnn.com/2019/03/23/middleeast/isis-caliphate-end-intl/index.html',\n",
       " 't_mil': 1,\n",
       " 't_loc': 1,\n",
       " 't_milcas': 0,\n",
       " 't_civcas': 0,\n",
       " 't_isis_vic': 0,\n",
       " 'date': '03/23/19',\n",
       " 'text': 'Eastern Syria CNN —\\n\\nISIS has lost its final stronghold in Syria, the Syrian Democratic Forces announced Saturday, bringing an end to the so-called caliphate declared by the terrorist group in 2014.\\n\\nThe coalition of Kurdish and Arab soldiers backed by US, British and French special forces said it defeated ISIS and fully liberated Baghouz in eastern Syria.\\n\\n“Syrian Democratic Forces declare total elimination of so-called caliphate and 100% territorial defeat of ISIS. On this unique day, we commemorate thous',\n",
       " '__index_level_0__': 0,\n",
       " 'labels': [1, 1, 0, 0, 0]}"
      ]
     },
     "execution_count": 21,
     "metadata": {},
     "output_type": "execute_result"
    }
   ],
   "source": [
    "dataset[0]"
   ]
  },
  {
   "cell_type": "code",
   "execution_count": 22,
   "id": "5f6b18dc-587e-41b6-b0c4-95fa9feb77ea",
   "metadata": {},
   "outputs": [
    {
     "data": {
      "text/plain": [
       "{'url': 'https://www.cnn.com/2019/03/23/middleeast/isis-caliphate-end-intl/index.html',\n",
       " 't_mil': 1,\n",
       " 't_loc': 1,\n",
       " 't_milcas': 0,\n",
       " 't_civcas': 0,\n",
       " 't_isis_vic': 0,\n",
       " 'date': '03/23/19',\n",
       " 'text': 'Eastern Syria CNN —\\n\\nISIS has lost its final stronghold in Syria, the Syrian Democratic Forces announced Saturday, bringing an end to the so-called caliphate declared by the terrorist group in 2014.\\n\\nThe coalition of Kurdish and Arab soldiers backed by US, British and French special forces said it defeated ISIS and fully liberated Baghouz in eastern Syria.\\n\\n“Syrian Democratic Forces declare total elimination of so-called caliphate and 100% territorial defeat of ISIS. On this unique day, we commemorate thous',\n",
       " '__index_level_0__': 0,\n",
       " 'labels': [1, 1, 0, 0, 0],\n",
       " 'text_labels': ['url', 't_mil']}"
      ]
     },
     "execution_count": 22,
     "metadata": {},
     "output_type": "execute_result"
    }
   ],
   "source": [
    "text_labels = [[f for f, p in zip(dataset.features, ps) if p] for ps in dataset['labels']]\n",
    "dataset = dataset.add_column('text_labels', text_labels)\n",
    "dataset[0]"
   ]
  },
  {
   "cell_type": "code",
   "execution_count": 23,
   "id": "0034c8a7-eaca-4049-aad5-b2bf031ad83c",
   "metadata": {},
   "outputs": [],
   "source": [
    "tokenizer = AutoTokenizer.from_pretrained(model_name_or_path)\n",
    "if tokenizer.pad_token_id is None:\n",
    "    tokenizer.pad_token_id = tokenizer.eos_token_id\n",
    "#target_max_length = max([len(tokenizer(class_label)[\"input_ids\"]) for class_label in classes])\n",
    "#print(target_max_length)"
   ]
  },
  {
   "cell_type": "code",
   "execution_count": 24,
   "id": "521c1cf8-39e1-409c-9a5e-27f1bba2dbea",
   "metadata": {},
   "outputs": [],
   "source": [
    "def preprocess_function(examples):\n",
    "    batch_size = len(examples[text_column])\n",
    "    inputs = [f\"{text_column} : {x} Label : \" for x in examples[text_column]]\n",
    "    targets = [str(x) for x in examples[label_column]]\n",
    "    model_inputs = tokenizer(inputs)\n",
    "    labels = tokenizer(targets)\n",
    "    for i in range(batch_size):\n",
    "        sample_input_ids = model_inputs[\"input_ids\"][i]\n",
    "        label_input_ids = labels[\"input_ids\"][i] + [tokenizer.pad_token_id]\n",
    "        # print(i, sample_input_ids, label_input_ids)\n",
    "        model_inputs[\"input_ids\"][i] = sample_input_ids + label_input_ids\n",
    "        labels[\"input_ids\"][i] = [-100] * len(sample_input_ids) + label_input_ids\n",
    "        model_inputs[\"attention_mask\"][i] = [1] * len(model_inputs[\"input_ids\"][i])\n",
    "    # print(model_inputs)\n",
    "    for i in range(batch_size):\n",
    "        sample_input_ids = model_inputs[\"input_ids\"][i]\n",
    "        label_input_ids = labels[\"input_ids\"][i]\n",
    "        model_inputs[\"input_ids\"][i] = [tokenizer.pad_token_id] * (\n",
    "            max_length - len(sample_input_ids)\n",
    "        ) + sample_input_ids\n",
    "        model_inputs[\"attention_mask\"][i] = [0] * (max_length - len(sample_input_ids)) + model_inputs[\n",
    "            \"attention_mask\"\n",
    "        ][i]\n",
    "        labels[\"input_ids\"][i] = [-100] * (max_length - len(sample_input_ids)) + label_input_ids\n",
    "        model_inputs[\"input_ids\"][i] = torch.tensor(model_inputs[\"input_ids\"][i][:max_length])\n",
    "        model_inputs[\"attention_mask\"][i] = torch.tensor(model_inputs[\"attention_mask\"][i][:max_length])\n",
    "        labels[\"input_ids\"][i] = torch.tensor(labels[\"input_ids\"][i][:max_length])\n",
    "    model_inputs[\"labels\"] = labels[\"input_ids\"]\n",
    "    return model_inputs"
   ]
  },
  {
   "cell_type": "code",
   "execution_count": 25,
   "id": "47ad4723-d3d4-4449-ac9b-a67457758de6",
   "metadata": {},
   "outputs": [
    {
     "data": {
      "application/vnd.jupyter.widget-view+json": {
       "model_id": "3fb4030eda9b461784ea66a70d19825c",
       "version_major": 2,
       "version_minor": 0
      },
      "text/plain": [
       "Running tokenizer on dataset:   0%|          | 0/19 [00:00<?, ? examples/s]"
      ]
     },
     "metadata": {},
     "output_type": "display_data"
    }
   ],
   "source": [
    "processed_datasets = dataset.map(\n",
    "    preprocess_function,\n",
    "    batched=True,\n",
    "    num_proc=1,\n",
    "    remove_columns=dataset.column_names,\n",
    "    load_from_cache_file=False,\n",
    "    desc=\"Running tokenizer on dataset\",\n",
    ")"
   ]
  },
  {
   "cell_type": "code",
   "execution_count": 26,
   "id": "d84ee102-4d9a-4503-a6cf-5d1fe05d676b",
   "metadata": {},
   "outputs": [],
   "source": [
    "train_dataset = processed_datasets.select(range(14))\n",
    "eval_dataset = processed_datasets.select(range(14,19))\n",
    "\n",
    "\n",
    "train_dataloader = DataLoader(\n",
    "    train_dataset, shuffle=True, collate_fn=default_data_collator, batch_size=batch_size, pin_memory=True\n",
    ")\n",
    "eval_dataloader = DataLoader(eval_dataset, collate_fn=default_data_collator, batch_size=batch_size, pin_memory=True)"
   ]
  },
  {
   "cell_type": "code",
   "execution_count": 27,
   "id": "f8d66b68-682b-4060-95ad-2e0cd7a0fc4c",
   "metadata": {},
   "outputs": [
    {
     "name": "stdout",
     "output_type": "stream",
     "text": [
      "trainable params: 8192 || all params: 559222784 || trainable%: 0.0014648902430985358\n",
      "None\n"
     ]
    }
   ],
   "source": [
    "model = AutoModelForCausalLM.from_pretrained(model_name_or_path, problem_type=\"one-vs-rest\")\n",
    "#model = AutoModelForCausalLM.from_pretrained(model_name_or_path)\n",
    "model = get_peft_model(model, peft_config)\n",
    "print(model.print_trainable_parameters())"
   ]
  },
  {
   "cell_type": "code",
   "execution_count": 28,
   "id": "c8dfa950-cbd2-4b81-865f-425344d08035",
   "metadata": {},
   "outputs": [],
   "source": [
    "optimizer = torch.optim.AdamW(model.parameters(), lr=lr)\n",
    "lr_scheduler = get_linear_schedule_with_warmup(\n",
    "    optimizer=optimizer,\n",
    "    num_warmup_steps=0,\n",
    "    num_training_steps=(len(train_dataloader) * num_epochs),\n",
    ")"
   ]
  },
  {
   "cell_type": "code",
   "execution_count": 29,
   "id": "dd1c867d-01a5-4659-8afc-4c4c2a3d7066",
   "metadata": {},
   "outputs": [
    {
     "name": "stderr",
     "output_type": "stream",
     "text": [
      "100%|██████████████████████████████████| 14/14 [00:28<00:00,  2.01s/it]\n",
      "100%|████████████████████████████████████| 5/5 [00:05<00:00,  1.07s/it]\n"
     ]
    },
    {
     "name": "stdout",
     "output_type": "stream",
     "text": [
      "epoch=0: train_ppl=tensor(39375.6211, device='cuda:0') train_epoch_loss=tensor(10.5809, device='cuda:0') eval_ppl=tensor(3581.6079, device='cuda:0') eval_epoch_loss=tensor(8.1836, device='cuda:0')\n"
     ]
    },
    {
     "name": "stderr",
     "output_type": "stream",
     "text": [
      "100%|██████████████████████████████████| 14/14 [00:27<00:00,  1.98s/it]\n",
      "100%|████████████████████████████████████| 5/5 [00:05<00:00,  1.07s/it]\n"
     ]
    },
    {
     "name": "stdout",
     "output_type": "stream",
     "text": [
      "epoch=1: train_ppl=tensor(2227.7214, device='cuda:0') train_epoch_loss=tensor(7.7087, device='cuda:0') eval_ppl=tensor(2460.3040, device='cuda:0') eval_epoch_loss=tensor(7.8080, device='cuda:0')\n"
     ]
    },
    {
     "name": "stderr",
     "output_type": "stream",
     "text": [
      "100%|██████████████████████████████████| 14/14 [00:29<00:00,  2.08s/it]\n",
      "100%|████████████████████████████████████| 5/5 [00:05<00:00,  1.10s/it]\n"
     ]
    },
    {
     "name": "stdout",
     "output_type": "stream",
     "text": [
      "epoch=2: train_ppl=tensor(1120.8322, device='cuda:0') train_epoch_loss=tensor(7.0218, device='cuda:0') eval_ppl=tensor(1257.8202, device='cuda:0') eval_epoch_loss=tensor(7.1371, device='cuda:0')\n"
     ]
    },
    {
     "name": "stderr",
     "output_type": "stream",
     "text": [
      "100%|██████████████████████████████████| 14/14 [00:27<00:00,  1.94s/it]\n",
      "100%|████████████████████████████████████| 5/5 [00:05<00:00,  1.11s/it]\n"
     ]
    },
    {
     "name": "stdout",
     "output_type": "stream",
     "text": [
      "epoch=3: train_ppl=tensor(465.1419, device='cuda:0') train_epoch_loss=tensor(6.1423, device='cuda:0') eval_ppl=tensor(493.1587, device='cuda:0') eval_epoch_loss=tensor(6.2008, device='cuda:0')\n"
     ]
    },
    {
     "name": "stderr",
     "output_type": "stream",
     "text": [
      "100%|██████████████████████████████████| 14/14 [00:29<00:00,  2.09s/it]\n",
      "100%|████████████████████████████████████| 5/5 [00:05<00:00,  1.10s/it]\n"
     ]
    },
    {
     "name": "stdout",
     "output_type": "stream",
     "text": [
      "epoch=4: train_ppl=tensor(168.5967, device='cuda:0') train_epoch_loss=tensor(5.1275, device='cuda:0') eval_ppl=tensor(214.2140, device='cuda:0') eval_epoch_loss=tensor(5.3670, device='cuda:0')\n"
     ]
    },
    {
     "name": "stderr",
     "output_type": "stream",
     "text": [
      "100%|██████████████████████████████████| 14/14 [00:29<00:00,  2.08s/it]\n",
      "100%|████████████████████████████████████| 5/5 [00:05<00:00,  1.10s/it]\n"
     ]
    },
    {
     "name": "stdout",
     "output_type": "stream",
     "text": [
      "epoch=5: train_ppl=tensor(85.7475, device='cuda:0') train_epoch_loss=tensor(4.4514, device='cuda:0') eval_ppl=tensor(105.4310, device='cuda:0') eval_epoch_loss=tensor(4.6581, device='cuda:0')\n"
     ]
    },
    {
     "name": "stderr",
     "output_type": "stream",
     "text": [
      "100%|██████████████████████████████████| 14/14 [00:29<00:00,  2.09s/it]\n",
      "100%|████████████████████████████████████| 5/5 [00:05<00:00,  1.10s/it]\n"
     ]
    },
    {
     "name": "stdout",
     "output_type": "stream",
     "text": [
      "epoch=6: train_ppl=tensor(50.3065, device='cuda:0') train_epoch_loss=tensor(3.9181, device='cuda:0') eval_ppl=tensor(43.3512, device='cuda:0') eval_epoch_loss=tensor(3.7693, device='cuda:0')\n"
     ]
    },
    {
     "name": "stderr",
     "output_type": "stream",
     "text": [
      "100%|██████████████████████████████████| 14/14 [00:29<00:00,  2.08s/it]\n",
      "100%|████████████████████████████████████| 5/5 [00:05<00:00,  1.11s/it]\n"
     ]
    },
    {
     "name": "stdout",
     "output_type": "stream",
     "text": [
      "epoch=7: train_ppl=tensor(29.0756, device='cuda:0') train_epoch_loss=tensor(3.3699, device='cuda:0') eval_ppl=tensor(28.6602, device='cuda:0') eval_epoch_loss=tensor(3.3555, device='cuda:0')\n"
     ]
    },
    {
     "name": "stderr",
     "output_type": "stream",
     "text": [
      "100%|██████████████████████████████████| 14/14 [00:29<00:00,  2.09s/it]\n",
      "100%|████████████████████████████████████| 5/5 [00:05<00:00,  1.09s/it]\n"
     ]
    },
    {
     "name": "stdout",
     "output_type": "stream",
     "text": [
      "epoch=8: train_ppl=tensor(24.7747, device='cuda:0') train_epoch_loss=tensor(3.2098, device='cuda:0') eval_ppl=tensor(26.6565, device='cuda:0') eval_epoch_loss=tensor(3.2830, device='cuda:0')\n"
     ]
    },
    {
     "name": "stderr",
     "output_type": "stream",
     "text": [
      "100%|██████████████████████████████████| 14/14 [00:29<00:00,  2.09s/it]\n",
      "100%|████████████████████████████████████| 5/5 [00:05<00:00,  1.10s/it]\n"
     ]
    },
    {
     "name": "stdout",
     "output_type": "stream",
     "text": [
      "epoch=9: train_ppl=tensor(17.1507, device='cuda:0') train_epoch_loss=tensor(2.8420, device='cuda:0') eval_ppl=tensor(20.5358, device='cuda:0') eval_epoch_loss=tensor(3.0222, device='cuda:0')\n"
     ]
    },
    {
     "name": "stderr",
     "output_type": "stream",
     "text": [
      "100%|██████████████████████████████████| 14/14 [00:29<00:00,  2.07s/it]\n",
      "100%|████████████████████████████████████| 5/5 [00:05<00:00,  1.10s/it]\n"
     ]
    },
    {
     "name": "stdout",
     "output_type": "stream",
     "text": [
      "epoch=10: train_ppl=tensor(14.9541, device='cuda:0') train_epoch_loss=tensor(2.7050, device='cuda:0') eval_ppl=tensor(21.1665, device='cuda:0') eval_epoch_loss=tensor(3.0524, device='cuda:0')\n"
     ]
    },
    {
     "name": "stderr",
     "output_type": "stream",
     "text": [
      "100%|██████████████████████████████████| 14/14 [00:29<00:00,  2.09s/it]\n",
      "100%|████████████████████████████████████| 5/5 [00:05<00:00,  1.11s/it]\n"
     ]
    },
    {
     "name": "stdout",
     "output_type": "stream",
     "text": [
      "epoch=11: train_ppl=tensor(12.7446, device='cuda:0') train_epoch_loss=tensor(2.5451, device='cuda:0') eval_ppl=tensor(16.3962, device='cuda:0') eval_epoch_loss=tensor(2.7971, device='cuda:0')\n"
     ]
    },
    {
     "name": "stderr",
     "output_type": "stream",
     "text": [
      "100%|██████████████████████████████████| 14/14 [00:29<00:00,  2.09s/it]\n",
      "100%|████████████████████████████████████| 5/5 [00:05<00:00,  1.10s/it]\n"
     ]
    },
    {
     "name": "stdout",
     "output_type": "stream",
     "text": [
      "epoch=12: train_ppl=tensor(11.2875, device='cuda:0') train_epoch_loss=tensor(2.4237, device='cuda:0') eval_ppl=tensor(15.0929, device='cuda:0') eval_epoch_loss=tensor(2.7142, device='cuda:0')\n"
     ]
    },
    {
     "name": "stderr",
     "output_type": "stream",
     "text": [
      "100%|██████████████████████████████████| 14/14 [00:28<00:00,  2.04s/it]\n",
      "100%|████████████████████████████████████| 5/5 [00:05<00:00,  1.11s/it]\n"
     ]
    },
    {
     "name": "stdout",
     "output_type": "stream",
     "text": [
      "epoch=13: train_ppl=tensor(9.5893, device='cuda:0') train_epoch_loss=tensor(2.2606, device='cuda:0') eval_ppl=tensor(11.4997, device='cuda:0') eval_epoch_loss=tensor(2.4423, device='cuda:0')\n"
     ]
    },
    {
     "name": "stderr",
     "output_type": "stream",
     "text": [
      "100%|██████████████████████████████████| 14/14 [00:29<00:00,  2.09s/it]\n",
      "100%|████████████████████████████████████| 5/5 [00:05<00:00,  1.10s/it]\n"
     ]
    },
    {
     "name": "stdout",
     "output_type": "stream",
     "text": [
      "epoch=14: train_ppl=tensor(7.8218, device='cuda:0') train_epoch_loss=tensor(2.0569, device='cuda:0') eval_ppl=tensor(10.6721, device='cuda:0') eval_epoch_loss=tensor(2.3676, device='cuda:0')\n"
     ]
    },
    {
     "name": "stderr",
     "output_type": "stream",
     "text": [
      "100%|██████████████████████████████████| 14/14 [00:25<00:00,  1.85s/it]\n",
      "100%|████████████████████████████████████| 5/5 [00:04<00:00,  1.22it/s]\n"
     ]
    },
    {
     "name": "stdout",
     "output_type": "stream",
     "text": [
      "epoch=15: train_ppl=tensor(6.5829, device='cuda:0') train_epoch_loss=tensor(1.8845, device='cuda:0') eval_ppl=tensor(9.7494, device='cuda:0') eval_epoch_loss=tensor(2.2772, device='cuda:0')\n"
     ]
    },
    {
     "name": "stderr",
     "output_type": "stream",
     "text": [
      "100%|██████████████████████████████████| 14/14 [00:21<00:00,  1.56s/it]\n",
      "100%|████████████████████████████████████| 5/5 [00:04<00:00,  1.23it/s]\n"
     ]
    },
    {
     "name": "stdout",
     "output_type": "stream",
     "text": [
      "epoch=16: train_ppl=tensor(6.2131, device='cuda:0') train_epoch_loss=tensor(1.8267, device='cuda:0') eval_ppl=tensor(7.5831, device='cuda:0') eval_epoch_loss=tensor(2.0259, device='cuda:0')\n"
     ]
    },
    {
     "name": "stderr",
     "output_type": "stream",
     "text": [
      "100%|██████████████████████████████████| 14/14 [00:22<00:00,  1.59s/it]\n",
      "100%|████████████████████████████████████| 5/5 [00:05<00:00,  1.09s/it]\n"
     ]
    },
    {
     "name": "stdout",
     "output_type": "stream",
     "text": [
      "epoch=17: train_ppl=tensor(6.5204, device='cuda:0') train_epoch_loss=tensor(1.8749, device='cuda:0') eval_ppl=tensor(9.8889, device='cuda:0') eval_epoch_loss=tensor(2.2914, device='cuda:0')\n"
     ]
    },
    {
     "name": "stderr",
     "output_type": "stream",
     "text": [
      "100%|██████████████████████████████████| 14/14 [00:26<00:00,  1.86s/it]\n",
      "100%|████████████████████████████████████| 5/5 [00:04<00:00,  1.23it/s]\n"
     ]
    },
    {
     "name": "stdout",
     "output_type": "stream",
     "text": [
      "epoch=18: train_ppl=tensor(5.4463, device='cuda:0') train_epoch_loss=tensor(1.6949, device='cuda:0') eval_ppl=tensor(7.8280, device='cuda:0') eval_epoch_loss=tensor(2.0577, device='cuda:0')\n"
     ]
    },
    {
     "name": "stderr",
     "output_type": "stream",
     "text": [
      "100%|██████████████████████████████████| 14/14 [00:21<00:00,  1.56s/it]\n",
      "100%|████████████████████████████████████| 5/5 [00:04<00:00,  1.22it/s]\n"
     ]
    },
    {
     "name": "stdout",
     "output_type": "stream",
     "text": [
      "epoch=19: train_ppl=tensor(4.6725, device='cuda:0') train_epoch_loss=tensor(1.5417, device='cuda:0') eval_ppl=tensor(6.2239, device='cuda:0') eval_epoch_loss=tensor(1.8284, device='cuda:0')\n"
     ]
    },
    {
     "name": "stderr",
     "output_type": "stream",
     "text": [
      "100%|██████████████████████████████████| 14/14 [00:21<00:00,  1.56s/it]\n",
      "100%|████████████████████████████████████| 5/5 [00:04<00:00,  1.22it/s]\n"
     ]
    },
    {
     "name": "stdout",
     "output_type": "stream",
     "text": [
      "epoch=20: train_ppl=tensor(4.3039, device='cuda:0') train_epoch_loss=tensor(1.4595, device='cuda:0') eval_ppl=tensor(7.0031, device='cuda:0') eval_epoch_loss=tensor(1.9464, device='cuda:0')\n"
     ]
    },
    {
     "name": "stderr",
     "output_type": "stream",
     "text": [
      "100%|██████████████████████████████████| 14/14 [00:21<00:00,  1.56s/it]\n",
      "100%|████████████████████████████████████| 5/5 [00:04<00:00,  1.22it/s]\n"
     ]
    },
    {
     "name": "stdout",
     "output_type": "stream",
     "text": [
      "epoch=21: train_ppl=tensor(4.3618, device='cuda:0') train_epoch_loss=tensor(1.4729, device='cuda:0') eval_ppl=tensor(6.6877, device='cuda:0') eval_epoch_loss=tensor(1.9003, device='cuda:0')\n"
     ]
    },
    {
     "name": "stderr",
     "output_type": "stream",
     "text": [
      "100%|██████████████████████████████████| 14/14 [00:23<00:00,  1.70s/it]\n",
      "100%|████████████████████████████████████| 5/5 [00:05<00:00,  1.10s/it]\n"
     ]
    },
    {
     "name": "stdout",
     "output_type": "stream",
     "text": [
      "epoch=22: train_ppl=tensor(4.0389, device='cuda:0') train_epoch_loss=tensor(1.3960, device='cuda:0') eval_ppl=tensor(6.2967, device='cuda:0') eval_epoch_loss=tensor(1.8400, device='cuda:0')\n"
     ]
    },
    {
     "name": "stderr",
     "output_type": "stream",
     "text": [
      "100%|██████████████████████████████████| 14/14 [00:29<00:00,  2.09s/it]\n",
      "100%|████████████████████████████████████| 5/5 [00:05<00:00,  1.10s/it]\n"
     ]
    },
    {
     "name": "stdout",
     "output_type": "stream",
     "text": [
      "epoch=23: train_ppl=tensor(3.9032, device='cuda:0') train_epoch_loss=tensor(1.3618, device='cuda:0') eval_ppl=tensor(5.5637, device='cuda:0') eval_epoch_loss=tensor(1.7163, device='cuda:0')\n"
     ]
    },
    {
     "name": "stderr",
     "output_type": "stream",
     "text": [
      "100%|██████████████████████████████████| 14/14 [00:28<00:00,  2.05s/it]\n",
      "100%|████████████████████████████████████| 5/5 [00:05<00:00,  1.11s/it]\n"
     ]
    },
    {
     "name": "stdout",
     "output_type": "stream",
     "text": [
      "epoch=24: train_ppl=tensor(3.3991, device='cuda:0') train_epoch_loss=tensor(1.2235, device='cuda:0') eval_ppl=tensor(5.4868, device='cuda:0') eval_epoch_loss=tensor(1.7023, device='cuda:0')\n"
     ]
    },
    {
     "name": "stderr",
     "output_type": "stream",
     "text": [
      "100%|██████████████████████████████████| 14/14 [00:29<00:00,  2.10s/it]\n",
      "100%|████████████████████████████████████| 5/5 [00:05<00:00,  1.11s/it]\n"
     ]
    },
    {
     "name": "stdout",
     "output_type": "stream",
     "text": [
      "epoch=25: train_ppl=tensor(3.2436, device='cuda:0') train_epoch_loss=tensor(1.1767, device='cuda:0') eval_ppl=tensor(5.7962, device='cuda:0') eval_epoch_loss=tensor(1.7572, device='cuda:0')\n"
     ]
    },
    {
     "name": "stderr",
     "output_type": "stream",
     "text": [
      "100%|██████████████████████████████████| 14/14 [00:29<00:00,  2.09s/it]\n",
      "100%|████████████████████████████████████| 5/5 [00:05<00:00,  1.10s/it]\n"
     ]
    },
    {
     "name": "stdout",
     "output_type": "stream",
     "text": [
      "epoch=26: train_ppl=tensor(3.2871, device='cuda:0') train_epoch_loss=tensor(1.1900, device='cuda:0') eval_ppl=tensor(4.6671, device='cuda:0') eval_epoch_loss=tensor(1.5405, device='cuda:0')\n"
     ]
    },
    {
     "name": "stderr",
     "output_type": "stream",
     "text": [
      "100%|██████████████████████████████████| 14/14 [00:24<00:00,  1.78s/it]\n",
      "100%|████████████████████████████████████| 5/5 [00:04<00:00,  1.21it/s]\n"
     ]
    },
    {
     "name": "stdout",
     "output_type": "stream",
     "text": [
      "epoch=27: train_ppl=tensor(4.2833, device='cuda:0') train_epoch_loss=tensor(1.4547, device='cuda:0') eval_ppl=tensor(7.7536, device='cuda:0') eval_epoch_loss=tensor(2.0482, device='cuda:0')\n"
     ]
    },
    {
     "name": "stderr",
     "output_type": "stream",
     "text": [
      "100%|██████████████████████████████████| 14/14 [00:21<00:00,  1.55s/it]\n",
      "100%|████████████████████████████████████| 5/5 [00:04<00:00,  1.22it/s]\n"
     ]
    },
    {
     "name": "stdout",
     "output_type": "stream",
     "text": [
      "epoch=28: train_ppl=tensor(3.8324, device='cuda:0') train_epoch_loss=tensor(1.3435, device='cuda:0') eval_ppl=tensor(6.1331, device='cuda:0') eval_epoch_loss=tensor(1.8137, device='cuda:0')\n"
     ]
    },
    {
     "name": "stderr",
     "output_type": "stream",
     "text": [
      "100%|██████████████████████████████████| 14/14 [00:24<00:00,  1.77s/it]\n",
      "100%|████████████████████████████████████| 5/5 [00:05<00:00,  1.06s/it]\n"
     ]
    },
    {
     "name": "stdout",
     "output_type": "stream",
     "text": [
      "epoch=29: train_ppl=tensor(3.4284, device='cuda:0') train_epoch_loss=tensor(1.2321, device='cuda:0') eval_ppl=tensor(5.5432, device='cuda:0') eval_epoch_loss=tensor(1.7126, device='cuda:0')\n"
     ]
    },
    {
     "name": "stderr",
     "output_type": "stream",
     "text": [
      "100%|██████████████████████████████████| 14/14 [00:27<00:00,  1.97s/it]\n",
      "100%|████████████████████████████████████| 5/5 [00:05<00:00,  1.05s/it]\n"
     ]
    },
    {
     "name": "stdout",
     "output_type": "stream",
     "text": [
      "epoch=30: train_ppl=tensor(3.1545, device='cuda:0') train_epoch_loss=tensor(1.1488, device='cuda:0') eval_ppl=tensor(5.1859, device='cuda:0') eval_epoch_loss=tensor(1.6459, device='cuda:0')\n"
     ]
    },
    {
     "name": "stderr",
     "output_type": "stream",
     "text": [
      "100%|██████████████████████████████████| 14/14 [00:27<00:00,  1.95s/it]\n",
      "100%|████████████████████████████████████| 5/5 [00:05<00:00,  1.09s/it]\n"
     ]
    },
    {
     "name": "stdout",
     "output_type": "stream",
     "text": [
      "epoch=31: train_ppl=tensor(3.1617, device='cuda:0') train_epoch_loss=tensor(1.1511, device='cuda:0') eval_ppl=tensor(4.9469, device='cuda:0') eval_epoch_loss=tensor(1.5988, device='cuda:0')\n"
     ]
    },
    {
     "name": "stderr",
     "output_type": "stream",
     "text": [
      "100%|██████████████████████████████████| 14/14 [00:23<00:00,  1.66s/it]\n",
      "100%|████████████████████████████████████| 5/5 [00:04<00:00,  1.04it/s]\n"
     ]
    },
    {
     "name": "stdout",
     "output_type": "stream",
     "text": [
      "epoch=32: train_ppl=tensor(2.9870, device='cuda:0') train_epoch_loss=tensor(1.0943, device='cuda:0') eval_ppl=tensor(4.8159, device='cuda:0') eval_epoch_loss=tensor(1.5719, device='cuda:0')\n"
     ]
    },
    {
     "name": "stderr",
     "output_type": "stream",
     "text": [
      "100%|██████████████████████████████████| 14/14 [00:26<00:00,  1.87s/it]\n",
      "100%|████████████████████████████████████| 5/5 [00:04<00:00,  1.02it/s]\n"
     ]
    },
    {
     "name": "stdout",
     "output_type": "stream",
     "text": [
      "epoch=33: train_ppl=tensor(3.0775, device='cuda:0') train_epoch_loss=tensor(1.1241, device='cuda:0') eval_ppl=tensor(5.3383, device='cuda:0') eval_epoch_loss=tensor(1.6749, device='cuda:0')\n"
     ]
    },
    {
     "name": "stderr",
     "output_type": "stream",
     "text": [
      "100%|██████████████████████████████████| 14/14 [00:27<00:00,  1.96s/it]\n",
      "100%|████████████████████████████████████| 5/5 [00:05<00:00,  1.09s/it]\n"
     ]
    },
    {
     "name": "stdout",
     "output_type": "stream",
     "text": [
      "epoch=34: train_ppl=tensor(5.5043, device='cuda:0') train_epoch_loss=tensor(1.7055, device='cuda:0') eval_ppl=tensor(9.7828, device='cuda:0') eval_epoch_loss=tensor(2.2806, device='cuda:0')\n"
     ]
    },
    {
     "name": "stderr",
     "output_type": "stream",
     "text": [
      "100%|██████████████████████████████████| 14/14 [00:25<00:00,  1.80s/it]\n",
      "100%|████████████████████████████████████| 5/5 [00:04<00:00,  1.00it/s]\n"
     ]
    },
    {
     "name": "stdout",
     "output_type": "stream",
     "text": [
      "epoch=35: train_ppl=tensor(5.6150, device='cuda:0') train_epoch_loss=tensor(1.7254, device='cuda:0') eval_ppl=tensor(7.5125, device='cuda:0') eval_epoch_loss=tensor(2.0166, device='cuda:0')\n"
     ]
    },
    {
     "name": "stderr",
     "output_type": "stream",
     "text": [
      "100%|██████████████████████████████████| 14/14 [00:27<00:00,  1.97s/it]\n",
      "100%|████████████████████████████████████| 5/5 [00:05<00:00,  1.07s/it]\n"
     ]
    },
    {
     "name": "stdout",
     "output_type": "stream",
     "text": [
      "epoch=36: train_ppl=tensor(4.2214, device='cuda:0') train_epoch_loss=tensor(1.4402, device='cuda:0') eval_ppl=tensor(6.1201, device='cuda:0') eval_epoch_loss=tensor(1.8116, device='cuda:0')\n"
     ]
    },
    {
     "name": "stderr",
     "output_type": "stream",
     "text": [
      "100%|██████████████████████████████████| 14/14 [00:29<00:00,  2.09s/it]\n",
      "100%|████████████████████████████████████| 5/5 [00:05<00:00,  1.11s/it]\n"
     ]
    },
    {
     "name": "stdout",
     "output_type": "stream",
     "text": [
      "epoch=37: train_ppl=tensor(3.4071, device='cuda:0') train_epoch_loss=tensor(1.2258, device='cuda:0') eval_ppl=tensor(5.3079, device='cuda:0') eval_epoch_loss=tensor(1.6692, device='cuda:0')\n"
     ]
    },
    {
     "name": "stderr",
     "output_type": "stream",
     "text": [
      "100%|██████████████████████████████████| 14/14 [00:29<00:00,  2.10s/it]\n",
      "100%|████████████████████████████████████| 5/5 [00:05<00:00,  1.11s/it]\n"
     ]
    },
    {
     "name": "stdout",
     "output_type": "stream",
     "text": [
      "epoch=38: train_ppl=tensor(3.0337, device='cuda:0') train_epoch_loss=tensor(1.1098, device='cuda:0') eval_ppl=tensor(5.0270, device='cuda:0') eval_epoch_loss=tensor(1.6148, device='cuda:0')\n"
     ]
    },
    {
     "name": "stderr",
     "output_type": "stream",
     "text": [
      "100%|██████████████████████████████████| 14/14 [00:29<00:00,  2.09s/it]\n",
      "100%|████████████████████████████████████| 5/5 [00:05<00:00,  1.10s/it]\n"
     ]
    },
    {
     "name": "stdout",
     "output_type": "stream",
     "text": [
      "epoch=39: train_ppl=tensor(2.8117, device='cuda:0') train_epoch_loss=tensor(1.0338, device='cuda:0') eval_ppl=tensor(4.8624, device='cuda:0') eval_epoch_loss=tensor(1.5815, device='cuda:0')\n"
     ]
    },
    {
     "name": "stderr",
     "output_type": "stream",
     "text": [
      "100%|██████████████████████████████████| 14/14 [00:28<00:00,  2.02s/it]\n",
      "100%|████████████████████████████████████| 5/5 [00:05<00:00,  1.06s/it]\n"
     ]
    },
    {
     "name": "stdout",
     "output_type": "stream",
     "text": [
      "epoch=40: train_ppl=tensor(2.6646, device='cuda:0') train_epoch_loss=tensor(0.9801, device='cuda:0') eval_ppl=tensor(4.6564, device='cuda:0') eval_epoch_loss=tensor(1.5382, device='cuda:0')\n"
     ]
    },
    {
     "name": "stderr",
     "output_type": "stream",
     "text": [
      "100%|██████████████████████████████████| 14/14 [00:27<00:00,  1.99s/it]\n",
      "100%|████████████████████████████████████| 5/5 [00:05<00:00,  1.13s/it]\n"
     ]
    },
    {
     "name": "stdout",
     "output_type": "stream",
     "text": [
      "epoch=41: train_ppl=tensor(2.6032, device='cuda:0') train_epoch_loss=tensor(0.9567, device='cuda:0') eval_ppl=tensor(4.6297, device='cuda:0') eval_epoch_loss=tensor(1.5325, device='cuda:0')\n"
     ]
    },
    {
     "name": "stderr",
     "output_type": "stream",
     "text": [
      "100%|██████████████████████████████████| 14/14 [00:25<00:00,  1.80s/it]\n",
      "100%|████████████████████████████████████| 5/5 [00:04<00:00,  1.19it/s]\n"
     ]
    },
    {
     "name": "stdout",
     "output_type": "stream",
     "text": [
      "epoch=42: train_ppl=tensor(2.5436, device='cuda:0') train_epoch_loss=tensor(0.9336, device='cuda:0') eval_ppl=tensor(4.4113, device='cuda:0') eval_epoch_loss=tensor(1.4842, device='cuda:0')\n"
     ]
    },
    {
     "name": "stderr",
     "output_type": "stream",
     "text": [
      "100%|██████████████████████████████████| 14/14 [00:23<00:00,  1.67s/it]\n",
      "100%|████████████████████████████████████| 5/5 [00:04<00:00,  1.14it/s]\n"
     ]
    },
    {
     "name": "stdout",
     "output_type": "stream",
     "text": [
      "epoch=43: train_ppl=tensor(2.4809, device='cuda:0') train_epoch_loss=tensor(0.9086, device='cuda:0') eval_ppl=tensor(4.4103, device='cuda:0') eval_epoch_loss=tensor(1.4839, device='cuda:0')\n"
     ]
    },
    {
     "name": "stderr",
     "output_type": "stream",
     "text": [
      "100%|██████████████████████████████████| 14/14 [00:23<00:00,  1.67s/it]\n",
      "100%|████████████████████████████████████| 5/5 [00:04<00:00,  1.13it/s]\n"
     ]
    },
    {
     "name": "stdout",
     "output_type": "stream",
     "text": [
      "epoch=44: train_ppl=tensor(2.3805, device='cuda:0') train_epoch_loss=tensor(0.8673, device='cuda:0') eval_ppl=tensor(4.3136, device='cuda:0') eval_epoch_loss=tensor(1.4618, device='cuda:0')\n"
     ]
    },
    {
     "name": "stderr",
     "output_type": "stream",
     "text": [
      "100%|██████████████████████████████████| 14/14 [00:22<00:00,  1.64s/it]\n",
      "100%|████████████████████████████████████| 5/5 [00:04<00:00,  1.17it/s]\n"
     ]
    },
    {
     "name": "stdout",
     "output_type": "stream",
     "text": [
      "epoch=45: train_ppl=tensor(2.3345, device='cuda:0') train_epoch_loss=tensor(0.8478, device='cuda:0') eval_ppl=tensor(4.2938, device='cuda:0') eval_epoch_loss=tensor(1.4572, device='cuda:0')\n"
     ]
    },
    {
     "name": "stderr",
     "output_type": "stream",
     "text": [
      "100%|██████████████████████████████████| 14/14 [00:22<00:00,  1.64s/it]\n",
      "100%|████████████████████████████████████| 5/5 [00:04<00:00,  1.14it/s]\n"
     ]
    },
    {
     "name": "stdout",
     "output_type": "stream",
     "text": [
      "epoch=46: train_ppl=tensor(2.3365, device='cuda:0') train_epoch_loss=tensor(0.8487, device='cuda:0') eval_ppl=tensor(4.2390, device='cuda:0') eval_epoch_loss=tensor(1.4443, device='cuda:0')\n"
     ]
    },
    {
     "name": "stderr",
     "output_type": "stream",
     "text": [
      "100%|██████████████████████████████████| 14/14 [00:23<00:00,  1.70s/it]\n",
      "100%|████████████████████████████████████| 5/5 [00:04<00:00,  1.13it/s]\n"
     ]
    },
    {
     "name": "stdout",
     "output_type": "stream",
     "text": [
      "epoch=47: train_ppl=tensor(2.2995, device='cuda:0') train_epoch_loss=tensor(0.8327, device='cuda:0') eval_ppl=tensor(4.1997, device='cuda:0') eval_epoch_loss=tensor(1.4350, device='cuda:0')\n"
     ]
    },
    {
     "name": "stderr",
     "output_type": "stream",
     "text": [
      "100%|██████████████████████████████████| 14/14 [00:22<00:00,  1.63s/it]\n",
      "100%|████████████████████████████████████| 5/5 [00:04<00:00,  1.14it/s]\n"
     ]
    },
    {
     "name": "stdout",
     "output_type": "stream",
     "text": [
      "epoch=48: train_ppl=tensor(2.2469, device='cuda:0') train_epoch_loss=tensor(0.8096, device='cuda:0') eval_ppl=tensor(4.1725, device='cuda:0') eval_epoch_loss=tensor(1.4285, device='cuda:0')\n"
     ]
    },
    {
     "name": "stderr",
     "output_type": "stream",
     "text": [
      "100%|██████████████████████████████████| 14/14 [00:23<00:00,  1.66s/it]\n",
      "100%|████████████████████████████████████| 5/5 [00:04<00:00,  1.16it/s]"
     ]
    },
    {
     "name": "stdout",
     "output_type": "stream",
     "text": [
      "epoch=49: train_ppl=tensor(2.2354, device='cuda:0') train_epoch_loss=tensor(0.8044, device='cuda:0') eval_ppl=tensor(4.1669, device='cuda:0') eval_epoch_loss=tensor(1.4272, device='cuda:0')\n"
     ]
    },
    {
     "name": "stderr",
     "output_type": "stream",
     "text": [
      "\n"
     ]
    }
   ],
   "source": [
    "model = model.to(device)\n",
    "\n",
    "for epoch in range(num_epochs):\n",
    "    model.train()\n",
    "    total_loss = 0\n",
    "    for step, batch in enumerate(tqdm(train_dataloader)):\n",
    "        batch = {k: v.to(device) for k, v in batch.items()}\n",
    "        outputs = model(**batch)\n",
    "        loss = outputs.loss\n",
    "        total_loss += loss.detach().float()\n",
    "        loss.backward()\n",
    "        optimizer.step()\n",
    "        lr_scheduler.step()\n",
    "        optimizer.zero_grad()\n",
    "\n",
    "    model.eval()\n",
    "    eval_loss = 0\n",
    "    eval_preds = []\n",
    "    for step, batch in enumerate(tqdm(eval_dataloader)):\n",
    "        batch = {k: v.to(device) for k, v in batch.items()}\n",
    "        with torch.no_grad():\n",
    "            outputs = model(**batch)\n",
    "        loss = outputs.loss\n",
    "        eval_loss += loss.detach().float()\n",
    "        eval_preds.extend(\n",
    "            tokenizer.batch_decode(torch.argmax(outputs.logits, -1).detach().cpu().numpy(), skip_special_tokens=True)\n",
    "        )\n",
    "\n",
    "    eval_epoch_loss = eval_loss / len(eval_dataloader)\n",
    "    eval_ppl = torch.exp(eval_epoch_loss)\n",
    "    train_epoch_loss = total_loss / len(train_dataloader)\n",
    "    train_ppl = torch.exp(train_epoch_loss)\n",
    "    print(f\"{epoch=}: {train_ppl=} {train_epoch_loss=} {eval_ppl=} {eval_epoch_loss=}\")"
   ]
  },
  {
   "cell_type": "code",
   "execution_count": 30,
   "id": "edb70e4a-51e3-46ef-be31-89f3b8b01a0b",
   "metadata": {},
   "outputs": [],
   "source": [
    "def preprocess_eval(examples):\n",
    "    batch_size = len(examples[text_column])\n",
    "    inputs = [f\"{text_column} : {x} Label : \" for x in examples[text_column]]\n",
    "    model_inputs = tokenizer(inputs)\n",
    "    for i in range(batch_size):\n",
    "        sample_input_ids = model_inputs[\"input_ids\"][i]\n",
    "        # print(i, sample_input_ids, label_input_ids)\n",
    "        model_inputs[\"input_ids\"][i] = sample_input_ids\n",
    "        model_inputs[\"attention_mask\"][i] = [1] * len(model_inputs[\"input_ids\"][i])\n",
    "    # print(model_inputs)\n",
    "    for i in range(batch_size):\n",
    "        sample_input_ids = model_inputs[\"input_ids\"][i]\n",
    "        model_inputs[\"input_ids\"][i] = [tokenizer.pad_token_id] * (\n",
    "            max_length - len(sample_input_ids)\n",
    "        ) + sample_input_ids\n",
    "        model_inputs[\"attention_mask\"][i] = [0] * (max_length - len(sample_input_ids)) + model_inputs[\n",
    "            \"attention_mask\"\n",
    "        ][i]\n",
    "        model_inputs[\"input_ids\"][i] = torch.tensor(model_inputs[\"input_ids\"][i][:max_length])\n",
    "        model_inputs[\"attention_mask\"][i] = torch.tensor(model_inputs[\"attention_mask\"][i][:max_length])\n",
    "    return model_inputs"
   ]
  },
  {
   "cell_type": "code",
   "execution_count": 31,
   "id": "e391e793-a631-46d5-a869-7f5f339b59cc",
   "metadata": {},
   "outputs": [
    {
     "data": {
      "application/vnd.jupyter.widget-view+json": {
       "model_id": "42523d594c01484bbe2aa3513e3dcbb0",
       "version_major": 2,
       "version_minor": 0
      },
      "text/plain": [
       "Running tokenizer on dataset:   0%|          | 0/19 [00:00<?, ? examples/s]"
      ]
     },
     "metadata": {},
     "output_type": "display_data"
    }
   ],
   "source": [
    "processed_eval_datasets = dataset.map(\n",
    "    preprocess_eval,\n",
    "    batched=True,\n",
    "    num_proc=1,\n",
    "    remove_columns=dataset.column_names,\n",
    "    load_from_cache_file=False,\n",
    "    desc=\"Running tokenizer on dataset\",\n",
    ")"
   ]
  },
  {
   "cell_type": "code",
   "execution_count": null,
   "id": "c40ac8fe-9edf-4bcd-983b-4efc475b358b",
   "metadata": {},
   "outputs": [],
   "source": []
  },
  {
   "cell_type": "code",
   "execution_count": 32,
   "id": "026988f7-1583-4e62-bfb5-11c45a199e0f",
   "metadata": {},
   "outputs": [],
   "source": [
    "eval_dataset = processed_eval_datasets.select(range(14,19))"
   ]
  },
  {
   "cell_type": "code",
   "execution_count": 35,
   "id": "a0bbd61e-fd8f-4e40-be6d-e053f3ec5edf",
   "metadata": {},
   "outputs": [],
   "source": [
    "with torch.no_grad():\n",
    "    #inputs = {k: v.to(device) for k, v in eval_dataset}\n",
    "    outputs = model.generate(\n",
    "        input_ids=torch.as_tensor(eval_dataset[\"input_ids\"]).to(device), attention_mask=torch.as_tensor(eval_dataset[\"attention_mask\"]).to(device), max_new_tokens=30, eos_token_id=3\n",
    "    )"
   ]
  },
  {
   "cell_type": "code",
   "execution_count": 36,
   "id": "be714927-0b29-4291-8b12-02376711b9cf",
   "metadata": {},
   "outputs": [
    {
     "name": "stdout",
     "output_type": "stream",
     "text": [
      "[\"text : 1. How relevant is this ad to you?\\n\\nVideo player was slow to load content Video content never loaded Ad froze or did not finish loading Video content did not start after ad Audio on ad was too loud Other issues Label : ['url', 't_mil', 't_civ', 't_industry']ظات: 0<?php\\n/**\\n * Copyright\", \"text : Story highlights The Kurds have been battling ISIS on the ground for months A Kurdish commander describes a recent close fight against the terror group\\n\\nCNN —\\n\\nAt 4 a.m. Wednesday, fog rolled over Ayn al Issa, a desolate stretch about 30 miles outside Raqqa, Syria, the city that ISIS has named its capital.\\n\\nThe Kurdish fighters had not slept. They held their guns and kept watch from the sandbag berm they’d built. They could not afford to lose focus. The enemy, they knew, would likely use the bad weather to  Label : ['url', 't_mil']ッッッMAX_VALUEMAX_VALUEThe present invention relates to a method of preparing a semiconductor device. In particular, the\", 'text : Story highlights Drone footage shows Syrian town of Kobani lying in dusty ruin But a bakery and schools have opened as families begin to come back\\n\\nCNN —\\n\\nThey called it Kobanigrad, the destruction was so complete. Months of coalition airstrikes and ISIS bombing flattening some parts of the town, leaving others uninhabitable. The question so many asked during the fighting was what would the spoils of victory be?\\n\\nKobani: A grim victory in the battle against ISIS\\n\\nNow, however, Kobani is trying to rebuild ag Label : [\\'url\\', \\'t_mil\\', \\'t_loc\\', \\'t_milcas\\'] McDonald\\'sQ: What is the meaning of the word \"good\"', \"text : Story highlights ISIS in control of ancient city, state media reports Militant group in 2015 blew up ancient treasures there\\n\\nCNN —\\n\\nISIS fighters were in fierce clashes with Syrian regime troops Sunday in the ancient city of Palmyra, where the militant group infamously blew up temples and monuments last year, a monitor said.\\n\\nSyrian news agency SANA reported that over 4,000 militants swarmed the city from “various directions,” despite having suffered heavy losses from bombardments by the Syrian air force.  Label : ['url', 't_mil', 't_loc', 't_milcas']ظات: None<?php\\n/**\\n * Zend Framework\", 'text : The arrival of ISIS fighters in Syria\\'s capital raises the stakes for the broader region, directly threatening Syria\\'s government and bringing the terror group closer to some of the region\\'s last stable countries.\\n\\nFighting in and around the Yarmouk refugee area in southern Damascus puts thousands of civilians in serious danger, prompting the United Nations to call Tuesday for an evacuation of the area. And it establishes a new ISIS foothold that\\'s much closer to Jordan, Lebanon and Israel.\\n\\n\"I think this i Label : [\\'url\\', \\'t_mil\\']The invention relates to a method for determining the position of a target in a three-dimensional space. In']\n"
     ]
    }
   ],
   "source": [
    "print(tokenizer.batch_decode(outputs.detach().cpu().numpy(), skip_special_tokens=True))"
   ]
  },
  {
   "cell_type": "code",
   "execution_count": 37,
   "id": "4dffa577-097b-453b-a8d2-9725841027c5",
   "metadata": {},
   "outputs": [
    {
     "data": {
      "text/plain": [
       "[['url', 't_mil'],\n",
       " ['url', 't_mil'],\n",
       " ['t_mil'],\n",
       " ['url', 't_mil', 't_loc', 't_civcas'],\n",
       " ['url', 't_mil', 't_civcas']]"
      ]
     },
     "execution_count": 37,
     "metadata": {},
     "output_type": "execute_result"
    }
   ],
   "source": [
    "dataset['text_labels'][14:19]"
   ]
  },
  {
   "cell_type": "code",
   "execution_count": null,
   "id": "f696772c-38fb-4613-aade-64ba0bcfe6ef",
   "metadata": {},
   "outputs": [],
   "source": []
  },
  {
   "cell_type": "code",
   "execution_count": null,
   "id": "40f2d501-fdc5-4811-b4c4-786062b5b9d6",
   "metadata": {},
   "outputs": [],
   "source": [
    "from huggingface_hub import notebook_login\n",
    "\n",
    "notebook_login()"
   ]
  },
  {
   "cell_type": "code",
   "execution_count": null,
   "id": "9c4f0728-81ad-4b78-a408-a5af54512e64",
   "metadata": {},
   "outputs": [],
   "source": [
    "peft_model_id = \"your-name/bloomz-560m_PROMPT_TUNING_CAUSAL_LM\"\n",
    "model.push_to_hub(\"your-name/bloomz-560m_PROMPT_TUNING_CAUSAL_LM\", use_auth_token=True)"
   ]
  },
  {
   "cell_type": "code",
   "execution_count": null,
   "id": "647d1374-4dea-4306-bc94-f7fb7e9c3acc",
   "metadata": {},
   "outputs": [],
   "source": [
    "from peft import PeftModel, PeftConfig\n",
    "\n",
    "peft_model_id = \"stevhliu/bloomz-560m_PROMPT_TUNING_CAUSAL_LM\"\n",
    "\n",
    "config = PeftConfig.from_pretrained(peft_model_id)\n",
    "model = AutoModelForCausalLM.from_pretrained(config.base_model_name_or_path)\n",
    "model = PeftModel.from_pretrained(model, peft_model_id)"
   ]
  },
  {
   "cell_type": "code",
   "execution_count": 40,
   "id": "c93238af-4320-4866-aee9-b71332f0b96c",
   "metadata": {},
   "outputs": [],
   "source": [
    "inputs = tokenizer(\n",
    "    f'{text_column} : {\"How relevant is this ad to you?\"} Label : ',\n",
    "    return_tensors=\"pt\",\n",
    ")"
   ]
  },
  {
   "cell_type": "code",
   "execution_count": 41,
   "id": "8ecf03d4-fc9e-4aef-93e3-c99c76319ead",
   "metadata": {},
   "outputs": [
    {
     "name": "stdout",
     "output_type": "stream",
     "text": [
      "['text : How relevant is this ad to you? Label : [1, 2, 3, 4, 5,']\n"
     ]
    }
   ],
   "source": [
    "model.to(device)\n",
    "\n",
    "with torch.no_grad():\n",
    "    inputs = {k: v.to(device) for k, v in inputs.items()}\n",
    "    outputs = model.generate(\n",
    "        input_ids=inputs[\"input_ids\"], attention_mask=inputs[\"attention_mask\"], max_new_tokens=10, eos_token_id=3\n",
    "    )\n",
    "    print(tokenizer.batch_decode(outputs.detach().cpu().numpy(), skip_special_tokens=True))"
   ]
  },
  {
   "cell_type": "code",
   "execution_count": null,
   "id": "76b5da45-c670-446a-944f-99445cc9fa91",
   "metadata": {},
   "outputs": [],
   "source": []
  }
 ],
 "metadata": {
  "kernelspec": {
   "display_name": "Python 3 (ipykernel)",
   "language": "python",
   "name": "python3"
  },
  "language_info": {
   "codemirror_mode": {
    "name": "ipython",
    "version": 3
   },
   "file_extension": ".py",
   "mimetype": "text/x-python",
   "name": "python",
   "nbconvert_exporter": "python",
   "pygments_lexer": "ipython3",
   "version": "3.10.9"
  }
 },
 "nbformat": 4,
 "nbformat_minor": 5
}
